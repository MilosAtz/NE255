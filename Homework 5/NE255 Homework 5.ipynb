{
 "cells": [
  {
   "cell_type": "markdown",
   "metadata": {},
   "source": [
    "Milos Atz\n",
    "\n",
    "Due 11/22/2016"
   ]
  },
  {
   "cell_type": "markdown",
   "metadata": {},
   "source": [
    "**1. With the operator form of the Transport Equations**\n",
    "\n",
    "$$\n",
    "\\boldsymbol{L}\\psi=\\boldsymbol{MS}\\phi+\\boldsymbol{M}q_e\n",
    "$$\n",
    "\n",
    "$$\n",
    "\\phi = \\boldsymbol{D}\\psi\n",
    "$$\n",
    "\n",
    "**and given the following discretizations:**\n",
    "* **3 groups**\n",
    "* **$\\boldsymbol{P_2}$ (number of moments is $\\boldsymbol{(N+1)^2)}$**\n",
    "* **$\\boldsymbol{S_2}$ (number of angles is $\\boldsymbol{N(N + 2)}$, with the $N$ being from $S_N$ rather than $P_N$**\n",
    "* **Diamond difference**"
   ]
  },
  {
   "cell_type": "markdown",
   "metadata": {},
   "source": [
    "**(a) Indicate the dimensions of each matrix in Equation 1, using real numbers for what we did generically in class.**"
   ]
  },
  {
   "cell_type": "markdown",
   "metadata": {
    "collapsed": true
   },
   "source": [
    "The granularity of discretization can be used to define the size of the operators:\n",
    "\n",
    "$$\n",
    "\\alpha = G \\times n \\times c \\times u\n",
    "$$\n",
    "\n",
    "and\n",
    "\n",
    "$$\n",
    "\\beta = G \\times N \\times c \\times u\n",
    "$$\n",
    "\n",
    "Where $G$ is the number of energy groups, $N$ is the number of moments, $n$ is the number of angular unknowns, $c$ is the number of cells, and $u$ is the number of unknowns per cell, determined by spatial discretization. Equation 1 can be presented in terms of operator size as follows:\n",
    "\n",
    "$$\n",
    "(\\alpha \\times \\alpha)(\\alpha \\times 1) = \n",
    "(\\alpha \\times \\beta)(\\beta \\times \\beta)(\\beta \\times 1) +\n",
    "(\\alpha \\times \\beta)(\\beta \\times 1)\n",
    "$$\n",
    "\n",
    "In our case, we have $G=3$, $N=(2+1)^2=9$, $n=2(2+2)=8$, $c=4x4x4=64$, and $u = 1$ (the flux)."
   ]
  },
  {
   "cell_type": "code",
   "execution_count": 1,
   "metadata": {
    "collapsed": false
   },
   "outputs": [
    {
     "name": "stdout",
     "output_type": "stream",
     "text": [
      "the dimensions of L are 1536 x 1536\n",
      "the dimensions of psi are 1536 x 1\n",
      "the dimensions of M are 1536 x 1728\n",
      "the dimensions of S are 1728 x 1728\n",
      "the dimensions of phi are 1728 x 1\n",
      "the dimensions of qe are 1728 x 1\n"
     ]
    }
   ],
   "source": [
    "G=3\n",
    "N=(2+1)**2\n",
    "n=(2+2)*2\n",
    "c=4*4*4\n",
    "u=1\n",
    "a = G*n*c*u\n",
    "b = G*N*c*u\n",
    "print('the dimensions of L are '+str(a)+' x '+str(a))\n",
    "print('the dimensions of psi are '+str(a)+' x 1')\n",
    "print('the dimensions of M are '+str(a)+' x '+str(b))\n",
    "print('the dimensions of S are '+str(b)+' x '+str(b))\n",
    "print('the dimensions of phi are '+str(b)+' x 1')\n",
    "print('the dimensions of qe are '+str(b)+' x 1')"
   ]
  },
  {
   "cell_type": "markdown",
   "metadata": {},
   "source": [
    "**(b) Write out the matrices $\\boldsymbol{\\left[M\\right]_{gg}}$, $\\boldsymbol{S}$, and $\\boldsymbol{\\left[S\\right]_{21}}$ as well as the vectors $\\boldsymbol{\\psi}$, $\\boldsymbol{\\left[\\psi\\right]_1}$, and $\\boldsymbol{\\left[\\phi\\right]_{1}}$ to make sure you know what values match with what.**"
   ]
  },
  {
   "cell_type": "markdown",
   "metadata": {
    "collapsed": true
   },
   "source": [
    "$[\\boldsymbol{M}_{gg}]$ is one of the submatrices on the diagonal of $\\boldsymbol{M}$. There are $G$ $[\\boldsymbol{M}_{gg}]$ submatrics in $\\boldsymbol{M}$. The number of rows in $[\\boldsymbol{M}_{gg}]$ is equal to the number of angular unknowns; the number of columns is equal to the number of moments.\n",
    "\n",
    "$$\n",
    "[\\boldsymbol{M}]_{gg}=\\left[\\begin{array}{cc}\n",
    "% row 1\n",
    "Y_{00}^{e}(\\hat{\\Omega}_1) & Y_{10}^{e}(\\hat{\\Omega}_1) & \n",
    "Y_{11}^{o}(\\hat{\\Omega}_1) & Y_{11}^{e}(\\hat{\\Omega}_1) &\n",
    "Y_{20}^{e}(\\hat{\\Omega}_1) & Y_{21}^{o}(\\hat{\\Omega}_1) & \n",
    "Y_{21}^{e}(\\hat{\\Omega}_1) & Y_{22}^{o}(\\hat{\\Omega}_1) &\n",
    "Y_{22}^{e}(\\hat{\\Omega}_1) \\\\\n",
    "% row 2\n",
    "Y_{00}^{e}(\\hat{\\Omega}_2) & Y_{10}^{e}(\\hat{\\Omega}_2) & \n",
    "Y_{11}^{o}(\\hat{\\Omega}_2) & Y_{11}^{e}(\\hat{\\Omega}_2) &\n",
    "Y_{20}^{e}(\\hat{\\Omega}_2) & Y_{21}^{o}(\\hat{\\Omega}_2) & \n",
    "Y_{21}^{e}(\\hat{\\Omega}_2) & Y_{22}^{o}(\\hat{\\Omega}_2) &\n",
    "Y_{22}^{e}(\\hat{\\Omega}_2) \\\\\n",
    "% row 3\n",
    "Y_{00}^{e}(\\hat{\\Omega}_3) & Y_{10}^{e}(\\hat{\\Omega}_3) & \n",
    "Y_{11}^{o}(\\hat{\\Omega}_3) & Y_{11}^{e}(\\hat{\\Omega}_3) &\n",
    "Y_{20}^{e}(\\hat{\\Omega}_3) & Y_{21}^{o}(\\hat{\\Omega}_3) & \n",
    "Y_{21}^{e}(\\hat{\\Omega}_3) & Y_{22}^{o}(\\hat{\\Omega}_3) &\n",
    "Y_{22}^{e}(\\hat{\\Omega}_3) \\\\\n",
    "% row 4\n",
    "Y_{00}^{e}(\\hat{\\Omega}_4) & Y_{10}^{e}(\\hat{\\Omega}_4) & \n",
    "Y_{11}^{o}(\\hat{\\Omega}_4) & Y_{11}^{e}(\\hat{\\Omega}_4) &\n",
    "Y_{20}^{e}(\\hat{\\Omega}_4) & Y_{21}^{o}(\\hat{\\Omega}_4) & \n",
    "Y_{21}^{e}(\\hat{\\Omega}_4) & Y_{22}^{o}(\\hat{\\Omega}_4) &\n",
    "Y_{22}^{e}(\\hat{\\Omega}_4) \\\\\n",
    "% row 5\n",
    "Y_{00}^{e}(\\hat{\\Omega}_5) & Y_{10}^{e}(\\hat{\\Omega}_5) & \n",
    "Y_{11}^{o}(\\hat{\\Omega}_5) & Y_{11}^{e}(\\hat{\\Omega}_5) &\n",
    "Y_{20}^{e}(\\hat{\\Omega}_5) & Y_{21}^{o}(\\hat{\\Omega}_5) & \n",
    "Y_{21}^{e}(\\hat{\\Omega}_5) & Y_{22}^{o}(\\hat{\\Omega}_5) &\n",
    "Y_{22}^{e}(\\hat{\\Omega}_5) \\\\\n",
    "% row 6\n",
    "Y_{00}^{e}(\\hat{\\Omega}_6) & Y_{10}^{e}(\\hat{\\Omega}_6) & \n",
    "Y_{11}^{o}(\\hat{\\Omega}_6) & Y_{11}^{e}(\\hat{\\Omega}_6) &\n",
    "Y_{20}^{e}(\\hat{\\Omega}_6) & Y_{21}^{o}(\\hat{\\Omega}_6) & \n",
    "Y_{21}^{e}(\\hat{\\Omega}_6) & Y_{22}^{o}(\\hat{\\Omega}_6) &\n",
    "Y_{22}^{e}(\\hat{\\Omega}_6) \\\\\n",
    "% row 7\n",
    "Y_{00}^{e}(\\hat{\\Omega}_7) & Y_{10}^{e}(\\hat{\\Omega}_7) & \n",
    "Y_{11}^{o}(\\hat{\\Omega}_7) & Y_{11}^{e}(\\hat{\\Omega}_7) &\n",
    "Y_{20}^{e}(\\hat{\\Omega}_7) & Y_{21}^{o}(\\hat{\\Omega}_7) & \n",
    "Y_{21}^{e}(\\hat{\\Omega}_7) & Y_{22}^{o}(\\hat{\\Omega}_7) &\n",
    "Y_{22}^{e}(\\hat{\\Omega}_7) \\\\\n",
    "% row 8\n",
    "Y_{00}^{e}(\\hat{\\Omega}_8) & Y_{10}^{e}(\\hat{\\Omega}_8) & \n",
    "Y_{11}^{o}(\\hat{\\Omega}_8) & Y_{11}^{e}(\\hat{\\Omega}_8) &\n",
    "Y_{20}^{e}(\\hat{\\Omega}_8) & Y_{21}^{o}(\\hat{\\Omega}_8) & \n",
    "Y_{21}^{e}(\\hat{\\Omega}_8) & Y_{22}^{o}(\\hat{\\Omega}_8) &\n",
    "Y_{22}^{e}(\\hat{\\Omega}_8) \\\\\n",
    "\\end{array} \\right]\n",
    "$$"
   ]
  },
  {
   "cell_type": "markdown",
   "metadata": {},
   "source": [
    "$\\boldsymbol{S}$ is the scattering matrix and consists of many submatrices. There are $G$ rows and $G$ columns in $\\boldsymbol{S}$; each entry is a matrix $[\\boldsymbol{S}]_{gg}$\n",
    "\n",
    "$$\n",
    "\\boldsymbol{S}=\\left[\\begin{array}{cc}\n",
    "[\\boldsymbol{S}]_{11} & [\\boldsymbol{S}]_{12} & [\\boldsymbol{S}]_{13} \\\\\n",
    "[\\boldsymbol{S}]_{21} & [\\boldsymbol{S}]_{22} & [\\boldsymbol{S}]_{23} \\\\\n",
    "[\\boldsymbol{S}]_{31} & [\\boldsymbol{S}]_{22} & [\\boldsymbol{S}]_{33} \\\\\n",
    "\\end{array} \\right]\n",
    "$$\n",
    "\n",
    "$$\n",
    "[\\boldsymbol{S}]_{21}=\\left[\\begin{array}{cc}\n",
    "\\Sigma_{s0}^{21} & 0 & 0 \\\\%& 0 & 0 & 0 \\\\\n",
    "0 & \\Sigma_{s1}^{21} & 0 \\\\%& 0 & 0 & 0 \\\\\n",
    "0 & 0 & \\Sigma_{s2}^{21} \\\\%& 0 & 0 & 0 \\\\\n",
    "%0 & 0 & 0 & \\Sigma_{s3}^{21} & 0 & 0 \\\\\n",
    "%0 & 0 & 0 & 0 & \\Sigma_{s4}^{21} & 0 \\\\\n",
    "\\end{array} \\right]\n",
    "$$"
   ]
  },
  {
   "cell_type": "markdown",
   "metadata": {},
   "source": [
    "The vectors $\\psi$, $\\left[\\psi\\right]_1$, and $\\left[\\phi\\right]_{1}$ are the flux values, group 1 flux values, and group 1 flux moments, respectively. Technically, $\\psi$ includes $\\left[\\psi\\right]_1$.\n",
    "\n",
    "$$\n",
    "\\psi=\\left(\\begin{array}{cc}\n",
    "[\\psi]_1 & [\\psi]_2 & [\\psi]_3 \\\\\n",
    "\\end{array} \\right)^T\n",
    "$$\n",
    "\n",
    "$$\n",
    "[\\psi]_1=\\left(\\begin{array}{cc}\n",
    "\\psi_1^1 & \\psi_2^1 & \\psi_3^1 & \\psi_4^1 & \\psi_5^1 & \\psi_6^1 & \\psi_7^1 & \\psi_8^1\\\\\n",
    "\\end{array} \\right)^T\n",
    "$$\n",
    "\n",
    "$$\n",
    "\\left[\\phi\\right]_1=\\left(\\begin{array}{cc}\n",
    "\\phi^1_{00} & \\phi^1_{10} & \\phi^1_{11} & \\upsilon^1_{11} & \n",
    "\\phi^1_{20} & \\phi^1_{21} & \\upsilon^1_{21} & \\phi^1_{22} & \\upsilon^1_{22}\n",
    "\\end{array} \\right)^T\n",
    "$$\n",
    "\n",
    "In $\\left[\\phi\\right]_1$, $\\phi$ marks the even moments and $\\upsilon$ marks the odd moments."
   ]
  },
  {
   "cell_type": "markdown",
   "metadata": {},
   "source": [
    "**(c) Write what the $\\boldsymbol{D}$ matrix would be.**"
   ]
  },
  {
   "cell_type": "markdown",
   "metadata": {
    "collapsed": true
   },
   "source": [
    "$\\boldsymbol{D}$ is the discrete-to-moment operator; $\\boldsymbol{M}$ is $\\alpha \\times \\alpha$ and $\\boldsymbol{W}$ is a diagonal matrix made up of $ n\\times n$ diagonal matrices of quadrature weights. The diagonal matrices in $\\boldsymbol{W}$ line up with those in $\\boldsymbol{M}$ such that\n",
    "\n",
    "$$\n",
    "\\boldsymbol{D}=\\boldsymbol{M}^T\\boldsymbol{W}=\n",
    "\\Sigma_{a=1}^{n}Y_{lm}^{e/o}w_a\n",
    "$$\n",
    "\n",
    "$$\n",
    "\\boldsymbol{D}=\\left[\\begin{array}{cc}\n",
    "[\\boldsymbol{D}]_{11} & 0 & 0 \\\\\n",
    "0 & [\\boldsymbol{D}]_{22} & 0 \\\\\n",
    "0 & 0 & [\\boldsymbol{D}]_{33} \\\\\n",
    "\\end{array} \\right]\n",
    "$$\n",
    "\n",
    "Because $\\boldsymbol{M}$ is diagonal, this is analogous to saying that for each submatrix $[\\boldsymbol{M}]_{gg}$ in $\\boldsymbol{M}$,\n",
    "\n",
    "$$\n",
    "[\\boldsymbol{D}]_{gg}=[\\boldsymbol{M}]_{gg}^T[\\boldsymbol{W}]_{gg}=\n",
    "\\Sigma_{a=1}^{n}Y_{lm}^{e/o}w_a\n",
    "$$\n",
    "\n",
    "The result is another matrix with submatrices on the diagonal. Now, each submatrix on the diagonal $[\\boldsymbol{D}]_{gg}$ has dimensions $(N \\times n) \\times (n \\times n) = N \\times n$, so the overall matrix $\\boldsymbol{D}$ has dimension $\\beta \\times \\alpha$.\n",
    "\n",
    "$$\n",
    "\\boldsymbol{D}=\\left[\\begin{array}{cc}\n",
    "\\Sigma_{a=1}^{n}Y_{lm}^{e/o}w_a & 0 & 0 \\\\\n",
    "0 & \\Sigma_{a=1}^{n}Y_{lm}^{e/o}w_a & 0 \\\\\n",
    "0 & 0 & \\Sigma_{a=1}^{n}Y_{lm}^{e/o}w_a \\\\\n",
    "\\end{array} \\right]\n",
    "$$"
   ]
  },
  {
   "cell_type": "markdown",
   "metadata": {},
   "source": [
    "**(d) Why don't we form an $\\boldsymbol{L}$ matrix?**"
   ]
  },
  {
   "cell_type": "markdown",
   "metadata": {
    "collapsed": true
   },
   "source": [
    "The $\\boldsymbol{L}$ matrix is very sparse and would be expensive in memory. We can handle the inversion of $\\boldsymbol{L}$ by performing the numerical 'sweeps' through space and angle."
   ]
  },
  {
   "cell_type": "markdown",
   "metadata": {},
   "source": [
    "**(e) Combine Equations (1) and (2) to get a system that looks like $\\boldsymbol{Ax = b}$, writing out the steps.**"
   ]
  },
  {
   "cell_type": "markdown",
   "metadata": {
    "collapsed": true
   },
   "source": [
    "We can combine the equations given above to get the following.\n",
    "\n",
    "$$\n",
    "\\boldsymbol{L}\\psi=\\boldsymbol{MS}\\boldsymbol{D}\\psi+\n",
    "\\boldsymbol{M}q_e\n",
    "$$\n",
    "\n",
    "If $\\boldsymbol{L}\\psi$ is subtracted from both sides, $\\psi$ can be factored from the first two terms on the right hand side.\n",
    "\n",
    "$$\n",
    "0.0 =\\boldsymbol{MS}\\boldsymbol{D}\\psi-\n",
    "\\boldsymbol{L}\\psi+\n",
    "\\boldsymbol{M}q_e\n",
    "$$\n",
    "\n",
    "$$\n",
    "0.0 =\\left[\\boldsymbol{MS}\\boldsymbol{D}-\\boldsymbol{L}\\right]\\psi+\n",
    "\\boldsymbol{M}q_e\n",
    "$$\n",
    "\n",
    "Rearranging into the form $Ax=b$ yields:\n",
    "\n",
    "$$\n",
    "\\left[\\boldsymbol{L}-\\boldsymbol{MS}\\boldsymbol{D}\\right]\\psi=\n",
    "\\boldsymbol{M}q_e\n",
    "$$"
   ]
  },
  {
   "cell_type": "markdown",
   "metadata": {},
   "source": [
    "**2. Implement a Jacobi multigroup solver for the 1D, steady state transport equations with isotropic scattering and an isotropic external source. Use the weighted diamond difference solver you wrote for the previous homework to solve the within group equations (if you are unsure if yours worked let me know) (note: you functionally should have written source iteration). Use the following values and three energy groups:**\n",
    "* $\\boldsymbol{x_0 = 0.0, x_1 = 2.0, h = 0.1}$\n",
    "* $\\boldsymbol{\\alpha = 0.5}$\n",
    "* $\\boldsymbol{\\mu_a = \\pm[0.2, 0.5, 0.7]}$\n",
    "* $\\boldsymbol{\\Sigma_{t1} = 0.5, \\Sigma_{t2} = 0.8, \\Sigma_{t3} = 1.0}$\n",
    "* $\\boldsymbol{\\Sigma_s^{gg'}}$ **values in Table 1**\n",
    "* $\\boldsymbol{q_{e1} = 1.5, q_{e2}= 0.0, q_{e3} = 0.2}$\n",
    "* **left boundary condition is 0.5 incoming in group 1, zero otherwise**\n",
    "\n",
    "**Plot the resulting scalar flux in each energy group as a function of x. Use a convergence tolerance for the multigroup iteration and the scattering iteration of at least $\\boldsymbol{1 × 10^{−4}}$.**"
   ]
  },
  {
   "cell_type": "code",
   "execution_count": 3,
   "metadata": {
    "collapsed": false
   },
   "outputs": [],
   "source": [
    "%matplotlib inline\n",
    "import matplotlib.pyplot as plt\n",
    "import numpy as np"
   ]
  },
  {
   "cell_type": "code",
   "execution_count": 4,
   "metadata": {
    "collapsed": false
   },
   "outputs": [
    {
     "data": {
      "application/javascript": [
       "IPython.OutputArea.auto_scroll_threshold = 9999;"
      ],
      "text/plain": [
       "<IPython.core.display.Javascript object>"
      ]
     },
     "metadata": {},
     "output_type": "display_data"
    }
   ],
   "source": [
    "%%javascript\n",
    "IPython.OutputArea.auto_scroll_threshold = 9999;"
   ]
  },
  {
   "cell_type": "markdown",
   "metadata": {},
   "source": [
    "This function solves for the flux over the spatial mesh using WDD. This function is called repeatedly in the space-angle iterations to resolve the source in each group within each outer iteration."
   ]
  },
  {
   "cell_type": "code",
   "execution_count": 5,
   "metadata": {
    "collapsed": true
   },
   "outputs": [],
   "source": [
    "import numpy as np\n",
    "# Function that solves for the flux over the spatial mesh, given inputs\n",
    "def wdd(cells, h, alpha, sigma_t, sourceVector, incomingFlux, mu):\n",
    "    ######################################################################################\n",
    "    # SUPPORTING FUNCTIONS FOR THE MAIN WDD FUNCTION\n",
    "    #------------------------------------------------------------------------------------#\n",
    "    def center_flux(incomingFlux, source, xs, alpha, h, mu):\n",
    "    # returns the cell-centered flux from a single mesh cell\n",
    "        if(mu > 0):\n",
    "            cellCenteredFlux = (source+(2*abs(mu)*(incomingFlux)/(1+alpha)/h))\\\n",
    "                                /(xs+(2*abs(mu)/(1+alpha)/h))\n",
    "        if(mu < 0):\n",
    "            cellCenteredFlux = (source+(2*abs(mu)*(incomingFlux)/(1-alpha)/h))\\\n",
    "                               /(xs+(2*abs(mu)/(1-alpha)/h))\n",
    "        return(cellCenteredFlux)\n",
    "    #------------------------------------------------------------------------------------#\n",
    "    def outgoing_flux(incomingFlux, cellCenteredFlux, source, xs, alpha, h, mu):\n",
    "        # returns the outgoing flux from a single mesh cell\n",
    "        if(mu > 0):\n",
    "            outgoingFlux = 2*cellCenteredFlux/(1+alpha)-(1-alpha)*incomingFlux/(1+alpha)\n",
    "        if(mu < 0):\n",
    "            outgoingFlux = 2*cellCenteredFlux/(1-alpha)-(1+alpha)*incomingFlux/(1-alpha)\n",
    "        return(outgoingFlux)\n",
    "    ######################################################################################\n",
    "    # MAIN WDD FUNCTION: returns a single iteration for flux in both directions given mu\n",
    "    # note that source is an array over all cells\n",
    "    def wdd_iter(cells, h, sigma_t, source, angle, inwardflux):\n",
    "        #sweep to the left\n",
    "        angle = abs(angle)\n",
    "        lFlux = np.zeros(len(cells))\n",
    "        hFlux = inwardflux # incoming flux at the left bound\n",
    "        for i in range(0, len(lFlux)):\n",
    "            lFlux[i] = center_flux(hFlux, source[i], sigma_t, alpha, h, angle)\n",
    "            hFlux = outgoing_flux(hFlux, lFlux[i], source[i], sigma_t, alpha, h, angle)\n",
    "        #-----------------------------------------------------------------------#\n",
    "        # sweep to the right\n",
    "        angle = -abs(angle)\n",
    "        rFlux = np.zeros(len(cells))\n",
    "        # incoming flux at the RHS is the outgoing flux from opp. dir.\n",
    "        for i in range(0, len(rFlux))[::-1]:\n",
    "            rFlux[i] = center_flux(hFlux, source[i], sigma_t, alpha, h, angle)\n",
    "            hFlux = outgoing_flux(hFlux, rFlux[i], source[i], sigma_t, alpha, h, angle)\n",
    "        return(lFlux, rFlux)\n",
    "    cells = mesh(xmin, xmax, h)\n",
    "    return(wdd_iter(cells, h, sigma_t, sourceVector, mu, incomingFlux))"
   ]
  },
  {
   "cell_type": "markdown",
   "metadata": {},
   "source": [
    "I just tossed this here - this function creates the mesh based on specifications of 1D space. It returns the cell centers."
   ]
  },
  {
   "cell_type": "code",
   "execution_count": 6,
   "metadata": {
    "collapsed": true
   },
   "outputs": [],
   "source": [
    "def mesh(xmin, xmax, h):\n",
    "    # determine cell-center x values\n",
    "    nCells = int((xmax-xmin)/h)\n",
    "    cellCenters = np.zeros(nCells)\n",
    "    for i in range(0, nCells):\n",
    "        cellCenters[i] = round((i+1)*h-(h/2.0), 4)\n",
    "    return(cellCenters)"
   ]
  },
  {
   "cell_type": "markdown",
   "metadata": {},
   "source": [
    "Function to perform quadrature integration"
   ]
  },
  {
   "cell_type": "code",
   "execution_count": 7,
   "metadata": {
    "collapsed": true
   },
   "outputs": [],
   "source": [
    "def quad_int(fluxes, wts):\n",
    "    # returns sum_a=1^N(psi_a*w_a)\n",
    "    for i in range(0, len(fluxes)):\n",
    "        fluxes[i]=wts[i]*fluxes[i]\n",
    "    return(np.sum(fluxes, axis=0))"
   ]
  },
  {
   "cell_type": "markdown",
   "metadata": {},
   "source": [
    "This function guesses the scattering source. Based on the previous flux result it produces sources in the specified group that can be used to start the inner space-angle iterations."
   ]
  },
  {
   "cell_type": "code",
   "execution_count": 81,
   "metadata": {
    "collapsed": true
   },
   "outputs": [],
   "source": [
    "def guess_s_source(sigma_s, muVector, mgflux, egroup):\n",
    "    ######################################################################################\n",
    "    # returns a guess scattering source in each mesh cell for the input energy group\n",
    "    ######################################################################################\n",
    "    # select xs and source based on energy group of interest\n",
    "    sigma_s = sigma_s[egroup,:]\n",
    "    num_e_grps=len(sigma_s)\n",
    "    #------------------------------------------------------------------------------------#\n",
    "    s_source = [0]*num_e_grps\n",
    "    # calculate source contribution from each energy group\n",
    "    for i in range(0, num_e_grps):\n",
    "        #print('egroup = '+str(i))\n",
    "        #print(mgflux[i])\n",
    "        s_source[i] = (sigma_s[i]/2.0)*mgflux[i]\n",
    "    # to account for scattering contributions from all energies, just sum in each cell\n",
    "    return(np.sum(s_source, axis=0))"
   ]
  },
  {
   "cell_type": "markdown",
   "metadata": {},
   "source": [
    "This function performs the within-group space-angle iterations (similar to what was in HW4, but I had to tweak it quite a bit to get it to fit these circumstances)."
   ]
  },
  {
   "cell_type": "code",
   "execution_count": 82,
   "metadata": {
    "collapsed": false
   },
   "outputs": [],
   "source": [
    "def within_group_iteration(cells, h, alpha, sigma_t, sigma_s, muVector, mgfluxVals, egroup, \\\n",
    "                        sourceGuess, ext_source, qs_tol=1e-5):\n",
    "    ######################################################################################\n",
    "    # returns the spatial flux for the specified energy group\n",
    "    ######################################################################################\n",
    "    # cells is a vector of x values for position of the center of cells\n",
    "    # h is the cell spacing\n",
    "    # alpha is the weight\n",
    "    # sigma_t is a vector of total xs at each energy\n",
    "    # sigma_s is an array of scattering xs g'->g\n",
    "    # muVector is a vector of the absolute values of mu (negatives are implied)\n",
    "    # mgflux is a dictionary of the multigroup flux values from the previous energy \n",
    "    #   iteration (if the first iteration, mgflux is just zeros)\n",
    "    ######################################################################################\n",
    "#     def scattering_sources(xs_s, fluxes, wts):\n",
    "#         # returns the scattering source in each mesh cell\n",
    "#         # qs = (Sigma_s/4pi)*2pi+sum_a=1^N(psi_a*w_a)\n",
    "#         fluxes = quad_int(fluxes, wts)\n",
    "#         return((xs_s/2.0)*fluxes)\n",
    "    #------------------------------------------------------------------------------------#    \n",
    "    # determine the weights; these sum to 2.0 and are equal for all angles\n",
    "    weights = np.ones(2*len(muVector))/len(muVector)\n",
    "    #------------------------------------------------------------------------------------#\n",
    "    # select xs and source based on energy group of interest; note that here the xs_s\n",
    "    # is a single value, because we are only solving for in-group scattering\n",
    "    #sigma_s = sigma_s[egroup,egroup]\n",
    "    #sigma_t = sigma_t[egroup]\n",
    "    #ext_source = externalSource[egroup]\n",
    "    s_source_new = sourceGuess\n",
    "    #------------------------------------------------------------------------------------#\n",
    "    # pre allocate flux object\n",
    "    flux = {}\n",
    "    for mu in muVector:\n",
    "        flux[mu]=[]\n",
    "        flux[-mu]=[np.zeros(len(cells))]\n",
    "    if(egroup == 0):\n",
    "        leftboundflux = 0.5\n",
    "    else:\n",
    "        leftboundflux = 0.0\n",
    "    #------------------------------------------------------------------------------------#\n",
    "    error = 1.0 # arbitrary\n",
    "    counter = 0 # iteration counter\n",
    "    while(error > qs_tol):\n",
    "        counter = counter+1\n",
    "        #print('inner counter = '+str(counter))\n",
    "        s_source_old = s_source_new\n",
    "        source = ext_source+s_source_old\n",
    "        #print(np.average(source))\n",
    "        # over all angles...\n",
    "        for mu in muVector:\n",
    "            # calculate the flux with the new source; update in multigroup\n",
    "            flux[mu], flux[-mu]=wdd(cells, h, alpha, sigma_t, source, leftboundflux, mu)\n",
    "        # update the source to get an even newer source\n",
    "        newflux = quad_int(flux.values(), weights)\n",
    "        mgfluxVals[egroup]=newflux\n",
    "        s_source_new = guess_s_source(sigma_s, muVector, mgfluxVals, egroup)\n",
    "        # s_source_new = scattering_sources(sigma_s, flux.values(), weights)\n",
    "        # calculate error over the space\n",
    "        error = np.linalg.norm(s_source_new - s_source_old)\n",
    "    # flux = quad_int(flux.values(), weights)\n",
    "    # print('within group '+str(egroup)+' convergence in '+str(counter)+' iterations.')\n",
    "    return(newflux)"
   ]
  },
  {
   "cell_type": "markdown",
   "metadata": {},
   "source": [
    "This function performs outer iterations over energy groups. The iterations are Jacobi in nature even though I never form any of the matrices. Jacobi iteration involves using the $k$ iteration on the scattering side of the TE (RHS in our derivation) to find the $k+1$ iteration on the transport side of the TE (the LHS in our derivation). In this function, the a guess for the source is computed based on the old flux, starting with $k=0$, and then the flux is found in the within-group space-angle iterations, where $k=1$."
   ]
  },
  {
   "cell_type": "code",
   "execution_count": 83,
   "metadata": {
    "collapsed": true
   },
   "outputs": [],
   "source": [
    "def outer_group_jacobi(xmin, xmax, h, alpha, sigma_t, sigma_s, muVector, \\\n",
    "                       externalSource, tol=1e-5):\n",
    "    #------------------------------------------------------------------------------------#\n",
    "    cells = mesh(xmin, xmax, h)\n",
    "    #------------------------------------------------------------------------------------#\n",
    "    mgflux = {}\n",
    "    for i in range(0, len(sigma_t)):\n",
    "        mgflux[i]=np.zeros(len(cells))\n",
    "    #------------------------------------------------------------------------------------#\n",
    "    def check_convergence(newSourceGuesses, oldSourceGuesses, tolerance):\n",
    "        # there should be the same number of source vectors as there are energy groups\n",
    "        conv=[False]*len(newSourceGuesses)\n",
    "        for i in range(0, len(newSourceGuesses)):\n",
    "            # if convergence hasn't been reached, no further checks should be done\n",
    "            # print(newSourceGuesses)\n",
    "            # print(oldSourceGuesses)\n",
    "            #print(np.linalg.norm(newSourceGuesses[i]-oldSourceGuesses[i]))\n",
    "            if(np.linalg.norm(newSourceGuesses[i]-oldSourceGuesses[i]) < tolerance):\n",
    "                conv[i]=True\n",
    "        if(sum(conv)==len(newSourceGuesses)):\n",
    "            return(True)\n",
    "        else:\n",
    "            return(False)  \n",
    "    #------------------------------------------------------------------------------------#\n",
    "#     old_source = []\n",
    "#     for i in range(0, len(sigma_t)):\n",
    "#         old_source.append()\n",
    "    #------------------------------------------------------------------------------------#\n",
    "    tempflux = {}\n",
    "    for i in range(0, len(sigma_t)):\n",
    "        tempflux[i]=[]\n",
    "    counter = 0\n",
    "    convergence = False\n",
    "    while(convergence == False):\n",
    "        counter = counter+1\n",
    "        #print('outer counter = '+str(counter))\n",
    "        #--------------------------------------------------------------------------------#\n",
    "        # for each energy group, generate the initial source guesses\n",
    "        old_source = []\n",
    "        for i in range(0, len(sigma_t)):\n",
    "            old_source.append([])\n",
    "            old_source[i]=guess_s_source(sigma_s, muVector, mgflux, i)\n",
    "        #--------------------------------------------------------------------------------#\n",
    "        # for each energy group, calculate the flux based on the source guess\n",
    "        for i in range(0, len(sigma_t)):\n",
    "            # compute the LHS (spatial transport, k+1 iterate)\n",
    "            tempflux[i] = within_group_iteration(cells, h, alpha, sigma_t[i], sigma_s, \\\n",
    "                                               muVector, mgflux, i, old_source[i], \\\n",
    "                                               externalSource[i])\n",
    "        #--------------------------------------------------------------------------------#\n",
    "        # update source and flux and check for convergence (RHS, kth iterate)\n",
    "        nextSourceGuess = []\n",
    "        for i in range(0, len(sigma_t)):\n",
    "            nextSourceGuess.append([])\n",
    "            nextSourceGuess[i]=guess_s_source(sigma_s, muVector, tempflux, i)\n",
    "            mgflux[i]=tempflux[i]\n",
    "        #--------------------------------------------------------------------------------#\n",
    "        # update fluxes\n",
    "        \n",
    "        #print('oldsource')\n",
    "        #print(old_source)\n",
    "        #print('newsource')\n",
    "        #print(nextSourceGuess)\n",
    "        convergence = check_convergence(nextSourceGuess, old_source, tol)\n",
    "        old_source = nextSourceGuess\n",
    "    #------------------------------------------------------------------------------------#\n",
    "    print('outer convergence reached in '+str(counter)+' iteration(s).')\n",
    "    return(cells, mgflux)"
   ]
  },
  {
   "cell_type": "code",
   "execution_count": 84,
   "metadata": {
    "collapsed": false
   },
   "outputs": [],
   "source": [
    "# initialize values\n",
    "alpha = 0.5\n",
    "xmin, xmax, h = 0.0, 2.0, 0.1\n",
    "muVals = np.array([0.2, 0.5, 0.7]) # plus/minus is implied\n",
    "sigma_t = np.array([0.5, 0.8, 1.0])\n",
    "sigma_s = np.array([[0.1, 0.0, 0.0],[0.3, 0.1, 0.1], [0.1, 0.3, 0.3]])\n",
    "qe = np.array([1.5, 0.0, 0.2])"
   ]
  },
  {
   "cell_type": "code",
   "execution_count": 85,
   "metadata": {
    "collapsed": false
   },
   "outputs": [
    {
     "name": "stdout",
     "output_type": "stream",
     "text": [
      "outer convergence reached in 6 iteration(s).\n"
     ]
    }
   ],
   "source": [
    "pts, flux = outer_group_jacobi(xmin, xmax, h, alpha, sigma_t, sigma_s, muVals, qe)"
   ]
  },
  {
   "cell_type": "code",
   "execution_count": 96,
   "metadata": {
    "collapsed": false
   },
   "outputs": [
    {
     "data": {
      "text/plain": [
       "<matplotlib.legend.Legend at 0x10d59b1d0>"
      ]
     },
     "execution_count": 96,
     "metadata": {},
     "output_type": "execute_result"
    },
    {
     "data": {
      "image/png": "[encoded data removed]",
      "text/plain": [
       "<matplotlib.figure.Figure at 0x10d5b4c50>"
      ]
     },
     "metadata": {},
     "output_type": "display_data"
    },
    {
     "data": {
      "image/png": "[encoded data removed]",
      "text/plain": [
       "<matplotlib.figure.Figure at 0x10e9567d0>"
      ]
     },
     "metadata": {},
     "output_type": "display_data"
    }
   ],
   "source": [
    "plt.figure()\n",
    "plt.plot(pts, np.sum(flux.values(), axis=0))\n",
    "plt.xlabel('x', size = 'large')\n",
    "plt.ylabel('flux', size = 'large')\n",
    "plt.figtext(0.7, 0.7, 'total flux', size = 'x-large')\n",
    "\n",
    "plt.figure()\n",
    "plt.plot(pts, flux[0], label='group 1')\n",
    "plt.plot(pts, flux[1], label='group 2') \n",
    "plt.plot(pts, flux[2], label='group 3')\n",
    "plt.xlabel('x', size = 'large')\n",
    "plt.ylabel('flux', size = 'large')\n",
    "plt.legend(loc='upper center', bbox_to_anchor=(0.5, -0.15), fancybox=True, shadow=True, ncol=5)\n",
    "# FANCY BOX!"
   ]
  },
  {
   "cell_type": "markdown",
   "metadata": {},
   "source": [
    "This looks like an appropriate flux shape; the scattering "
   ]
  },
  {
   "cell_type": "code",
   "execution_count": null,
   "metadata": {
    "collapsed": true
   },
   "outputs": [],
   "source": []
  }
 ],
 "metadata": {
  "anaconda-cloud": {},
  "kernelspec": {
   "display_name": "Python [Root]",
   "language": "python",
   "name": "Python [Root]"
  },
  "language_info": {
   "codemirror_mode": {
    "name": "ipython",
    "version": 2
   },
   "file_extension": ".py",
   "mimetype": "text/x-python",
   "name": "python",
   "nbconvert_exporter": "python",
   "pygments_lexer": "ipython2",
   "version": "2.7.12"
  }
 },
 "nbformat": 4,
 "nbformat_minor": 0
}
