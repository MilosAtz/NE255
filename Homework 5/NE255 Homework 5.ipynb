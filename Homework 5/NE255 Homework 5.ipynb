{
 "cells": [
  {
   "cell_type": "markdown",
   "metadata": {},
   "source": [
    "Milos Atz\n",
    "\n",
    "Due 11/22/2016"
   ]
  },
  {
   "cell_type": "markdown",
   "metadata": {},
   "source": [
    "**1. With the operator form of the Transport Equations**\n",
    "\n",
    "$$\n",
    "\\boldsymbol{L}\\psi=\\boldsymbol{MS}\\phi+\\boldsymbol{M}q_e\n",
    "$$\n",
    "\n",
    "$$\n",
    "\\phi = \\boldsymbol{D}\\psi\n",
    "$$\n",
    "\n",
    "**and given the following discretizations:**\n",
    "* **3 groups**\n",
    "* **$\\boldsymbol{P_2}$ (number of moments is $\\boldsymbol{(N+1)^2)}$**\n",
    "* **$\\boldsymbol{S_2}$ (number of angles is $\\boldsymbol{N(N + 2)}$, with the $N$ being from $S_N$ rather than $P_N$**\n",
    "* **Diamond difference**"
   ]
  },
  {
   "cell_type": "markdown",
   "metadata": {},
   "source": [
    "**(a) Indicate the dimensions of each matrix in Equation 1, using real numbers for what we did generically in class.**"
   ]
  },
  {
   "cell_type": "code",
   "execution_count": null,
   "metadata": {
    "collapsed": true
   },
   "outputs": [],
   "source": []
  },
  {
   "cell_type": "markdown",
   "metadata": {},
   "source": [
    "**(b) Write out the matrices $\\boldsymbol{\\left[M\\right]_{gg}}$, $\\boldsymbol{S}$, and $\\boldsymbol{\\left[S\\right]_{21}}$ as well as the vectors $\\boldsymbol{\\psi}$, $\\boldsymbol{\\left[\\psi\\right]_1}$, and $\\boldsymbol{\\left[\\phi\\right]_{1}}$ to make sure you know what values match with what.**"
   ]
  },
  {
   "cell_type": "code",
   "execution_count": null,
   "metadata": {
    "collapsed": true
   },
   "outputs": [],
   "source": []
  },
  {
   "cell_type": "markdown",
   "metadata": {},
   "source": [
    "**(c) Write what the $\\boldsymbol{D}$ matrix would be.**"
   ]
  },
  {
   "cell_type": "code",
   "execution_count": null,
   "metadata": {
    "collapsed": true
   },
   "outputs": [],
   "source": []
  },
  {
   "cell_type": "markdown",
   "metadata": {},
   "source": [
    "**(d) Why don't we form an $\\boldsymbol{L}$ matrix?**"
   ]
  },
  {
   "cell_type": "code",
   "execution_count": null,
   "metadata": {
    "collapsed": true
   },
   "outputs": [],
   "source": []
  },
  {
   "cell_type": "markdown",
   "metadata": {},
   "source": [
    "**(e) Combine Equations (1) and (2) to get a system that looks like $\\boldsymbol{Ax = b}, writing out the steps.**"
   ]
  },
  {
   "cell_type": "code",
   "execution_count": null,
   "metadata": {
    "collapsed": true
   },
   "outputs": [],
   "source": []
  },
  {
   "cell_type": "markdown",
   "metadata": {},
   "source": [
    "**2. Implement a Jacobi multigroup solver for the 1D, steady state transport equations with isotropic scattering and an isotropic external source. Use the weighted diamond difference solver you wrote for the previous homework to solve the within group equations (if you are unsure if yours worked let me know) (note: you functionally should have written source iteration). Use the following values and three energy groups:**\n",
    "* $\\boldsymbol{x_0 = 0.0, x_1 = 2.0, h = 0.1}$\n",
    "* $\\boldsymbol{\\alpha = 0.5}$\n",
    "* $\\boldsymbol{\\mu_a = \\pm[0.2, 0.5, 0.7]}$\n",
    "* $\\boldsymbol{\\Sigma_{t1} = 0.5, \\Sigma_{t2} = 0.8, \\Sigma_{t3} = 1.0}$\n",
    "* $\\boldsymbol{\\Sigma_s^{gg'}}$ **values in Table 1**\n",
    "* $\\boldsymbol{q_{e1} = 1.5, q_{e2}= 0.0, q_{e3} = 0.2}$\n",
    "* **left boundary condition is 0.5 incoming in group 1, zero otherwise**\n",
    "\n",
    "**Plot the resulting scalar flux in each energy group as a function of x. Use a convergence tolerance for the multigroup iteration and the scattering iteration of at least $\\boldsymbol{1 × 10^{−4}}$.**"
   ]
  },
  {
   "cell_type": "code",
   "execution_count": null,
   "metadata": {
    "collapsed": true
   },
   "outputs": [],
   "source": []
  }
 ],
 "metadata": {
  "anaconda-cloud": {},
  "kernelspec": {
   "display_name": "Python [Root]",
   "language": "python",
   "name": "Python [Root]"
  },
  "language_info": {
   "codemirror_mode": {
    "name": "ipython",
    "version": 2
   },
   "file_extension": ".py",
   "mimetype": "text/x-python",
   "name": "python",
   "nbconvert_exporter": "python",
   "pygments_lexer": "ipython2",
   "version": "2.7.12"
  }
 },
 "nbformat": 4,
 "nbformat_minor": 0
}
