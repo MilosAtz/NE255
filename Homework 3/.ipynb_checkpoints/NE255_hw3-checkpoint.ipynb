{
 "cells": [
  {
   "cell_type": "markdown",
   "metadata": {},
   "source": [
    "NE255 Homework 3\n",
    "\n",
    "Milos Atz"
   ]
  },
  {
   "cell_type": "markdown",
   "metadata": {},
   "source": [
    "**1. Derive the 1st order form of $\\boldsymbol{SP_5}$ with isotropic source and vacuum boundary conditions.**"
   ]
  },
  {
   "cell_type": "markdown",
   "metadata": {
    "collapsed": true
   },
   "source": [
    "We're going to employ the heuristic derivation of the $SP_5$ equations. Let's consider the $P_N$ equations for $l' = 0, 1, ...$\n",
    "\n",
    "$$\n",
    "\\left(\\frac{l'+1}{2l'+1}\\right)\\frac{d}{d x}\\phi_{l'+1}(x) + \\left(\\frac{l'}{2l'+1}\\right)\\frac{d}{d x}\\phi_{l'-1}(x) + \\Sigma_t(x) \\phi_{l'} = \\Sigma_{sl'}(x)\\phi_{l'}(x) + s_{l'}(x)\n",
    "$$\n",
    "\n",
    "with $\\phi_{-1}=0$ and $\\phi_{N+1} = 0$ or $\\frac{d}{dx}\\phi_{N+1}=0$."
   ]
  },
  {
   "cell_type": "markdown",
   "metadata": {},
   "source": [
    "To generate the $SP_N$ equations from this, we make two transformations to generalize the equation into 3D space. The first is on $\\phi_{l'}$. For odd values of $l'$, $\\phi_{l'} \\rightarrow \\vec{\\phi}_{l'} = (\\phi_{l'}^x,\\phi_{l'}^y,\\phi_{l'}^z)^t$.\n",
    "\n",
    "The second transformation is to change how we treat the derivative on $x$. In the even $l'$ equations, the derivative on $x$ is replaced by a divergence operator: $\\frac{d}{dx} \\rightarrow \\nabla \\cdot$; in the odd $l'$ equations, that derivative is changed to a gradient: $\\frac{d}{dx} \\rightarrow \\nabla$.\n"
   ]
  },
  {
   "cell_type": "markdown",
   "metadata": {},
   "source": [
    "Thus, the first-order form of the $SP_N$ equations is:\n",
    "\n",
    "$$\n",
    "\\nabla \\cdot \\vec{\\phi}_1 + \\Sigma_a\\phi_0 = s_0\n",
    "$$\n",
    "\n",
    "$$\n",
    "\\left(\\frac{l'+1}{2l'+1}\\right)\\nabla\\phi_{l'+1} + \\left(\\frac{l'}{2l'+1}\\right)\\nabla\\phi_{l'-1} + \\Sigma_t \\vec{\\phi}_{l'} = \\Sigma_{sl'}\\vec{\\phi}_{l'} + s_{l'} \\space\\space \\text{for odd $l'$,}\n",
    "$$\n",
    "\n",
    "$$\n",
    "\\left(\\frac{l'+1}{2l'+1}\\right)\\nabla\\cdot\\vec{\\phi}_{l'+1} + \\left(\\frac{l'}{2l'+1}\\right)\\nabla\\cdot\\vec{\\phi}_{l'-1} + \\Sigma_t \\phi_{l'} = \\Sigma_{sl'}\\phi_{l'} + s_{l'} \\space\\space \\text{for even $l'>0$.}\n",
    "$$"
   ]
  },
  {
   "cell_type": "markdown",
   "metadata": {},
   "source": [
    "Assuming an isotropic source (for $l'>0, s_{l'} =0$), we can write the $SP_5$ equations in their first order form as follows:\n",
    "\n",
    "$$\n",
    "\\nabla \\cdot \\vec{\\phi}_1 + \\Sigma_a\\phi_0 = s_0\n",
    "$$\n",
    "\n",
    "$$\n",
    "\\frac{2}{3}\\nabla\\phi_{2} + \\frac{1}{3}\\nabla\\phi_{0} +\n",
    "\\left[\\Sigma_t-\\Sigma_{s1}\\right]\\vec{\\phi}_{1} = 0\n",
    "$$\n",
    "\n",
    "$$\n",
    "\\frac{3}{5}\\nabla\\cdot\\vec{\\phi}_{3} + \\frac{2}{5}\\nabla\\cdot\\vec{\\phi}_{1} + \n",
    "\\left[\\Sigma_t-\\Sigma_{s2}\\right]\\phi_{2} = 0\n",
    "$$\n",
    "\n",
    "$$\n",
    "\\frac{4}{7}\\nabla\\phi_{4} + \\frac{3}{7}\\nabla\\phi_{2} +\n",
    "\\left[\\Sigma_t-\\Sigma_{s3}\\right]\\vec{\\phi}_{3} = 0\n",
    "$$\n",
    "\n",
    "$$\n",
    "\\frac{5}{9}\\nabla\\cdot\\vec{\\phi}_{5} + \\frac{4}{9}\\nabla\\cdot\\vec{\\phi}_{3} + \n",
    "\\left[\\Sigma_t-\\Sigma_{s4}\\right]\\phi_{4} = 0\n",
    "$$\n",
    "\n",
    "$$\n",
    "\\frac{5}{11}\\nabla\\phi_{4} +\n",
    "\\left[\\Sigma_t-\\Sigma_{s5}\\right]\\vec{\\phi}_{5} = 0\n",
    "$$\n",
    "\n",
    "Note that $\\phi_{-1} = \\phi_{N+1=6} = 0$."
   ]
  },
  {
   "cell_type": "markdown",
   "metadata": {},
   "source": [
    "We want to include vacuum boundary conditions; for this, we consider the Marshak boundary conditions for the $P_N$ equations. The half-range moments of $\\psi$, the angular flux, are equated with the incoming angular flux at the boundary, $\\Psi^-$. For an $N$th order expansion where $N$ is odd, there are $(N+1)/2$ boundary conditions:\n",
    "\n",
    "$$\n",
    "2\\pi \\int_{0}^{\\pm1} P_{2m-1}(\\mu)\\psi^d\\mu = \\sum_{n=0}^{N}\\frac{2n+1}{2}\\phi_n(x)\\int_0^{\\pm1}P_{2m-1}(\\mu)P_n(x)d\\mu\n",
    "$$\n",
    "$$\n",
    "= 2\\pi \\int_{0}^{\\pm1} P_{2m-1}(\\mu)\\Psi^-(x,\\mu)d\\mu\n",
    "$$\n",
    "\n",
    "for x = 0, X (the boundaries) and $m = 1, 2, \\dots, (N+1)/2$. "
   ]
  },
  {
   "cell_type": "markdown",
   "metadata": {},
   "source": [
    "To adjust these to the $SP_N$ equations, we make some simple replacements. We replace the \\phi_n with the $SP_N$ unknowns and $\\mu$ with $\\hat{n}\\cdot\\hat{\\Omega}$ ($\\hat{n}$ is the unit inward normal to the boundary).\n",
    "\n",
    "$$\n",
    "\\sum_{n \\text{ even}}^N\\frac{2n+1}{4\\pi}\\phi_n(\\vec{r})\\int_{\\hat{n}\\cdot\\hat{\\Omega}>0}P_{2m-1}(\\hat{n}\\cdot\\hat{\\Omega})P_n(\\hat{n}\\cdot\\hat{\\Omega})d^2\\hat{\\Omega}+\\\\\n",
    "\\sum_{n \\text{ odd}}^N\\frac{2n+1}{4\\pi}\\hat{n}\\cdot\\vec{\\phi}_n(\\vec{r})\\int_{\\hat{n}\\cdot\\hat{\\Omega}>0}P_{2m-1}(\\hat{n}\\cdot\\hat{\\Omega})P_n(\\hat{n}\\cdot\\hat{\\Omega})d^2\\hat{\\Omega}=\\\\\n",
    "\\int_{\\hat{n}\\cdot\\hat{\\Omega}>0}P_{2m-1}(\\hat{n}\\cdot\\hat{\\Omega})\\Psi^-(\\hat{n}\\cdot\\hat{\\Omega})d^2\\hat{\\Omega}\n",
    "$$\n",
    "\n",
    "for $\\vec{r} \\in d\\Gamma$ and $m = 1, 2, \\dots, (N+1)/2$.\n",
    "\n",
    "These boundary conditions are a collection of 1-D Marshak BCs where the $SP_N$ unknowns can be interpreted as components of a Legendre polynomial expansion.\n",
    "\n",
    "For more information about the Marshak BCs, I referred to the following:\n",
    "http://www.tandfonline.com/doi/pdf/10.1080/00411450.2010.535088?needAccess=true\n",
    "http://www.casl.gov/docs/CASL-U-2014-0352-000.pdf"
   ]
  },
  {
   "cell_type": "markdown",
   "metadata": {},
   "source": [
    "**2. Consider the integral**\n",
    "\n",
    "$$\n",
    "\\int_{4\\pi}{d\\hat{\\Omega}\\space\\hat{\\Omega}}\n",
    "$$\n",
    "\n",
    "**The LQ$\\boldsymbol{_N}$ quadrature set is given in Figure 1. Recall that $\\boldsymbol{\\mu_i = \\eta_i = \\xi_i}$ for a given level, $\\boldsymbol{i}$.**"
   ]
  },
  {
   "cell_type": "markdown",
   "metadata": {},
   "source": [
    "$\\quad$**(a) Use the $\\boldsymbol{S_4}$ LQ$\\boldsymbol{_N}$ quadrature set to execute this integral**"
   ]
  },
  {
   "cell_type": "markdown",
   "metadata": {},
   "source": [
    "|   Level    |      n     | $\\boldsymbol{\\mu_n}$ | $\\boldsymbol{w^b_n}$ |\n",
    "|:----------:|:----------:|:-------------------:|:--------------------:|\n",
    "|  $S_4$     |      1     |      0.3500212      |      0.3333333       |\n",
    "|            |      2     |      0.8688903      |      $\\space$        |\n",
    "|  $S_6$     |      1     |      0.2666355      |      0.1761263       |\n",
    "|            |      2     |      0.6815076      |      0.1572071       |\n",
    "|            |      3     |      0.9261808      |      $\\space$        |\n",
    "\n",
    "In this problem, the quadrature set is taking the place of integration. The function $\\hat{\\Omega}$ is evaluated at the quadrature points and multiplied by a weight. This is repeated for each octant.\n",
    "\n",
    "$$\n",
    "\\int_{4\\pi}{d\\hat{\\Omega}\\space\\hat{\\Omega}} = \\sum_{i} \\omega_i \\Omega_i\n",
    "$$\n",
    "\n",
    "In this case,\n",
    "\n",
    "$$\n",
    "\\hat{\\Omega} = \\sqrt{\\mu^2 + \\eta^2 + \\xi^2}\n",
    "$$\n",
    "\n",
    "Here, because we are considering the level symmetric case for $S_4$, we know that $\\mu_1 = \\eta_1 = \\xi_1$ and $\\mu_2 = \\eta_2 = \\xi_2$. However, what we don't know is what combination of points ($\\mu, \\eta, \\xi$) we should put together to get the proper result. In addition, while we know that the magnitude of each is the same, we also must consider the sign of each depending on what octant we're considering.\n",
    "\n",
    "In $S_4$, each quadrature point gets the same weight. In the octant where all $\\mu, \\eta, \\xi$ are positive, the points that should be chosen are: ($\\mu_1, \\eta_1, \\xi_2$), ($\\mu_2, \\eta_1, \\xi_1$), and ($\\mu_1, \\eta_2, \\xi_1$). This was determined by creating a sketch similar to that in Lewis and Miller, pg. 159. This sketch is shown below:"
   ]
  },
  {
   "cell_type": "markdown",
   "metadata": {},
   "source": [
    "<img src=\"s4.jpg\">"
   ]
  },
  {
   "cell_type": "markdown",
   "metadata": {},
   "source": [
    "Each of these points gets a weight of $\\frac{1}{3}$. For the purposes of brevity, because all angle cosines of equal level are the same in the level symmetric quadrature, we will refer to the points as $\\mu_i$.\n",
    "\n",
    "For this octant, the evaluation is as follows:\n",
    "\n",
    "$$\n",
    "\\frac{1}{3}\\sqrt{\\mu_1^2+\\eta_1^2+\\xi_2^2}+\\frac{1}{3}\\sqrt{\\mu_2^2+\\eta_1^2+\\xi_1^2}+\\frac{1}{3}\\sqrt{\\mu_1^2+\\eta_2^2+\\xi_1^2}\n",
    "$$\n",
    "\n",
    "This should be repeated in the 7 remaining octants. In each, the sign of one of the angles will change, which will change the result. Octants will be by the label (+/- +/- +/-), corresponding to which sign of the direction cosines in that octant. The octant above was (+++).\n",
    "\n",
    "The math is carried out explicitly in the code below."
   ]
  },
  {
   "cell_type": "code",
   "execution_count": 180,
   "metadata": {
    "collapsed": false
   },
   "outputs": [],
   "source": [
    "import math\n",
    "mu1 = 0.3500212\n",
    "mu2 = 0.8688903\n",
    "eta1 =0.3500212\n",
    "eta2 = 0.8688903\n",
    "xi1 = 0.3500212\n",
    "xi2 = 0.8688903\n",
    "w = 0.333333333\n",
    "lqn4 = {}\n",
    "# The octant we solved above\n",
    "lqn4['+++'] = w*math.sqrt(mu1**2+eta1**2+xi2**2)+\\\n",
    "    w*math.sqrt(mu2**2+eta1**2+xi1**2)+\\\n",
    "    w*math.sqrt(mu1**2+eta2**2+xi1**2)\n",
    "# In this next octant, mu is negative while eta and xi are still positive\n",
    "lqn4['-++'] = w*math.sqrt((-mu1)**2+eta1**2+xi2**2)+\\\n",
    "    w*math.sqrt((-mu2)**2+eta1**2+xi1**2)+\\\n",
    "    w*math.sqrt((-mu1)**2+eta2**2+xi1**2)\n",
    "# In this octant, eta is negative while mu and xi are still positive\n",
    "lqn4['+-+'] = w*math.sqrt(mu1**2+(-eta1)**2+xi2**2)+\\\n",
    "    w*math.sqrt(mu2**2+(-eta1)**2+xi1**2)+\\\n",
    "    w*math.sqrt(mu1**2+(-eta2)**2+xi1**2)\n",
    "# In this octant, xi is negative while mu and xi are still positive\n",
    "lqn4['++-'] = w*math.sqrt(mu1**2+eta1**2+(-xi2)**2)+\\\n",
    "    w*math.sqrt(mu2**2+eta1**2+(-xi1)**2)+\\\n",
    "    w*math.sqrt(mu1**2+eta2**2+(-xi1)**2)\n",
    "# Now, mu and eta are negative while xi is positive.\n",
    "lqn4['--+'] = w*math.sqrt(+(-mu1)**2+(-eta1)**2+xi2**2)+\\\n",
    "    w*math.sqrt((-mu2)**2+(-eta1)**2+xi1**2)+\\\n",
    "    w*math.sqrt((-mu1)**2+(-eta2)**2+xi1**2)\n",
    "# Here, mu and xi are negative while eta is positive.\n",
    "lqn4['-+-'] = w*math.sqrt(+(-mu1)**2+eta1**2+(-xi2)**2)+\\\n",
    "    w*math.sqrt((-mu2)**2+eta1**2+(-xi1)**2)+\\\n",
    "    w*math.sqrt((-mu1)**2+eta2**2+(-xi1)**2)\n",
    "# mu is positive while eta and xi are negative\n",
    "lqn4['+--'] = w*math.sqrt(mu1**2+(-eta1)**2+(-xi2)**2)+\\\n",
    "    w*math.sqrt(mu2**2+(-eta1)**2+(-xi1)**2)+\\\n",
    "    w*math.sqrt(mu1**2+(-eta2)**2+(-xi1)**2)\n",
    "# # Finally, all are negative\n",
    "lqn4['---'] = w*math.sqrt((-mu1)**2+(-eta1)**2+(-xi2)**2)+\\\n",
    "    w*math.sqrt((-mu2)**2+(-eta1)**2+(-xi1)**2)+\\\n",
    "    w*math.sqrt((-mu1)**2+(-eta2)**2+(-xi1)**2)"
   ]
  },
  {
   "cell_type": "markdown",
   "metadata": {},
   "source": [
    "To get the final result, we sum all the values from each octant"
   ]
  },
  {
   "cell_type": "code",
   "execution_count": 181,
   "metadata": {
    "collapsed": false
   },
   "outputs": [
    {
     "name": "stdout",
     "output_type": "stream",
     "text": [
      "8.00000012933\n"
     ]
    }
   ],
   "source": [
    "print(sum(lqn4.values()))"
   ]
  },
  {
   "cell_type": "markdown",
   "metadata": {},
   "source": [
    "Clearly, however, this should be $4\\pi$. Thus, we multiply the sum by a normalization constant, $c=\\frac{4\\pi}{8}$."
   ]
  },
  {
   "cell_type": "code",
   "execution_count": 182,
   "metadata": {
    "collapsed": false
   },
   "outputs": [
    {
     "name": "stdout",
     "output_type": "stream",
     "text": [
      "12.5663708175\n"
     ]
    }
   ],
   "source": [
    "c = 4*math.pi/8\n",
    "print(c*sum(lqn4.values()))"
   ]
  },
  {
   "cell_type": "markdown",
   "metadata": {},
   "source": [
    "$\\quad$**(b) Repeat it with $\\boldsymbol{S_6}$. What do you observe?**"
   ]
  },
  {
   "cell_type": "markdown",
   "metadata": {},
   "source": [
    "The combination of points can be identified by drawing another picture similar to that in Lewis and Miller."
   ]
  },
  {
   "cell_type": "markdown",
   "metadata": {},
   "source": [
    "<img src=\"s6.jpg\">"
   ]
  },
  {
   "cell_type": "markdown",
   "metadata": {},
   "source": [
    "As shown above, the point combinations and their associated weights are:\n",
    "* ($\\mu_1, \\eta_1, \\xi_3$); $w = w_1$\n",
    "* ($\\mu_1, \\eta_2, \\xi_2$); $w = w_2$\n",
    "* ($\\mu_1, \\eta_3, \\xi_1$); $w = w_1$\n",
    "* ($\\mu_2, \\eta_1, \\xi_2$); $w = w_2$\n",
    "* ($\\mu_2, \\eta_2, \\xi_1$); $w = w_2$\n",
    "* ($\\mu_3, \\eta_1, \\xi_1$); $w = w_1$\n",
    "\n",
    "We can utilize the same explicit calculation method as before. However, more points will have to be added to the summation within each octant. In addition, this time we have to consider different weights."
   ]
  },
  {
   "cell_type": "code",
   "execution_count": 186,
   "metadata": {
    "collapsed": true
   },
   "outputs": [],
   "source": [
    "# Define everything as lists; slightly prettier that way (still ugly tho)\n",
    "# 0th index left blank because I want things to correspond to the 1, 2, and 3\n",
    "# indices used above.\n",
    "mu = ['lol', 0.2666355, 0.6815076, 0.9261808]\n",
    "eta = ['rofl', 0.2666355, 0.6815076, 0.9261808]\n",
    "xi = ['lmao', 0.2666355, 0.6815076, 0.9261808]\n",
    "w = ['herpderp', 0.1761263, 0.1572071]\n",
    "lqn6 = {}"
   ]
  },
  {
   "cell_type": "code",
   "execution_count": 196,
   "metadata": {
    "collapsed": false
   },
   "outputs": [
    {
     "name": "stdout",
     "output_type": "stream",
     "text": [
      "12.5663717764\n"
     ]
    }
   ],
   "source": [
    "lqn6['+++'] = w[1]*math.sqrt(mu[1]**2+eta[1]**2+xi[3]**2) + w[2]*math.sqrt(mu[1]**2+eta[2]**2+xi[2]**2)+\\\n",
    "    w[1]*math.sqrt(mu[1]**2+eta[3]**2+xi[1]**2) + w[2]*math.sqrt(mu[2]**2+eta[1]**2+xi[2]**2)+\\\n",
    "    w[2]*math.sqrt(mu[2]**2+eta[2]**2+xi[1]**2) + w[1]*math.sqrt(mu[3]**2+eta[1]**2+xi[1]**2)\n",
    "# In this next octant, mu is negative while eta and xi are still positive\n",
    "lqn6['-++'] = w[1]*math.sqrt((-mu[1])**2+eta[1]**2+xi[3]**2) + w[2]*math.sqrt((-mu[1])**2+eta[2]**2+xi[2]**2)+\\\n",
    "    w[1]*math.sqrt((-mu[1])**2+eta[3]**2+xi[1]**2) + w[2]*math.sqrt((-mu[2])**2+eta[1]**2+xi[2]**2)+\\\n",
    "    w[2]*math.sqrt((-mu[2])**2+eta[2]**2+xi[1]**2) + w[1]*math.sqrt((-mu[3])**2+eta[1]**2+xi[1]**2)\n",
    "# In this octant, eta is negative while mu and xi are still positive\n",
    "lqn6['+-+'] = w[1]*math.sqrt(mu[1]**2+(-eta[1])**2+xi[3]**2) + w[2]*math.sqrt(mu[1]**2+(-eta[2])**2+xi[2]**2)+\\\n",
    "    w[1]*math.sqrt(mu[1]**2+(-eta[3])**2+xi[1]**2) + w[2]*math.sqrt(mu[2]**2+(-eta[1])**2+xi[2]**2)+\\\n",
    "    w[2]*math.sqrt(mu[2]**2+(-eta[2])**2+xi[1]**2) + w[1]*math.sqrt(mu[3]**2+(-eta[1])**2+xi[1]**2)\n",
    "# In this octant, xi is negative while mu and xi are still positive\n",
    "lqn6['++-'] = w[1]*math.sqrt(mu[1]**2+eta[1]**2+(-xi[3])**2) + w[2]*math.sqrt(mu[1]**2+eta[2]**2+(-xi[2])**2)+\\\n",
    "    w[1]*math.sqrt(mu[1]**2+eta[3]**2+(-xi[1])**2) + w[2]*math.sqrt(mu[2]**2+eta[1]**2+(-xi[2])**2)+\\\n",
    "    w[2]*math.sqrt(mu[2]**2+eta[2]**2+(-xi[1])**2) + w[1]*math.sqrt(mu[3]**2+eta[1]**2+(-xi[1])**2)\n",
    "# Now, mu and eta are negative while xi is positive.\n",
    "lqn6['--+'] = w[1]*math.sqrt((-mu[1])**2+(-eta[1])**2+xi[3]**2) + w[2]*math.sqrt((-mu[1])**2+(-eta[2])**2+xi[2]**2)+\\\n",
    "    w[1]*math.sqrt((-mu[1])**2+(-eta[3])**2+xi[1]**2) + w[2]*math.sqrt((-mu[2])**2+(-eta[1])**2+xi[2]**2)+\\\n",
    "    w[2]*math.sqrt((-mu[2])**2+(-eta[2])**2+xi[1]**2) + w[1]*math.sqrt((-mu[3])**2+(-eta[1])**2+xi[1]**2)\n",
    "    # Here, mu and xi are negative while eta is positive.\n",
    "lqn6['-+-'] = w[1]*math.sqrt((-mu[1])**2+eta[1]**2+(-xi[3])**2) + w[2]*math.sqrt((-mu[1])**2+eta[2]**2+(-xi[2])**2)+\\\n",
    "    w[1]*math.sqrt((-mu[1])**2+eta[3]**2+(-xi[1])**2) + w[2]*math.sqrt((-mu[2])**2+eta[1]**2+(-xi[2])**2)+\\\n",
    "    w[2]*math.sqrt((-mu[2])**2+eta[2]**2+(-xi[1])**2) + w[1]*math.sqrt((-mu[3])**2+eta[1]**2+(-xi[1])**2)\n",
    "# mu is positive while eta and xi are negative\n",
    "lqn6['+--'] = w[1]*math.sqrt(mu[1]**2+(-eta[1])**2+(-xi[3])**2) + w[2]*math.sqrt(mu[1]**2+(-eta[2])**2+(-xi[2])**2)+\\\n",
    "    w[1]*math.sqrt(mu[1]**2+(-eta[3])**2+(-xi[1])**2) + w[2]*math.sqrt(mu[2]**2+(-eta[1])**2+(-xi[2])**2)+\\\n",
    "    w[2]*math.sqrt(mu[2]**2+(-eta[2])**2+(-xi[1])**2) + w[1]*math.sqrt(mu[3]**2+(-eta[1])**2+(-xi[1])**2)\n",
    "# Finally, all are negative\n",
    "lqn6['---'] = w[1]*math.sqrt((-mu[1])**2+(-eta[1])**2+(-xi[3])**2) + w[2]*math.sqrt((-mu[1])**2+(-eta[2])**2+(-xi[2])**2)+\\\n",
    "    w[1]*math.sqrt((-mu[1])**2+(-eta[3])**2+(-xi[1])**2) + w[2]*math.sqrt((-mu[2])**2+(-eta[1])**2+(-xi[2])**2)+\\\n",
    "    w[2]*math.sqrt((-mu[2])**2+(-eta[2])**2+(-xi[1])**2) + w[1]*math.sqrt((-mu[3])**2+(-eta[1])**2+(-xi[1])**2)\n",
    "\n",
    "# Again, we must normalize by the same constant\n",
    "print(c*sum(lqn6.values()))"
   ]
  },
  {
   "cell_type": "markdown",
   "metadata": {},
   "source": [
    "Performing this integral with $S_4$ and $S_6$ quadrature, we see that the result is the same, as it should be equal to  $4\\pi$."
   ]
  },
  {
   "cell_type": "markdown",
   "metadata": {},
   "source": [
    "$\\quad$**(c) Write a short code to execute this integration (and higher orders if you’d like). Try a few different     functions. Turn in the code and the evaluation of these functions. Include comments on what you observe.**"
   ]
  },
  {
   "cell_type": "code",
   "execution_count": 202,
   "metadata": {
    "collapsed": false
   },
   "outputs": [
    {
     "data": {
      "text/plain": [
       "12.566370614359172"
      ]
     },
     "execution_count": 202,
     "metadata": {},
     "output_type": "execute_result"
    }
   ],
   "source": [
    "def integrate_lqn(order, fxn):\n",
    "    # The order is the quadrature order, S_order\n",
    "    # The function is the one that should be integrated;\n",
    "    # for example, in (a) and (b) the function was f = sqrt(mu^2+eta^2+xi^2)\n",
    "    # The function is evaluated at the quadrature points and weighted.\n",
    "    # *** The function MUST take in three values! ***\n",
    "    \n",
    "    # We can predefine the mu values and weights according to the table. \n",
    "    # Depending on the requested order, the appropriate array is chosen.\n",
    "    mu_n = {}\n",
    "    mu_n[2] = [1/math.sqrt(3.0)]\n",
    "    mu_n[4] = [0.3500212, 0.8688903]\n",
    "    mu_n[6] = [0.2666355, 0.6815076, 0.9261808]    \n",
    "    w = {}\n",
    "    w[2] = [1.0]\n",
    "    w[4] = [0.3333333]           \n",
    "    w[6] = [0.1761263, 0.1572071]\n",
    "    # Normalization constant\n",
    "    cnorm = 4*math.pi/8\n",
    "    # number of octants (if i can figure out how to loop this guy)\n",
    "    n_octants = 8\n",
    "    # Need to cover all octants: +++, +-+, ++-, +--, -+-, --+, ---\n",
    "    tot = 0.0\n",
    "    if order == 2:\n",
    "        # +++\n",
    "        tot = fxn(mu_n[2][0], mu_n[2][0], mu_n[2][0])\n",
    "        # -++\n",
    "        tot += fxn(-mu_n[2][0], mu_n[2][0], mu_n[2][0])\n",
    "        # +-+\n",
    "        tot += fxn(mu_n[2][0], -mu_n[2][0], mu_n[2][0])\n",
    "        # ++-\n",
    "        tot += fxn(mu_n[2][0], mu_n[2][0], -mu_n[2][0])\n",
    "        # --+\n",
    "        tot += fxn(-mu_n[2][0], -mu_n[2][0], mu_n[2][0])\n",
    "        # -+-\n",
    "        tot += fxn(-mu_n[2][0], mu_n[2][0], -mu_n[2][0])\n",
    "        # +--\n",
    "        tot += fxn(mu_n[2][0], -mu_n[2][0], -mu_n[2][0])\n",
    "        # ---\n",
    "        tot += fxn(-mu_n[2][0], -mu_n[2][0], -mu_n[2][0])\n",
    "        return(cnorm*tot)\n",
    "    elif order == 4:\n",
    "        tot = function(mu_n[2][0], mu_n[2][0], mu_n[2][0])\n",
    "        return('assface')\n",
    "        \n",
    "        \n",
    "def testf(mu, eta, xi):\n",
    "    return(math.sqrt(mu**2+eta**2+xi**2))\n",
    "\n",
    "integrate_lqn(2, testf)\n",
    "        \n",
    "        # permute the \n",
    "        "
   ]
  },
  {
   "cell_type": "markdown",
   "metadata": {},
   "source": [
    "**3.**\n",
    "\n",
    "**$\\quad$(a) Briefly compare the diffusion equation, deterministic methods, and monte carlo methods in terms of complexity, accuracy, run time, and range of applicability.**"
   ]
  },
  {
   "cell_type": "markdown",
   "metadata": {},
   "source": [
    "The diffusion equation is a simplified form of the transport equation. Angular dependence is removed and so only the scalar flux is given as a solution. In this way, it is not very complex nor accurate, but it is much more straightforward to solve than the full TE (so run time is short). The assumptions used to derive the diffusion equation from the TE are applicable when the solution is not near:\n",
    "\n",
    "* a void\n",
    "* boundaries\n",
    "* sources\n",
    "* strong absorbers\n",
    "\n",
    "The diffusion equation can take into account discretization in energy (few-group) to increase accuracy while still providing a simple and fast solution.\n",
    "\n",
    "Deterministic solutions to the TE involve discretizing all independent variables - space, direction (discrete ordinates or spherical harmonics) and energy (multi-group). The size of the problem and the quality and behavior of the solutions are governed by the discretization. As such, the solutions can range from simple (coarse meshes in all variables, simplifications such as symmetry, etc) to very difficult (thousands of spatial mesh points and complex expansions of energy and angle). Due to these complexities, the run time is longer than anything involving the diffusion equation, but in return one gets a much more accurate result.\n",
    "\n",
    "In Monte Carlo methods, the physics of every interaction of every particle are sampled in order to determine statistical quantities of interest. Because MC relies on sampling, the independent variables (space, energy, angle) can be treated as continuous, and, for well-posed problems, can result in a very accurate solution. The MC methodology is fairly simple and the process is easy to parallelize, but the inputs can be complex. The run time can be very long because enough samples need to be taken so the results can be statistically significant. If an MC problem is ill-posed or too few particles are simulated, the results can be very inaccurate."
   ]
  },
  {
   "cell_type": "markdown",
   "metadata": {},
   "source": [
    "**$\\quad$(b) Given what you’ve learned about deterministic methods so far, discuss strengths and weaknesses.**"
   ]
  },
  {
   "cell_type": "markdown",
   "metadata": {},
   "source": [
    "Deterministic methods offer (relatively) fast and global solutions to the TE. In addition, the solution quality is the same over the entire simulated phase space (space, energy, and angle). Inputs can be simple.\n",
    "\n",
    "However, the discretization governs the solution quality, and fine meshes can be complicated. Depending on solution strategy, numerical anamolies can arise. For example, ray effects occur when using a discrete ordinates methods because the flux is only solved along specific angles and can result in weird flux shapes. In addition, the solution contains truncation error. Contrary to MC methods, deterministic methods can be difficult to parallelize.\n",
    "\n"
   ]
  },
  {
   "cell_type": "markdown",
   "metadata": {},
   "source": [
    "**4. Write a function that generates the associated Legendre Polynomials:**\n",
    "\n",
    "$$\n",
    "P^m_l(x)=\\frac{(-1)^m}{2^ll!}(1-x^2)^{m/2}\\frac{d^{l+m}}{dx^{l+m}}(x^2-1)^l\n",
    "$$"
   ]
  },
  {
   "cell_type": "code",
   "execution_count": 14,
   "metadata": {
    "collapsed": false
   },
   "outputs": [],
   "source": [
    "# function to perform combinatorics; i.e. \"n choose r\"\n",
    "# http://stackoverflow.com/questions/4941753/is-there-a-math-ncr-function-in-python\n",
    "import operator as op\n",
    "def ncr(n, r):\n",
    "    r = min(r, n-r)\n",
    "    if(r == 0): \n",
    "        return 1\n",
    "    numer = reduce(op.mul, xrange(n, n-r, -1))\n",
    "    denom = reduce(op.mul, xrange(1, r+1))\n",
    "    return(numer//denom)\n",
    "\n",
    "def det_bin_coeffs(l):\n",
    "    # This function determines the coefficients of the polynomial\n",
    "    # (x^2-1)^l according to the binomial coefficient\n",
    "    # https://en.wikipedia.org/wiki/Binomial_coefficient\n",
    "    nterms = int(2*abs(l)+1)\n",
    "    coeffs = [0]*nterms\n",
    "    for i in range(0, nterms):\n",
    "        if(i%2==1):\n",
    "            # no odd exponents in polynomial\n",
    "            continue\n",
    "        else:\n",
    "            # if exponent is even, assign it a coefficient according to\n",
    "            # the binomial series\n",
    "            if((i/2)%2==1):\n",
    "                coeffs[i]=-ncr(int(l), i/2)\n",
    "            else:\n",
    "                coeffs[i]=ncr(int(l), i/2)\n",
    "    # the above generated the coeffs from highest to lowest. For the\n",
    "    # numpy differentiation, we need them from lowest to highest; thus\n",
    "    # we return the reverse.\n",
    "    return(coeffs[::-1])\n",
    "\n",
    "import math\n",
    "import numpy as np\n",
    "from numpy import polyval\n",
    "from numpy.polynomial import polynomial as P\n",
    "\n",
    "def Plm(l, m):\n",
    "    l=float(l)\n",
    "    m=float(m)\n",
    "    def assoc_leg_poly(x):    \n",
    "        # P = value of fxn @ x\n",
    "        # make l and m floats\n",
    "        a = ((-1)**m)/(2**l*math.factorial(l))\n",
    "        b = (1-x**2)**(m/2)\n",
    "        c = np.polyval(P.polyder(det_bin_coeffs(l),l+m)[::-1], x)\n",
    "        # print(str(a)+'   '+str(b)+'   '+str(c))\n",
    "        return(a*b*c)\n",
    "    # return the function that takes x input and yields Plm\n",
    "    return(assoc_leg_poly)\n",
    "\n",
    "# NOTE: Python defines 0**0 = 1.0"
   ]
  },
  {
   "cell_type": "markdown",
   "metadata": {},
   "source": [
    "**Use this function in a function that generates spherical harmonics:**\n",
    "\n",
    "$$\n",
    "Y_{lm}(\\theta, \\varphi)=(-1)^m\\sqrt{\\frac{2l+1}{4\\pi}\\frac{(l-m)!}{(l+m)!}}P_{lm}(cos(\\theta)e^{im\\varphi}\n",
    "$$"
   ]
  },
  {
   "cell_type": "markdown",
   "metadata": {},
   "source": [
    "The spherical harmonics will be split into $m = 0$, $m =$ even, and $m =$ odd components. This moves the imaginary parts under the square root so we can put them in code. Because they will be later dropped (since our solution is only real), we can incorporate logic to neglect them. "
   ]
  },
  {
   "cell_type": "code",
   "execution_count": 111,
   "metadata": {
    "collapsed": false
   },
   "outputs": [],
   "source": [
    "def kron_delt(a,b):\n",
    "    if(a == b):\n",
    "        return(1.0)\n",
    "    else:\n",
    "        return(0.0)\n",
    "\n",
    "import cmath\n",
    "def sph_harmonic(l, m):\n",
    "    l = float(l)\n",
    "    m = float(m)\n",
    "    # Test that l and m are appropriately specified?\n",
    "    def Ylm(theta, phi):\n",
    "        a = (-1)**m\n",
    "        b = math.sqrt((2*l+1)*math.factorial(l-m)/(4*math.pi)/math.factorial(l+m))\n",
    "        try:\n",
    "            c = Plm(l,m)(math.cos(theta))*cmath.exp(cmath.sqrt(-1)*m*phi)\n",
    "        except:\n",
    "            ZeroDivisionError\n",
    "            c = 0.0\n",
    "        return(a*b*c)\n",
    "    return(Ylm)\n",
    "        "
   ]
  },
  {
   "cell_type": "code",
   "execution_count": 116,
   "metadata": {
    "collapsed": false
   },
   "outputs": [
    {
     "data": {
      "text/plain": [
       "0j"
      ]
     },
     "execution_count": 116,
     "metadata": {},
     "output_type": "execute_result"
    }
   ],
   "source": [
    "sph_harmonic(1,1)(math.pi,math.pi)"
   ]
  },
  {
   "cell_type": "markdown",
   "metadata": {},
   "source": [
    "$\\quad$ **(a) Generate and plot the following $\\boldsymbol{l = 0, 1, 2}$ for $\\boldsymbol{−l \\leq m \\leq l}$ (recall we can relate the negative $\\boldsymbol{m}$ to positive $\\boldsymbol{m}$ values). You will need to discretize $\\boldsymbol{\\theta}$ and $\\boldsymbol{\\varphi}$ fairly finely (30 increments in each to start to get a sense of the shape of the harmonics).**\n"
   ]
  },
  {
   "cell_type": "code",
   "execution_count": 113,
   "metadata": {
    "collapsed": false
   },
   "outputs": [
    {
     "name": "stdout",
     "output_type": "stream",
     "text": [
      "0j\n"
     ]
    }
   ],
   "source": [
    "import scipy\n",
    "from scipy.special import sph_harm\n",
    "print(sph_harm(-1, 1, 2*math.pi, math.pi))\n"
   ]
  },
  {
   "cell_type": "code",
   "execution_count": 134,
   "metadata": {
    "collapsed": false
   },
   "outputs": [
    {
     "name": "stdout",
     "output_type": "stream",
     "text": [
      "0,0\n",
      "1,-1\n",
      "1,0\n",
      "1,1\n",
      "2,-2\n",
      "2,-1\n",
      "2,0\n",
      "2,1\n",
      "2,2\n"
     ]
    }
   ],
   "source": [
    "# NOTE: Plotting these in python is hard. I mimickek the code on this \n",
    "# site to do this; some of it, like the actual plotting code, I just\n",
    "# copied and pasted and then coded around.\n",
    "# http://balbuceosastropy.blogspot.com/2015/06/spherical-harmonics-in-python.html\n",
    "\n",
    "# FOR TESTING\n",
    "# -------------------------------------\n",
    "import scipy\n",
    "from scipy.special import sph_harm\n",
    "# -------------------------------------\n",
    "\n",
    "# Set up the space in which the spherical harmonics are plotted\n",
    "# This is the mesh grid that is used to plot the points\n",
    "phi, theta = np.mgrid[0:2*np.pi:200j, 0:np.pi:100j]\n",
    "# The theta and phi vectors is used in the loop to calculate the values \n",
    "# of the spherical harmonic; I know it's confusing to have both, but\n",
    "# the plotting requires the mesh grid and my spherical harmonic function\n",
    "# doesn't take arrays as inputs.\n",
    "thetaFUCK = np.linspace(0, np.pi, 100)\n",
    "phiSHIT = np.linspace(0, 2*np.pi, 200)\n",
    "# Y is defined as a dictionary. The keys of the dictionary are to\n",
    "# be 'lm' corresponding to the degree and order of the spherical\n",
    "# harmonic. The value in the dictionary is an array that holds the \n",
    "# points. \n",
    "Y = {}\n",
    "# we're interesed in l between 0 and 2\n",
    "l = [0, 1, 2]\n",
    "# Before we get into the loop, we have to make three more dictionaries;\n",
    "# these will correspond to the cartesian points for each spherical harmonic\n",
    "# lm. \n",
    "xpts = {}\n",
    "ypts = {}\n",
    "zpts = {}\n",
    "    # points into cartesian points. This is d\n",
    "for degree in l:\n",
    "    # m is given as -l <= m <= l\n",
    "    for order in range(-degree, degree+1):\n",
    "        # specify the dictionary key\n",
    "        key = str(degree)+','+str(order)\n",
    "        # preallocate the array\n",
    "        Y[key] = np.zeros((len(thetaFUCK), len(phiSHIT)))\n",
    "        # now, for that array, we iterate over all values of theta and phi\n",
    "        # to calculate the spherical harmonic entries of the array.\n",
    "        #print key\n",
    "        for i in range(0, len(thetaFUCK)):\n",
    "            for j in range(0, len(phiSHIT)):\n",
    "                # Take the absolute value of the spherical harmonic; elminates the imaginary part\n",
    "                try:\n",
    "                    Y[key][i,j] = abs(sph_harmonic(degree,order)(thetaFUCK[i],phiSHIT[j]))\n",
    "                    #Y[key][i,j] = abs(sph_harm(order, degree, phiSHIT[j], thetaFUCK[i]))\n",
    "                except:\n",
    "                    print(str(i)+'   '+str(j))\n",
    "        # for the purposes of plotting, we transpose the array\n",
    "        Y[key] = np.transpose(Y[key])\n",
    "        # now, we transfer the spherical harmonic vals into cartesian coords.\n",
    "        xpts[key] = Y[key]*np.sin(theta)*np.cos(phi)\n",
    "        ypts[key] = Y[key]*np.sin(theta)*np.sin(phi)\n",
    "        zpts[key] = Y[key]*np.cos(theta)\n",
    "         # we normalize the array it to it's max value.\n",
    "        Y[key] = Y[key]/Y[key].max()\n",
    "        # and voila! We're ready to plot!"
   ]
  },
  {
   "cell_type": "code",
   "execution_count": 137,
   "metadata": {
    "collapsed": false
   },
   "outputs": [
    {
     "data": {
      "image/png": "[encoded data removed]",
      "text/plain": [
       "<matplotlib.figure.Figure at 0x10e8399d0>"
      ]
     },
     "metadata": {},
     "output_type": "display_data"
    }
   ],
   "source": [
    "% matplotlib inline\n",
    "l, m = 2, 2\n",
    "key = str(l)+','+str(m)\n",
    "import matplotlib\n",
    "import matplotlib.pyplot as plt\n",
    "from mpl_toolkits.mplot3d import Axes3D\n",
    "from matplotlib import cm, colors\n",
    "fig, ax = plt.subplots(subplot_kw=dict(projection='3d'), figsize=(12,10))\n",
    "im = ax.plot_surface(xpts[key], ypts[key], zpts[key], rstride=1, cstride=1, facecolors=cm.jet(Y[key]))\n",
    "ax.set_title(r'$|Y_{'+str(key)+'}|$', fontsize=20)\n",
    "m = cm.ScalarMappable(cmap=cm.jet)\n",
    "m.set_array(Y[key])    # Assign the unnormalized data array to the mappable\n",
    "                  #so that the scale corresponds to the values of R\n",
    "fig.colorbar(m, shrink=0.8);\n",
    "plt.show()\n",
    "# Note: my plots seem to differ from what I see on wikipedia for anything other than m = 0...\n",
    "# https://en.wikipedia.org/wiki/Spherical_harmonics#/media/File:Spherical_Harmonics.png\n",
    "\n",
    "# Note for me: If I want to make subplots:\n",
    "# http://matplotlib.org/users/pyplot_tutorial.html"
   ]
  },
  {
   "cell_type": "markdown",
   "metadata": {},
   "source": [
    "$\\quad$ **(b) Now, we will approximate the external source. Using the S4 quadrature to do the integrations and $\\boldsymbol{q_e = 1}$ for all angles: use the equations for external source we developed in class (eqns. 19-21), calculate the external source for $\\boldsymbol{l = 0, 1, 2}$.**"
   ]
  },
  {
   "cell_type": "code",
   "execution_count": null,
   "metadata": {
    "collapsed": true
   },
   "outputs": [],
   "source": [
    "q_e = 1\n",
    "def extSource:\n",
    "    return('poop')\n",
    "\n",
    "\n",
    "# q_lm = integral over 4pi of Ylm^e(Omega)*qe dOmega m>=0\n",
    "# s_lm = integral over 4pi of Ylm^o(Omega)*qe dOmega m>=0\n",
    "#external Source in terms of these is given in eqn 19.\n"
   ]
  },
  {
   "cell_type": "code",
   "execution_count": null,
   "metadata": {
    "collapsed": true
   },
   "outputs": [],
   "source": []
  },
  {
   "cell_type": "code",
   "execution_count": null,
   "metadata": {
    "collapsed": true
   },
   "outputs": [],
   "source": []
  },
  {
   "cell_type": "markdown",
   "metadata": {},
   "source": [
    "**5. What are the major nuclear data libraries and which countries manage them?**"
   ]
  },
  {
   "cell_type": "markdown",
   "metadata": {},
   "source": [
    "* ENDF (Evaluated Nuclear Data File) - USA\n",
    "* JENDL - Japan\n",
    "* JEFF (Joint Evaluated Fission and Fusion File) - Collaboration among Nuclear Energy Agency (NEA) Data bank Member Countries (Austria, Belgium, Czech Republic, Denmark, Finland, France, Germany, Greece, Hungary, Italy, Japan, Korea, Mexico, Netherlands, Norway, Poland, Portugal, Russia, Slovak Republic, Slovenia, Spain, Sweden, Switzerland, Turkey, United Kingdom) [1]\n",
    "\n",
    "[1] https://www.oecd-nea.org/general/about/mcdb.html\n",
    "  \n",
    "  "
   ]
  },
  {
   "cell_type": "code",
   "execution_count": null,
   "metadata": {
    "collapsed": true
   },
   "outputs": [],
   "source": []
  }
 ],
 "metadata": {
  "anaconda-cloud": {},
  "kernelspec": {
   "display_name": "Python [Root]",
   "language": "python",
   "name": "Python [Root]"
  },
  "language_info": {
   "codemirror_mode": {
    "name": "ipython",
    "version": 2
   },
   "file_extension": ".py",
   "mimetype": "text/x-python",
   "name": "python",
   "nbconvert_exporter": "python",
   "pygments_lexer": "ipython2",
   "version": "2.7.12"
  }
 },
 "nbformat": 4,
 "nbformat_minor": 0
}
