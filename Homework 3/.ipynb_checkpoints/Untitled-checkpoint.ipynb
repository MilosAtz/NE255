{
 "cells": [
  {
   "cell_type": "markdown",
   "metadata": {},
   "source": [
    "* m = 1\n",
    "\n",
    "$$\n",
    "\\frac{2(0)+1}{4\\pi}\\phi_0(\\hat{r})\\int_0^{2\\pi}P_1(\\hat{n}\\cdot\\hat{\\Omega})P_0(\\hat{n} \\cdot\\hat{\\Omega})d^2\\hat{\\Omega}+\\frac{2(2)+1}{4\\pi}\\phi_2(\\hat{r})\\int_0^{2\\pi}P_1(\\hat{n} \\cdot\\hat{\\Omega})P_2(\\hat{n}\\cdot\\hat{\\Omega})d^2\\hat{\\Omega}+\\dots \\\\\n",
    "\\dots+\\frac{2(1)+1}{4\\pi}\\hat{n}\\cdot\\phi_1(\\hat{r})\\int_0^{2\\pi}P_1(\\hat{n} \\cdot\\hat{\\Omega})P_1(\\hat{n}\\cdot\\hat{\\Omega})d^2\\hat{\\Omega}+\\frac{2(3)+1}{4\\pi}\\hat{n}\\cdot\\phi_3(\\hat{r})\\int_0^{2\\pi}P_1(\\hat{n} \\cdot\\hat{\\Omega})P_3(\\hat{n}\\cdot\\hat{\\Omega})d^2\\hat{\\Omega}+\\dots \\\\\n",
    "\\dots+\\frac{2(5)+1}{4\\pi}\\hat{n}\\cdot\\phi_5(\\hat{r})\\int_0^{2\\pi}P_1(\\hat{n} \\cdot\\hat{\\Omega})P_5(\\hat{n}\\cdot\\hat{\\Omega})d^2\\hat{\\Omega}= \\int_{\\hat{n}\\cdot\\hat{\\Omega}>0}P_{1}(\\hat{n}\\cdot\\hat{\\Omega})\\Psi^-(\\hat{n}\\cdot\\hat{\\Omega})d^2\\hat{\\Omega}\n",
    "$$\n",
    "\n",
    "* m = 2\n",
    "\n",
    "$$\n",
    "\\frac{2(0)+1}{4\\pi}\\phi_0(\\hat{r})\\int_0^{2\\pi}P_3(\\hat{n}\\cdot\\hat{\\Omega})P_0(\\hat{n} \\cdot\\hat{\\Omega})d^2\\hat{\\Omega}+\\frac{2(2)+1}{4\\pi}\\phi_2(\\hat{r})\\int_0^{2\\pi}P_3(\\hat{n} \\cdot\\hat{\\Omega})P_2(\\hat{n}\\cdot\\hat{\\Omega})d^2\\hat{\\Omega}+\\dots \\\\\n",
    "\\dots+\\frac{2(1)+1}{4\\pi}\\hat{n}\\cdot\\phi_1(\\hat{r})\\int_0^{2\\pi}P_3(\\hat{n} \\cdot\\hat{\\Omega})P_1(\\hat{n}\\cdot\\hat{\\Omega})d^2\\hat{\\Omega}+\\frac{2(3)+1}{4\\pi}\\hat{n}\\cdot\\phi_3(\\hat{r})\\int_0^{2\\pi}P_3(\\hat{n} \\cdot\\hat{\\Omega})P_3(\\hat{n}\\cdot\\hat{\\Omega})d^2\\hat{\\Omega}+\\dots \\\\\n",
    "\\dots+\\frac{2(5)+1}{4\\pi}\\hat{n}\\cdot\\phi_5(\\hat{r})\\int_0^{2\\pi}P_3(\\hat{n} \\cdot\\hat{\\Omega})P_5(\\hat{n}\\cdot\\hat{\\Omega})d^2\\hat{\\Omega}= \\int_{\\hat{n}\\cdot\\hat{\\Omega}>0}P_{3}(\\hat{n}\\cdot\\hat{\\Omega})\\Psi^-(\\hat{n}\\cdot\\hat{\\Omega})d^2\\hat{\\Omega}\n",
    "$$\n",
    "\n",
    "* m = 3\n",
    "\n",
    "$$\n",
    "\\frac{2(0)+1}{4\\pi}\\phi_0(\\hat{r})\\int_0^{2\\pi}P_5(\\hat{n}\\cdot\\hat{\\Omega})P_0(\\hat{n} \\cdot\\hat{\\Omega})d^2\\hat{\\Omega}+\\frac{2(2)+1}{4\\pi}\\phi_2(\\hat{r})\\int_0^{2\\pi}P_5(\\hat{n} \\cdot\\hat{\\Omega})P_2(\\hat{n}\\cdot\\hat{\\Omega})d^2\\hat{\\Omega}+\\dots \\\\\n",
    "\\dots+\\frac{2(1)+1}{4\\pi}\\hat{n}\\cdot\\phi_1(\\hat{r})\\int_0^{2\\pi}P_5(\\hat{n} \\cdot\\hat{\\Omega})P_1(\\hat{n}\\cdot\\hat{\\Omega})d^2\\hat{\\Omega}+\\frac{2(3)+1}{4\\pi}\\hat{n}\\cdot\\phi_3(\\hat{r})\\int_0^{2\\pi}P_5(\\hat{n} \\cdot\\hat{\\Omega})P_3(\\hat{n}\\cdot\\hat{\\Omega})d^2\\hat{\\Omega}+\\dots \\\\\n",
    "\\dots+\\frac{2(5)+1}{4\\pi}\\hat{n}\\cdot\\phi_5(\\hat{r})\\int_0^{2\\pi}P_5(\\hat{n} \\cdot\\hat{\\Omega})P_5(\\hat{n}\\cdot\\hat{\\Omega})d^2\\hat{\\Omega}= \\int_{\\hat{n}\\cdot\\hat{\\Omega}>0}P_{5}(\\hat{n}\\cdot\\hat{\\Omega})\\Psi^-(\\hat{n}\\cdot\\hat{\\Omega})d^2\\hat{\\Omega}\n",
    "$$"
   ]
  },
  {
   "cell_type": "markdown",
   "metadata": {},
   "source": [
    "$$\n",
    "\\frac{1}{4\\pi}\\phi_0(\\hat{r})\\int_0^{2\\pi}(x)(1)d^2x +\n",
    "\\frac{5}{4\\pi}\\phi_2(\\hat{r})\\int_0^{2\\pi}(x)\\left(\\frac{1}{2}(3x^2-1)\\right)d^2x + \\dots \\\\\n",
    "\\dots+\\frac{3}{4\\pi}\\hat{n}\\cdot\\vec{\\phi}_1(\\hat{r})\\int_0^{2\\pi}(x)(x)d^2x +\n",
    "\\frac{7}{4\\pi}\\hat{n}\\cdot\\vec{\\phi}_3(\\hat{r})\\int_0^{2\\pi}(x)\\left(\\frac{1}{2}(5x^3-3x)\\right)d^2x + \\dots \\\\\n",
    "\\frac{11}{4\\pi}\\hat{n}\\cdot\\vec{\\phi}_5(\\hat{r})\\int_0^{2\\pi}(x)\\left(\\frac{1}{8}(63x^5-70x^3+15x)\\right)d^2x\n",
    "= \\int_{\\hat{n}\\cdot\\hat{\\Omega}>0}P_{1}(\\hat{n}\\cdot\\hat{\\Omega})\\Psi^-(\\hat{n}\\cdot\\hat{\\Omega})d^2\\hat{\\Omega}\n",
    "$$"
   ]
  },
  {
   "cell_type": "markdown",
   "metadata": {},
   "source": [
    "We can evaluate the above even further. We know the form of the Legendre polynomials and can evaluate the integrals on the LHS of each equation. Because we don't know $\\Psi^-$, we leave the RHS as is.\n",
    "\n",
    "http://mathworld.wolfram.com/LegendrePolynomial.html\n",
    "\n",
    "There's no way I'm going to do all of this out by hand...so I'll write a function to do the integration for me.\n"
   ]
  },
  {
   "cell_type": "code",
   "execution_count": 26,
   "metadata": {
    "collapsed": false
   },
   "outputs": [
    {
     "name": "stdout",
     "output_type": "stream",
     "text": [
      "     3\n",
      "2.5 x - 1.5 x\n",
      "       4        2\n",
      "0.625 x - 0.75 x\n",
      "148.0\n"
     ]
    },
    {
     "data": {
      "text/plain": [
       "148.0"
      ]
     },
     "execution_count": 26,
     "metadata": {},
     "output_type": "execute_result"
    }
   ],
   "source": [
    "from scipy.special import legendre\n",
    "from numpy import polyint\n",
    "\n",
    "def leg_int(m, ubound, lbound=0):\n",
    "    f = polyint(legendre(m))\n",
    "    return(f(ubound)-f(lbound))\n",
    "\n"
   ]
  },
  {
   "cell_type": "markdown",
   "metadata": {},
   "source": [
    "\n",
    "\n",
    "* m = 1\n",
    "\n",
    "$$\n",
    "\\frac{1}{4\\pi}\\phi_0(\\hat{r})\\int_0^{2\\pi}(x)(1)d^2x +\n",
    "\\frac{5}{4\\pi}\\phi_2(\\hat{r})\\int_0^{2\\pi}(x)\\left(\\frac{1}{2}(3x^2-1)\\right)d^2x + \\dots \\\\\n",
    "\\dots+\\frac{3}{4\\pi}\\hat{n}\\cdot\\vec{\\phi}_1(\\hat{r})\\int_0^{2\\pi}(x)(x)d^2x +\n",
    "\\frac{7}{4\\pi}\\hat{n}\\cdot\\vec{\\phi}_3(\\hat{r})\\int_0^{2\\pi}(x)\\left(\\frac{1}{2}(5x^3-3x)\\right)d^2x + \\dots \\\\\n",
    "\\frac{11}{4\\pi}\\hat{n}\\cdot\\vec{\\phi}_5(\\hat{r})\\int_0^{2\\pi}(x)\\left(\\frac{1}{8}(63x^5-70x^3+15x)\\right)d^2x\n",
    "= \\int_{\\hat{n}\\cdot\\hat{\\Omega}>0}P_{1}(\\hat{n}\\cdot\\hat{\\Omega})\\Psi^-(\\hat{n}\\cdot\\hat{\\Omega})d^2\\hat{\\Omega}\n",
    "$$\n",
    "\n",
    "$$\n",
    "\\frac{\\pi}{2}\\phi_0(\\hat{r})+\n",
    "\\frac{5}{4\\pi}\\phi_2(\\hat{r})\\int_0^{2\\pi}(x)\\left(\\frac{1}{2}(3x^2-1)\\right)d^2x + \\dots \\\\\n",
    "\\dots+\\frac{3}{4\\pi}\\hat{n}\\cdot\\vec{\\phi}_1(\\hat{r})\\int_0^{2\\pi}(x)(x)d^2x +\n",
    "\\frac{7}{4\\pi}\\hat{n}\\cdot\\vec{\\phi}_3(\\hat{r})\\int_0^{2\\pi}(x)\\left(\\frac{1}{2}(5x^3-3x)\\right)d^2x + \\dots \\\\\n",
    "\\frac{11}{4\\pi}\\hat{n}\\cdot\\vec{\\phi}_5(\\hat{r})\\int_0^{2\\pi}(x)\\left(\\frac{1}{8}(63x^5-70x^3+15x)\\right)d^2x\n",
    "= \\int_{\\hat{n}\\cdot\\hat{\\Omega}>0}P_{1}(\\hat{n}\\cdot\\hat{\\Omega})\\Psi^-(\\hat{n}\\cdot\\hat{\\Omega})d^2\\hat{\\Omega}\n",
    "$$\n",
    "\n",
    "\n",
    "\n",
    "\n",
    "\n",
    "$$\n",
    "\n",
    "\\dots+\n",
    "$$\n",
    "\n"
   ]
  }
 ],
 "metadata": {
  "kernelspec": {
   "display_name": "Python [Root]",
   "language": "python",
   "name": "Python [Root]"
  },
  "language_info": {
   "codemirror_mode": {
    "name": "ipython",
    "version": 2
   },
   "file_extension": ".py",
   "mimetype": "text/x-python",
   "name": "python",
   "nbconvert_exporter": "python",
   "pygments_lexer": "ipython2",
   "version": "2.7.12"
  }
 },
 "nbformat": 4,
 "nbformat_minor": 0
}
