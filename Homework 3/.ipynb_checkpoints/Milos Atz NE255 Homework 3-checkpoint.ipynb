{
 "cells": [
  {
   "cell_type": "markdown",
   "metadata": {},
   "source": [
    "**1. Derive the 1st order form of $\\boldsymbol{SP_5}$ with isotropic source and vacuum boundary conditions.**"
   ]
  },
  {
   "cell_type": "markdown",
   "metadata": {
    "collapsed": true
   },
   "source": [
    "We're going to employ the heuristic derivation of the $SP_5$ equations. Let's consider the $P_N$ equations for $l' = 0, 1, ...$\n",
    "\n",
    "$$\n",
    "\\left(\\frac{l'+1}{2l'+1}\\right)\\frac{d}{d x}\\phi_{l'+1}(x) + \\left(\\frac{l'}{2l'+1}\\right)\\frac{d}{d x}\\phi_{l'-1}(x) + \\Sigma_t(x) \\phi_{l'} = \\Sigma_{sl'}(x)\\phi_{l'}(x) + s_{l'}(x)\n",
    "$$\n",
    "\n",
    "with $\\phi_{-1}=0$ and $\\phi_{N+1} = 0$ or $\\frac{d}{dx}\\phi_{N+1}=0$."
   ]
  },
  {
   "cell_type": "markdown",
   "metadata": {},
   "source": [
    "To generate the $SP_N$ equations from this, we make two transformations to generalize the equation into 3D space. The first is on $\\phi_{l'}$. For odd values of $l'$, $\\phi_{l'} \\rightarrow \\vec{\\phi}_{l'} = (\\phi_{l'}^x,\\phi_{l'}^y,\\phi_{l'}^z)^t$.\n",
    "\n",
    "The second transformation is to change how we treat the derivative on $x$. In the even $l'$ equations, the derivative on $x$ is replaced by a divergence operator: $\\frac{d}{dx} \\rightarrow \\nabla \\cdot$; in the odd $l'$ equations, that derivative is changed to a gradient: $\\frac{d}{dx} \\rightarrow \\nabla$.\n"
   ]
  },
  {
   "cell_type": "markdown",
   "metadata": {},
   "source": [
    "Thus, the first-order form of the $SP_N$ equations is:\n",
    "\n",
    "$$\n",
    "\\nabla \\cdot \\vec{\\phi}_1 + \\Sigma_a\\phi_0 = s_0\n",
    "$$\n",
    "\n",
    "$$\n",
    "\\left(\\frac{l'+1}{2l'+1}\\right)\\nabla\\phi_{l'+1} + \\left(\\frac{l'}{2l'+1}\\right)\\nabla\\phi_{l'-1} + \\Sigma_t \\vec{\\phi}_{l'} = \\Sigma_{sl'}\\vec{\\phi}_{l'} + s_{l'} \\space\\space \\text{for odd $l'$,}\n",
    "$$\n",
    "\n",
    "$$\n",
    "\\left(\\frac{l'+1}{2l'+1}\\right)\\nabla\\cdot\\vec{\\phi}_{l'+1} + \\left(\\frac{l'}{2l'+1}\\right)\\nabla\\cdot\\vec{\\phi}_{l'-1} + \\Sigma_t \\phi_{l'} = \\Sigma_{sl'}\\phi_{l'} + s_{l'} \\space\\space \\text{for even $l'>0$.}\n",
    "$$"
   ]
  },
  {
   "cell_type": "markdown",
   "metadata": {},
   "source": [
    "Assuming an isotropic source (for $l'>0, s_{l'} =0$), we can write the $SP_5$ equations in their first order form as follows:\n",
    "\n",
    "$$\n",
    "\\nabla \\cdot \\vec{\\phi}_1 + \\Sigma_a\\phi_0 = s_0\n",
    "$$\n",
    "\n",
    "$$\n",
    "\\frac{2}{3}\\nabla\\phi_{2} + \\frac{1}{3}\\nabla\\phi_{0} +\n",
    "\\left[\\Sigma_t-\\Sigma_{s1}\\right]\\vec{\\phi}_{1} = 0\n",
    "$$\n",
    "\n",
    "$$\n",
    "\\frac{3}{5}\\nabla\\cdot\\vec{\\phi}_{3} + \\frac{2}{5}\\nabla\\cdot\\vec{\\phi}_{1} + \n",
    "\\left[\\Sigma_t-\\Sigma_{s2}\\right]\\phi_{2} = 0\n",
    "$$\n",
    "\n",
    "$$\n",
    "\\frac{4}{7}\\nabla\\phi_{4} + \\frac{3}{7}\\nabla\\phi_{2} +\n",
    "\\left[\\Sigma_t-\\Sigma_{s3}\\right]\\vec{\\phi}_{3} = 0\n",
    "$$\n",
    "\n",
    "$$\n",
    "\\frac{5}{9}\\nabla\\cdot\\vec{\\phi}_{5} + \\frac{4}{9}\\nabla\\cdot\\vec{\\phi}_{3} + \n",
    "\\left[\\Sigma_t-\\Sigma_{s4}\\right]\\phi_{4} = 0\n",
    "$$\n",
    "\n",
    "$$\n",
    "\\frac{5}{11}\\nabla\\phi_{4} +\n",
    "\\left[\\Sigma_t-\\Sigma_{s5}\\right]\\vec{\\phi}_{5} = 0\n",
    "$$\n",
    "\n",
    "Note that $\\phi_{-1} = \\phi_{N+1=6} = 0$."
   ]
  },
  {
   "cell_type": "markdown",
   "metadata": {},
   "source": [
    "We want to include vacuum boundary conditions; for this, we consider the Marshak boundary conditions for the $P_N$ equations. The half-range moments of $\\psi$, the angular flux, are equated with the incoming angular flux at the boundary, $\\Psi^-$. For an $N$th order expansion where $N$ is odd, there are $(N+1)/2$ boundary conditions:\n",
    "\n",
    "$$\n",
    "2\\pi \\int_{0}^{\\pm1} P_{2m-1}(\\mu)\\psi^d\\mu = \\sum_{n=0}^{N}\\frac{2n+1}{2}\\phi_n(x)\\int_0^{\\pm1}P_{2m-1}(\\mu)P_n(x)d\\mu\n",
    "$$\n",
    "$$\n",
    "= 2\\pi \\int_{0}^{\\pm1} P_{2m-1}(\\mu)\\Psi^-(x,\\mu)d\\mu\n",
    "$$\n",
    "\n",
    "for x = 0, X (the boundaries) and $m = 1, 2, \\dots, (N+1)/2$. "
   ]
  },
  {
   "cell_type": "markdown",
   "metadata": {},
   "source": [
    "To adjust these to the $SP_N$ equations, we make some simple replacements. We replace the $\\phi_n$ with the $SP_N$ unknowns and $\\mu$ with $\\hat{n}\\cdot\\hat{\\Omega}$ ($\\hat{n}$ is the unit inward normal to the boundary).\n",
    "\n",
    "$$\n",
    "\\sum_{n \\text{ even}}^N\\frac{2n+1}{4\\pi}\\phi_n(\\vec{r})\\int_{\\hat{n}\\cdot\\hat{\\Omega}>0}P_{2m-1}(\\hat{n}\\cdot\\hat{\\Omega})P_n(\\hat{n}\\cdot\\hat{\\Omega})d^2\\hat{\\Omega}+\\\\\n",
    "\\sum_{n \\text{ odd}}^N\\frac{2n+1}{4\\pi}\\hat{n}\\cdot\\vec{\\phi}_n(\\vec{r})\\int_{\\hat{n}\\cdot\\hat{\\Omega}>0}P_{2m-1}(\\hat{n}\\cdot\\hat{\\Omega})P_n(\\hat{n}\\cdot\\hat{\\Omega})d^2\\hat{\\Omega}=\\\\\n",
    "\\int_{\\hat{n}\\cdot\\hat{\\Omega}>0}P_{2m-1}(\\hat{n}\\cdot\\hat{\\Omega})\\Psi^-(\\hat{n}\\cdot\\hat{\\Omega})d^2\\hat{\\Omega}\n",
    "$$\n",
    "\n",
    "for $\\vec{r} \\in d\\Gamma$ and $m = 1, 2, \\dots, (N+1)/2$."
   ]
  },
  {
   "cell_type": "markdown",
   "metadata": {},
   "source": [
    "These boundary conditions are a collection of 1-D Marshak BCs where the $SP_N$ unknowns can be interpreted as components of a Legendre polynomial expansion. This means for the case where $N = 5$, we have 3 boundary equations. We evaluate them as follows:\n",
    "\n",
    "* m = 1\n",
    "\n",
    "$$\n",
    "\\frac{2(0)+1}{4\\pi}\\phi_0(\\vec{r})\\int_0^{2\\pi}P_1(\\hat{n}\\cdot\\hat{\\Omega})P_0(\\hat{n} \\cdot\\hat{\\Omega})d^2\\hat{\\Omega}+\\frac{2(2)+1}{4\\pi}\\phi_2(\\vec{r})\\int_0^{2\\pi}P_1(\\hat{n} \\cdot\\hat{\\Omega})P_2(\\hat{n}\\cdot\\hat{\\Omega})d^2\\hat{\\Omega}+\\dots \\\\\n",
    "\\dots+\\frac{2(1)+1}{4\\pi}\\hat{n}\\cdot\\vec{\\phi}_1(\\vec{r})\\int_0^{2\\pi}P_1(\\hat{n} \\cdot\\hat{\\Omega})P_1(\\hat{n}\\cdot\\hat{\\Omega})d^2\\hat{\\Omega}+\\frac{2(3)+1}{4\\pi}\\hat{n}\\cdot\\vec{\\phi}_3(\\vec{r})\\int_0^{2\\pi}P_1(\\hat{n} \\cdot\\hat{\\Omega})P_3(\\hat{n}\\cdot\\hat{\\Omega})d^2\\hat{\\Omega}+\\dots \\\\\n",
    "\\dots+\\frac{2(5)+1}{4\\pi}\\hat{n}\\cdot\\vec{\\phi}_5(\\vec{r})\\int_0^{2\\pi}P_1(\\hat{n} \\cdot\\hat{\\Omega})P_5(\\hat{n}\\cdot\\hat{\\Omega})d^2\\hat{\\Omega}= \\int_{\\hat{n}\\cdot\\hat{\\Omega}>0}P_{1}(\\hat{n}\\cdot\\hat{\\Omega})\\Psi^-(\\hat{n}\\cdot\\hat{\\Omega})d^2\\hat{\\Omega}\n",
    "$$\n",
    "\n",
    "* m = 2\n",
    "\n",
    "$$\n",
    "\\frac{2(0)+1}{4\\pi}\\phi_0(\\vec{r})\\int_0^{2\\pi}P_3(\\hat{n}\\cdot\\hat{\\Omega})P_0(\\hat{n} \\cdot\\hat{\\Omega})d^2\\hat{\\Omega}+\\frac{2(2)+1}{4\\pi}\\phi_2(\\vec{r})\\int_0^{2\\pi}P_3(\\hat{n} \\cdot\\hat{\\Omega})P_2(\\hat{n}\\cdot\\hat{\\Omega})d^2\\hat{\\Omega}+\\dots \\\\\n",
    "\\dots+\\frac{2(1)+1}{4\\pi}\\hat{n}\\cdot\\vec{\\phi}_1(\\vec{r})\\int_0^{2\\pi}P_3(\\hat{n} \\cdot\\hat{\\Omega})P_1(\\hat{n}\\cdot\\hat{\\Omega})d^2\\hat{\\Omega}+\\frac{2(3)+1}{4\\pi}\\hat{n}\\cdot\\vec{\\phi}_3(\\vec{r})\\int_0^{2\\pi}P_3(\\hat{n} \\cdot\\hat{\\Omega})P_3(\\hat{n}\\cdot\\hat{\\Omega})d^2\\hat{\\Omega}+\\dots \\\\\n",
    "\\dots+\\frac{2(5)+1}{4\\pi}\\hat{n}\\cdot\\vec{\\phi}_5(\\vec{r})\\int_0^{2\\pi}P_3(\\hat{n} \\cdot\\hat{\\Omega})P_5(\\hat{n}\\cdot\\hat{\\Omega})d^2\\hat{\\Omega}= \\int_{\\hat{n}\\cdot\\hat{\\Omega}>0}P_{3}(\\hat{n}\\cdot\\hat{\\Omega})\\Psi^-(\\hat{n}\\cdot\\hat{\\Omega})d^2\\hat{\\Omega}\n",
    "$$\n",
    "\n",
    "* m = 3\n",
    "\n",
    "$$\n",
    "\\frac{2(0)+1}{4\\pi}\\phi_0(\\vec{r})\\int_0^{2\\pi}P_5(\\hat{n}\\cdot\\hat{\\Omega})P_0(\\hat{n} \\cdot\\hat{\\Omega})d^2\\hat{\\Omega}+\\frac{2(2)+1}{4\\pi}\\phi_2(\\vec{r})\\int_0^{2\\pi}P_5(\\hat{n} \\cdot\\hat{\\Omega})P_2(\\hat{n}\\cdot\\hat{\\Omega})d^2\\hat{\\Omega}+\\dots \\\\\n",
    "\\dots+\\frac{2(1)+1}{4\\pi}\\hat{n}\\cdot\\vec{\\phi}_1(\\vec{r})\\int_0^{2\\pi}P_5(\\hat{n} \\cdot\\hat{\\Omega})P_1(\\hat{n}\\cdot\\hat{\\Omega})d^2\\hat{\\Omega}+\\frac{2(3)+1}{4\\pi}\\hat{n}\\cdot\\vec{\\phi}_3(\\vec{r})\\int_0^{2\\pi}P_5(\\hat{n} \\cdot\\hat{\\Omega})P_3(\\hat{n}\\cdot\\hat{\\Omega})d^2\\hat{\\Omega}+\\dots \\\\\n",
    "\\dots+\\frac{2(5)+1}{4\\pi}\\hat{n}\\cdot\\vec{\\phi}_5(\\vec{r})\\int_0^{2\\pi}P_5(\\hat{n} \\cdot\\hat{\\Omega})P_5(\\hat{n}\\cdot\\hat{\\Omega})d^2\\hat{\\Omega}= \\int_{\\hat{n}\\cdot\\hat{\\Omega}>0}P_{5}(\\hat{n}\\cdot\\hat{\\Omega})\\Psi^-(\\hat{n}\\cdot\\hat{\\Omega})d^2\\hat{\\Omega}\n",
    "$$"
   ]
  },
  {
   "cell_type": "markdown",
   "metadata": {},
   "source": [
    "We can evaluate the above even further. We know the form of the Legendre polynomials and can evaluate the integrals on the LHS of each equation. Because we don't know $\\Psi^-$, we leave the RHS as is.\n",
    "\n",
    "http://mathworld.wolfram.com/LegendrePolynomial.html\n",
    "\n",
    "There's no way I'm going to do all of this out by hand...so I'll write a function to do the integration for me. Then, I'll evaluate it for the m = 1 case as an example."
   ]
  },
  {
   "cell_type": "code",
   "execution_count": 1,
   "metadata": {
    "collapsed": false
   },
   "outputs": [
    {
     "name": "stdout",
     "output_type": "stream",
     "text": [
      "m = 1\n",
      "     2\n",
      "0.5 x\n",
      "       4        2\n",
      "0.375 x - 0.25 x\n",
      "        3\n",
      "0.3333 x\n",
      "     5       3\n",
      "0.5 x - 0.5 x\n",
      "       7        5             4         3\n",
      "1.125 x - 1.75 x - 1.093e-16 x + 0.625 x\n",
      "\n",
      "\n",
      "m = 2\n",
      "       4        2\n",
      "0.625 x - 0.75 x\n",
      "       6         4         2\n",
      "0.625 x - 0.875 x + 0.375 x\n",
      "     5       3\n",
      "0.5 x - 0.5 x\n",
      "        7       5        3\n",
      "0.8929 x - 1.5 x + 0.75 x\n",
      "       9         7             6         5             4          3\n",
      "2.188 x - 4.812 x - 1.821e-16 x + 3.563 x + 1.639e-16 x - 0.9375 x\n",
      "\n",
      "\n",
      "m = 3\n",
      "       6         4             3          2\n",
      "1.312 x - 2.188 x - 1.457e-16 x + 0.9375 x\n",
      "       8         6             5         4             3          2\n",
      "1.477 x - 2.844 x - 1.311e-16 x + 1.797 x + 7.286e-17 x - 0.4688 x\n",
      "       7        5             4         3\n",
      "1.125 x - 1.75 x - 1.093e-16 x + 0.625 x\n",
      "       9         7             6         5             4          3\n",
      "2.188 x - 4.812 x - 1.821e-16 x + 3.563 x + 1.639e-16 x - 0.9375 x\n",
      "       11         9             8         7             6         5\n",
      "5.638 x  - 15.31 x - 8.606e-16 x + 15.16 x + 1.275e-15 x - 6.563 x\n",
      "              4         3\n",
      " - 4.098e-16 x + 1.172 x\n"
     ]
    }
   ],
   "source": [
    "from scipy.special import legendre\n",
    "from numpy import polyint\n",
    "import math\n",
    "\n",
    "def leg_int(m1, m2):\n",
    "    return(polyint(legendre(m1)*legendre(m2)))\n",
    "\n",
    "# Evaluate all of the following at 2\\pi\n",
    "# m = 1\n",
    "print('m = 1')\n",
    "print(leg_int(1,0))\n",
    "print(leg_int(1,2))\n",
    "print(leg_int(1,1))\n",
    "print(leg_int(1,3))\n",
    "print(leg_int(1,5))\n",
    "print('\\n')\n",
    "# m = 2\n",
    "print('m = 2')\n",
    "print(leg_int(3,0))\n",
    "print(leg_int(3,2))\n",
    "print(leg_int(3,1))\n",
    "print(leg_int(3,3))\n",
    "print(leg_int(3,5))\n",
    "print('\\n')\n",
    "# m = 5\n",
    "print('m = 3')\n",
    "print(leg_int(5,0))\n",
    "print(leg_int(5,2))\n",
    "print(leg_int(5,1))\n",
    "print(leg_int(5,3))\n",
    "print(leg_int(5,5))"
   ]
  },
  {
   "cell_type": "markdown",
   "metadata": {},
   "source": [
    "Thus, for m = 1,\n",
    "\n",
    "$$\n",
    "\\frac{1}{4\\pi}\\phi_0(\\hat{r})\\left(2\\pi^2\\right) + \\frac{5}{4\\pi}\\phi_2(\\hat{r})\\left(6\\pi^4-\\pi^2\\right)+\\dots \\\\\n",
    "\\frac{3}{4\\pi}\\hat{n}\\cdot\\vec{\\phi}_1(\\hat{r})\\left(\\frac{8}{3}\\pi^3\\right) + \n",
    "\\frac{7}{4\\pi}\\hat{n}\\cdot\\vec{\\phi}_3(\\hat{r})\\left(16\\pi^5-4\\pi^3\\right) + \\dots \\\\\n",
    "\\frac{11}{4\\pi}\\hat{n}\\cdot\\vec{\\phi}_5(\\hat{r})\\left(144\\pi^7-56\\pi^5+5\\pi^3\\right)\n",
    "= \\int_{\\hat{n}\\cdot\\hat{\\Omega}>0}P_{1}(\\hat{n}\\cdot\\hat{\\Omega})\\Psi^-(\\hat{n}\\cdot\\hat{\\Omega})d^2\\hat{\\Omega}\n",
    "$$"
   ]
  },
  {
   "cell_type": "markdown",
   "metadata": {},
   "source": [
    "Simplifying,\n",
    "\n",
    "$$\n",
    "\\frac{\\pi}{2}\\phi_0(\\hat{r}) + \\frac{30\\pi^3-5\\pi}{4}\\phi_2(\\hat{r}) + \\dots \\\\\n",
    "\\left(2\\pi^2\\right)\\hat{n}\\cdot\\vec{\\phi}_1(\\hat{r}) + (28\\pi^4-7\\pi^2)\\hat{n}\\cdot\\vec{\\phi}_3(\\hat{r}) + \\dots \\\\\n",
    "11\\left(36\\pi^6-14\\pi^4-\\frac{5}{4}\\pi^2\\right)\\hat{n}\\cdot\\vec{\\phi}_5(\\hat{r})\n",
    "= \\int_{\\hat{n}\\cdot\\hat{\\Omega}>0}P_{1}(\\hat{n}\\cdot\\hat{\\Omega})\\Psi^-(\\hat{n}\\cdot\\hat{\\Omega})d^2\\hat{\\Omega}\n",
    "$$"
   ]
  },
  {
   "cell_type": "markdown",
   "metadata": {},
   "source": [
    "For more information about the Marshak BCs, I referred to the following:\n",
    "\n",
    "http://www.tandfonline.com/doi/pdf/10.1080/00411450.2010.535088?needAccess=true\n",
    "\n",
    "http://www.casl.gov/docs/CASL-U-2014-0352-000.pdf"
   ]
  },
  {
   "cell_type": "markdown",
   "metadata": {},
   "source": [
    "**2. Consider the integral**\n",
    "\n",
    "$$\n",
    "\\int_{4\\pi}{d\\hat{\\Omega}\\space\\hat{\\Omega}}\n",
    "$$\n",
    "\n",
    "**The LQ$\\boldsymbol{_N}$ quadrature set is given in Figure 1. Recall that $\\boldsymbol{\\mu_i = \\eta_i = \\xi_i}$ for a given level, $\\boldsymbol{i}$.**"
   ]
  },
  {
   "cell_type": "markdown",
   "metadata": {},
   "source": [
    "$\\quad$**(a) Use the $\\boldsymbol{S_4}$ LQ$\\boldsymbol{_N}$ quadrature set to execute this integral**"
   ]
  },
  {
   "cell_type": "markdown",
   "metadata": {},
   "source": [
    "|   Level    |      n     | $\\boldsymbol{\\mu_n}$ | $\\boldsymbol{w^b_n}$ |\n",
    "|:----------:|:----------:|:-------------------:|:--------------------:|\n",
    "|  $S_4$     |      1     |      0.3500212      |      0.3333333       |\n",
    "|            |      2     |      0.8688903      |      $\\space$        |\n",
    "|  $S_6$     |      1     |      0.2666355      |      0.1761263       |\n",
    "|            |      2     |      0.6815076      |      0.1572071       |\n",
    "|            |      3     |      0.9261808      |      $\\space$        |\n",
    "\n",
    "In this problem, the quadrature set is taking the place of integration. The function $\\hat{\\Omega}$ is evaluated at the quadrature points and multiplied by a weight. This is repeated for each octant.\n",
    "\n",
    "$$\n",
    "\\int_{4\\pi}{d\\hat{\\Omega}\\space\\hat{\\Omega}} = \\sum_{i} \\omega_i \\Omega_i\n",
    "$$\n",
    "\n",
    "In this case,\n",
    "\n",
    "$$\n",
    "\\hat{\\Omega} = \\sqrt{\\mu^2 + \\eta^2 + \\xi^2}\n",
    "$$\n",
    "\n",
    "Here, because we are considering the level symmetric case for $S_4$, we know that $\\mu_1 = \\eta_1 = \\xi_1$ and $\\mu_2 = \\eta_2 = \\xi_2$. However, what we don't know is what combination of points ($\\mu, \\eta, \\xi$) we should put together to get the proper result. In addition, while we know that the magnitude of each is the same, we also must consider the sign of each depending on what octant we're considering.\n",
    "\n",
    "In $S_4$, each quadrature point gets the same weight. In the octant where all $\\mu, \\eta, \\xi$ are positive, the points that should be chosen are: ($\\mu_1, \\eta_1, \\xi_2$), ($\\mu_2, \\eta_1, \\xi_1$), and ($\\mu_1, \\eta_2, \\xi_1$). This was determined by creating a sketch similar to that in Lewis and Miller, pg. 159. This sketch is shown below:"
   ]
  },
  {
   "cell_type": "markdown",
   "metadata": {},
   "source": [
    "<img src=\"s4.jpg\">"
   ]
  },
  {
   "cell_type": "markdown",
   "metadata": {},
   "source": [
    "Each of these points gets a weight of $\\frac{1}{3}$. For the purposes of brevity, because all angle cosines of equal level are the same in the level symmetric quadrature, we will refer to the points as $\\mu_i$.\n",
    "\n",
    "For this octant, the evaluation is as follows:\n",
    "\n",
    "$$\n",
    "\\frac{1}{3}\\sqrt{\\mu_1^2+\\eta_1^2+\\xi_2^2}+\\frac{1}{3}\\sqrt{\\mu_2^2+\\eta_1^2+\\xi_1^2}+\\frac{1}{3}\\sqrt{\\mu_1^2+\\eta_2^2+\\xi_1^2}\n",
    "$$\n",
    "\n",
    "This should be repeated in the 7 remaining octants. In each, the sign of one of the angles will change, which will change the result. Octants will be by the label (+/- +/- +/-), corresponding to which sign of the direction cosines in that octant. The octant above was (+++).\n",
    "\n",
    "The math is carried out explicitly in the code below."
   ]
  },
  {
   "cell_type": "code",
   "execution_count": 180,
   "metadata": {
    "collapsed": false
   },
   "outputs": [],
   "source": [
    "import math\n",
    "mu1 = 0.3500212\n",
    "mu2 = 0.8688903\n",
    "eta1 =0.3500212\n",
    "eta2 = 0.8688903\n",
    "xi1 = 0.3500212\n",
    "xi2 = 0.8688903\n",
    "w = 0.333333333\n",
    "lqn4 = {}\n",
    "# The octant we solved above\n",
    "lqn4['+++'] = w*math.sqrt(mu1**2+eta1**2+xi2**2)+\\\n",
    "    w*math.sqrt(mu2**2+eta1**2+xi1**2)+\\\n",
    "    w*math.sqrt(mu1**2+eta2**2+xi1**2)\n",
    "# In this next octant, mu is negative while eta and xi are still positive\n",
    "lqn4['-++'] = w*math.sqrt((-mu1)**2+eta1**2+xi2**2)+\\\n",
    "    w*math.sqrt((-mu2)**2+eta1**2+xi1**2)+\\\n",
    "    w*math.sqrt((-mu1)**2+eta2**2+xi1**2)\n",
    "# In this octant, eta is negative while mu and xi are still positive\n",
    "lqn4['+-+'] = w*math.sqrt(mu1**2+(-eta1)**2+xi2**2)+\\\n",
    "    w*math.sqrt(mu2**2+(-eta1)**2+xi1**2)+\\\n",
    "    w*math.sqrt(mu1**2+(-eta2)**2+xi1**2)\n",
    "# In this octant, xi is negative while mu and xi are still positive\n",
    "lqn4['++-'] = w*math.sqrt(mu1**2+eta1**2+(-xi2)**2)+\\\n",
    "    w*math.sqrt(mu2**2+eta1**2+(-xi1)**2)+\\\n",
    "    w*math.sqrt(mu1**2+eta2**2+(-xi1)**2)\n",
    "# Now, mu and eta are negative while xi is positive.\n",
    "lqn4['--+'] = w*math.sqrt(+(-mu1)**2+(-eta1)**2+xi2**2)+\\\n",
    "    w*math.sqrt((-mu2)**2+(-eta1)**2+xi1**2)+\\\n",
    "    w*math.sqrt((-mu1)**2+(-eta2)**2+xi1**2)\n",
    "# Here, mu and xi are negative while eta is positive.\n",
    "lqn4['-+-'] = w*math.sqrt(+(-mu1)**2+eta1**2+(-xi2)**2)+\\\n",
    "    w*math.sqrt((-mu2)**2+eta1**2+(-xi1)**2)+\\\n",
    "    w*math.sqrt((-mu1)**2+eta2**2+(-xi1)**2)\n",
    "# mu is positive while eta and xi are negative\n",
    "lqn4['+--'] = w*math.sqrt(mu1**2+(-eta1)**2+(-xi2)**2)+\\\n",
    "    w*math.sqrt(mu2**2+(-eta1)**2+(-xi1)**2)+\\\n",
    "    w*math.sqrt(mu1**2+(-eta2)**2+(-xi1)**2)\n",
    "# # Finally, all are negative\n",
    "lqn4['---'] = w*math.sqrt((-mu1)**2+(-eta1)**2+(-xi2)**2)+\\\n",
    "    w*math.sqrt((-mu2)**2+(-eta1)**2+(-xi1)**2)+\\\n",
    "    w*math.sqrt((-mu1)**2+(-eta2)**2+(-xi1)**2)"
   ]
  },
  {
   "cell_type": "markdown",
   "metadata": {},
   "source": [
    "To get the final result, we sum all the values from each octant"
   ]
  },
  {
   "cell_type": "code",
   "execution_count": 181,
   "metadata": {
    "collapsed": false
   },
   "outputs": [
    {
     "name": "stdout",
     "output_type": "stream",
     "text": [
      "8.00000012933\n"
     ]
    }
   ],
   "source": [
    "print(sum(lqn4.values()))"
   ]
  },
  {
   "cell_type": "markdown",
   "metadata": {},
   "source": [
    "Clearly, however, this should be $4\\pi$. Thus, we multiply the sum by a normalization constant, $c=\\frac{4\\pi}{8}$."
   ]
  },
  {
   "cell_type": "code",
   "execution_count": 182,
   "metadata": {
    "collapsed": false
   },
   "outputs": [
    {
     "name": "stdout",
     "output_type": "stream",
     "text": [
      "12.5663708175\n"
     ]
    }
   ],
   "source": [
    "c = 4*math.pi/8\n",
    "print(c*sum(lqn4.values()))"
   ]
  },
  {
   "cell_type": "markdown",
   "metadata": {},
   "source": [
    "$\\quad$**(b) Repeat it with $\\boldsymbol{S_6}$. What do you observe?**"
   ]
  },
  {
   "cell_type": "markdown",
   "metadata": {},
   "source": [
    "The combination of points can be identified by drawing another picture similar to that in Lewis and Miller."
   ]
  },
  {
   "cell_type": "markdown",
   "metadata": {},
   "source": [
    "<img src=\"s6.jpg\">"
   ]
  },
  {
   "cell_type": "markdown",
   "metadata": {},
   "source": [
    "As shown above, the point combinations and their associated weights are:\n",
    "* ($\\mu_1, \\eta_1, \\xi_3$); $w = w_1$\n",
    "* ($\\mu_1, \\eta_2, \\xi_2$); $w = w_2$\n",
    "* ($\\mu_1, \\eta_3, \\xi_1$); $w = w_1$\n",
    "* ($\\mu_2, \\eta_1, \\xi_2$); $w = w_2$\n",
    "* ($\\mu_2, \\eta_2, \\xi_1$); $w = w_2$\n",
    "* ($\\mu_3, \\eta_1, \\xi_1$); $w = w_1$\n",
    "\n",
    "We can utilize the same explicit calculation method as before. However, more points will have to be added to the summation within each octant. In addition, this time we have to consider different weights."
   ]
  },
  {
   "cell_type": "code",
   "execution_count": 186,
   "metadata": {
    "collapsed": true
   },
   "outputs": [],
   "source": [
    "# Define everything as lists; slightly prettier that way\n",
    "# (still ugly tho)\n",
    "# 0th index left blank because I want things to correspond \n",
    "# to the 1, 2, and 3 indices used above.\n",
    "mu = ['lol', 0.2666355, 0.6815076, 0.9261808]\n",
    "eta = ['rofl', 0.2666355, 0.6815076, 0.9261808]\n",
    "xi = ['lmao', 0.2666355, 0.6815076, 0.9261808]\n",
    "w = ['herpderp', 0.1761263, 0.1572071]\n",
    "lqn6 = {}"
   ]
  },
  {
   "cell_type": "code",
   "execution_count": 196,
   "metadata": {
    "collapsed": false
   },
   "outputs": [
    {
     "name": "stdout",
     "output_type": "stream",
     "text": [
      "12.5663717764\n"
     ]
    }
   ],
   "source": [
    "lqn6['+++'] = w[1]*math.sqrt(mu[1]**2+eta[1]**2+xi[3]**2) + w[2]*math.sqrt(mu[1]**2+eta[2]**2+xi[2]**2)+\\\n",
    "    w[1]*math.sqrt(mu[1]**2+eta[3]**2+xi[1]**2) + w[2]*math.sqrt(mu[2]**2+eta[1]**2+xi[2]**2)+\\\n",
    "    w[2]*math.sqrt(mu[2]**2+eta[2]**2+xi[1]**2) + w[1]*math.sqrt(mu[3]**2+eta[1]**2+xi[1]**2)\n",
    "# In this next octant, mu is negative while eta and xi are still positive\n",
    "lqn6['-++'] = w[1]*math.sqrt((-mu[1])**2+eta[1]**2+xi[3]**2) + w[2]*math.sqrt((-mu[1])**2+eta[2]**2+xi[2]**2)+\\\n",
    "    w[1]*math.sqrt((-mu[1])**2+eta[3]**2+xi[1]**2) + w[2]*math.sqrt((-mu[2])**2+eta[1]**2+xi[2]**2)+\\\n",
    "    w[2]*math.sqrt((-mu[2])**2+eta[2]**2+xi[1]**2) + w[1]*math.sqrt((-mu[3])**2+eta[1]**2+xi[1]**2)\n",
    "# In this octant, eta is negative while mu and xi are still positive\n",
    "lqn6['+-+'] = w[1]*math.sqrt(mu[1]**2+(-eta[1])**2+xi[3]**2) + w[2]*math.sqrt(mu[1]**2+(-eta[2])**2+xi[2]**2)+\\\n",
    "    w[1]*math.sqrt(mu[1]**2+(-eta[3])**2+xi[1]**2) + w[2]*math.sqrt(mu[2]**2+(-eta[1])**2+xi[2]**2)+\\\n",
    "    w[2]*math.sqrt(mu[2]**2+(-eta[2])**2+xi[1]**2) + w[1]*math.sqrt(mu[3]**2+(-eta[1])**2+xi[1]**2)\n",
    "# In this octant, xi is negative while mu and xi are still positive\n",
    "lqn6['++-'] = w[1]*math.sqrt(mu[1]**2+eta[1]**2+(-xi[3])**2) + w[2]*math.sqrt(mu[1]**2+eta[2]**2+(-xi[2])**2)+\\\n",
    "    w[1]*math.sqrt(mu[1]**2+eta[3]**2+(-xi[1])**2) + w[2]*math.sqrt(mu[2]**2+eta[1]**2+(-xi[2])**2)+\\\n",
    "    w[2]*math.sqrt(mu[2]**2+eta[2]**2+(-xi[1])**2) + w[1]*math.sqrt(mu[3]**2+eta[1]**2+(-xi[1])**2)\n",
    "# Now, mu and eta are negative while xi is positive.\n",
    "lqn6['--+'] = w[1]*math.sqrt((-mu[1])**2+(-eta[1])**2+xi[3]**2) + w[2]*math.sqrt((-mu[1])**2+(-eta[2])**2+xi[2]**2)+\\\n",
    "    w[1]*math.sqrt((-mu[1])**2+(-eta[3])**2+xi[1]**2) + w[2]*math.sqrt((-mu[2])**2+(-eta[1])**2+xi[2]**2)+\\\n",
    "    w[2]*math.sqrt((-mu[2])**2+(-eta[2])**2+xi[1]**2) + w[1]*math.sqrt((-mu[3])**2+(-eta[1])**2+xi[1]**2)\n",
    "    # Here, mu and xi are negative while eta is positive.\n",
    "lqn6['-+-'] = w[1]*math.sqrt((-mu[1])**2+eta[1]**2+(-xi[3])**2) + w[2]*math.sqrt((-mu[1])**2+eta[2]**2+(-xi[2])**2)+\\\n",
    "    w[1]*math.sqrt((-mu[1])**2+eta[3]**2+(-xi[1])**2) + w[2]*math.sqrt((-mu[2])**2+eta[1]**2+(-xi[2])**2)+\\\n",
    "    w[2]*math.sqrt((-mu[2])**2+eta[2]**2+(-xi[1])**2) + w[1]*math.sqrt((-mu[3])**2+eta[1]**2+(-xi[1])**2)\n",
    "# mu is positive while eta and xi are negative\n",
    "lqn6['+--'] = w[1]*math.sqrt(mu[1]**2+(-eta[1])**2+(-xi[3])**2) + w[2]*math.sqrt(mu[1]**2+(-eta[2])**2+(-xi[2])**2)+\\\n",
    "    w[1]*math.sqrt(mu[1]**2+(-eta[3])**2+(-xi[1])**2) + w[2]*math.sqrt(mu[2]**2+(-eta[1])**2+(-xi[2])**2)+\\\n",
    "    w[2]*math.sqrt(mu[2]**2+(-eta[2])**2+(-xi[1])**2) + w[1]*math.sqrt(mu[3]**2+(-eta[1])**2+(-xi[1])**2)\n",
    "# Finally, all are negative\n",
    "lqn6['---'] = w[1]*math.sqrt((-mu[1])**2+(-eta[1])**2+(-xi[3])**2) + w[2]*math.sqrt((-mu[1])**2+(-eta[2])**2+(-xi[2])**2)+\\\n",
    "    w[1]*math.sqrt((-mu[1])**2+(-eta[3])**2+(-xi[1])**2) + w[2]*math.sqrt((-mu[2])**2+(-eta[1])**2+(-xi[2])**2)+\\\n",
    "    w[2]*math.sqrt((-mu[2])**2+(-eta[2])**2+(-xi[1])**2) + w[1]*math.sqrt((-mu[3])**2+(-eta[1])**2+(-xi[1])**2)\n",
    "\n",
    "# Again, we must normalize by the same constant\n",
    "print(c*sum(lqn6.values()))"
   ]
  },
  {
   "cell_type": "markdown",
   "metadata": {},
   "source": [
    "Performing this integral with $S_4$ and $S_6$ quadrature, we see that the result is the same, as it should be equal to  $4\\pi$."
   ]
  },
  {
   "cell_type": "markdown",
   "metadata": {},
   "source": [
    "$\\quad$**(c) Write a short code to execute this integration (and higher orders if you’d like). Try a few different     functions. Turn in the code and the evaluation of these functions. Include comments on what you observe.**"
   ]
  },
  {
   "cell_type": "code",
   "execution_count": 238,
   "metadata": {
    "collapsed": false
   },
   "outputs": [],
   "source": [
    "def index_sum(order):\n",
    "    sum = (order/2)+2\n",
    "    return(sum)\n",
    "\n",
    "def num_points(N):\n",
    "    return(int(N*(N+2)/8))\n",
    "\n",
    "import itertools\n",
    "import numpy as np\n",
    "def det_mu_index(N):\n",
    "    # determine which combinations of mu, eta, and xi are needed\n",
    "    # for the quadrature\n",
    "    x = list(itertools.combinations_with_replacement(list(range(1,(N/2)+1)),3))\n",
    "    x = list(set([i for i in x if sum(i) == index_sum(N)]))\n",
    "    poop=[]\n",
    "    for i in x:\n",
    "        a = list(set(itertools.permutations(i)))\n",
    "        for j in a:\n",
    "            poop.append(list(j))\n",
    "    # returning the sorted indices gives the points in a specific\n",
    "    # order that allows one to determine the associated weights.\n",
    "    return(sorted(poop))\n"
   ]
  },
  {
   "cell_type": "code",
   "execution_count": 270,
   "metadata": {
    "collapsed": false
   },
   "outputs": [],
   "source": [
    "# This function initializes the data for the quadrature integration\n",
    "# here is all the data from LM and the tables, etc.\n",
    "import math\n",
    "def initialize_data(N):\n",
    "    # We can predefine the mu values and weights according to the table. \n",
    "    # Depending on the requested order, the appropriate array is chosen.\n",
    "    mu_n = {}\n",
    "    mu_n[2] = np.array([1/math.sqrt(3.0)])\n",
    "    mu_n[4] = np.array([0.3500212, 0.8688903])\n",
    "    mu_n[6] = np.array([0.2666355, 0.6815076, 0.9261808])\n",
    "    mu_n[8] = np.array([0.2182179, 0.5773503, 0.7867958, 0.9511897])\n",
    "    mu_n[12] = np.array([0.1672126, 0.4595476, 0.6280191, 0.7600210, \\\n",
    "                         0.8722706, 0.9716377])\n",
    "    mu_n[16] = np.array([0.1389568, 0.3922893, 0.5370966, 0.6504264, \\\n",
    "                         0.7467506, 0.8319966, 0.9092855, 0.9805009])\n",
    "    \n",
    "    #pre specify weights\n",
    "    w = {}\n",
    "    w[2] = np.array([1.0])\n",
    "    w[4] = np.array([0.3333333])\n",
    "    w[6] = np.array([0.1761263, 0.1572071])\n",
    "    w[8] = np.array([0.1209877, 0.0907407, 0.0925926])\n",
    "    w[12] = np.array([0.0707626, 0.0558811, 0.0373377, 0.0502819, 0.0258513])\n",
    "    w[16] = np.array([0.0489872, 0.0413296, 0.0212326, 0.0256207, 0.0360486, \\\n",
    "                      0.0144589, 0.0344958, 0.0085179])\n",
    "    # I couldn't (read: didn't have the patience) to figure out an\n",
    "    # algorithm to do determine which weights go with which points,\n",
    "    # so I hard coded it.\n",
    "    weightIndex = {}\n",
    "    weightIndex[2] = np.array([1])\n",
    "    weightIndex[4] = np.array([1, 1, 1])\n",
    "    weightIndex[6] = np.array([1, 2, 1, 2, 2, 1])\n",
    "    weightIndex[8] = np.array([1, 2, 2, 1, 2, 3, 2, 2, 2, 1])\n",
    "    weightIndex[12] = np.array([1, 2, 3, 3, 2, 1, 2, 4, 5, 4, 2, 3, 5, 5, 3, \\\n",
    "                                3, 4, 3, 2, 2, 1])\n",
    "    weightIndex[16] = np.array([1, 2, 3, 4, 4, 3, 2, 1, 2, 5, 6, 7, 6, 5, 2, \\\n",
    "                                3, 6, 8, 8, 6, 3, 4, 7, 8, 7, 4, 4, 6, 6, 4, \\\n",
    "                                3, 5, 3, 2, 2, 1])\n",
    "\n",
    "    # this will control the sign of mu in each octant\n",
    "    octants = {}\n",
    "    octants[1] = np.array([1, 1, 1])\n",
    "    octants[2] = np.array([-1, 1, 1])\n",
    "    octants[3] = np.array([1, -1, 1])\n",
    "    octants[4] = np.array([1, 1, -1])\n",
    "    octants[5] = np.array([1, -1, -1])\n",
    "    octants[6] = np.array([-1, 1, -1])\n",
    "    octants[7] = np.array([-1, -1, 1])\n",
    "    octants[8] = np.array([-1, -1, -1])\n",
    "    \n",
    "    return(mu_n[N], w[N], weightIndex[N], octants)"
   ]
  },
  {
   "cell_type": "code",
   "execution_count": 271,
   "metadata": {
    "collapsed": false
   },
   "outputs": [],
   "source": [
    "def integrate_lqn(N, fxn, prnt='off', cnorm=4*math.pi/8):\n",
    "    # IMPLEMENT INTEGRATION BOUNDS????\n",
    "    \n",
    "    # N is the quadrature order\n",
    "    # The function is the one that should be integrated;\n",
    "    # for example, in (a) and (b) the function was f = sqrt(mu^2+eta^2+xi^2)\n",
    "    # The function is evaluated at the quadrature points and weighted.\n",
    "    # *** The function MUST take in three values! ***\n",
    "    # The normalization constant can be input but is by default 4pi/8\n",
    "    # Call in appropriate data\n",
    "    muVals, weights, wtIndx, octants = initialize_data(N)\n",
    "    muIdx = det_mu_index(N)\n",
    "\n",
    "    # number of octants (if i can figure out how to loop this guy)\n",
    "    n_octants = 8\n",
    "    \n",
    "    #running total\n",
    "    total = 0.0\n",
    "    \n",
    "    # Need to cover all octants: +++, +-+, ++-, +--, -+-, --+, ---\n",
    "    for o in range(1,n_octants+1):\n",
    "        partialSum = [0]*len(muIdx)\n",
    "        for i in range(0, len(muIdx)):\n",
    "            mu = [octants[o][0]*muVals[muIdx[i][0]-1],\\\n",
    "                  octants[o][1]*muVals[muIdx[i][1]-1],\\\n",
    "                  octants[o][2]*muVals[muIdx[i][2]-1]]\n",
    "            partialSum[i] = weights[wtIndx[i]-1]*fxn(mu[0], mu[1], mu[2])\n",
    "        if(prnt == 'on'):\n",
    "            print('octant = '+str(octants[o])+\\\n",
    "                  ';  partial sum = '+str(sum(partialSum)))\n",
    "        total+=sum(partialSum) \n",
    "\n",
    "    return(cnorm*total)"
   ]
  },
  {
   "cell_type": "markdown",
   "metadata": {},
   "source": [
    "The above is the function that performs $LQ_N$ quadrature integration over an input function. The function itself is fairly short but relies on a lot of secondary code. I wasn't sure how to implement the algorithms for some parts - for instance, the weights that should go with each $\\mu$ as given in L&M - so I just hard coded that as 'input data'.\n",
    "\n",
    "We can test the integration for various functions. For example, in the case of (a) and (b), where we want to solve $\\int_{4\\pi} d\\hat{\\Omega} \\space \\hat{\\Omega}$:"
   ]
  },
  {
   "cell_type": "code",
   "execution_count": 272,
   "metadata": {
    "collapsed": false
   },
   "outputs": [
    {
     "name": "stdout",
     "output_type": "stream",
     "text": [
      "12.5663706144\n",
      "12.5663695734\n",
      "12.5663717764\n",
      "12.5663694807\n",
      "12.5663729919\n",
      "12.5663619448\n"
     ]
    }
   ],
   "source": [
    "# First\n",
    "def Omegahat(mu, eta, xi):\n",
    "    return(math.sqrt(mu**2+eta**2+xi**2))\n",
    "\n",
    "print(integrate_lqn(2, Omegahat))\n",
    "print(integrate_lqn(4, Omegahat))\n",
    "print(integrate_lqn(6, Omegahat))\n",
    "print(integrate_lqn(8, Omegahat))\n",
    "print(integrate_lqn(12, Omegahat))\n",
    "print(integrate_lqn(16, Omegahat))"
   ]
  },
  {
   "cell_type": "markdown",
   "metadata": {},
   "source": [
    "Not bad! We can also try some other functions too:"
   ]
  },
  {
   "cell_type": "code",
   "execution_count": 273,
   "metadata": {
    "collapsed": false
   },
   "outputs": [
    {
     "name": "stdout",
     "output_type": "stream",
     "text": [
      "0.0\n",
      "0.0\n",
      "0.0\n",
      "0.0\n",
      "0.0\n",
      "3.48786849801e-16\n"
     ]
    }
   ],
   "source": [
    "def sum_coords(mu, eta, xi):\n",
    "    # just return the sum of mu, eta, and xi\n",
    "    return(mu+eta+xi)\n",
    "\n",
    "# Should return 0 over the unit sphere, because opposite quadrants\n",
    "# will produce opposite results that cancel out.\n",
    "print(integrate_lqn(2, sum_coords))\n",
    "print(integrate_lqn(4, sum_coords))\n",
    "print(integrate_lqn(6, sum_coords))\n",
    "print(integrate_lqn(8, sum_coords))\n",
    "print(integrate_lqn(12, sum_coords))\n",
    "print(integrate_lqn(16, sum_coords))"
   ]
  },
  {
   "cell_type": "code",
   "execution_count": 274,
   "metadata": {
    "collapsed": false
   },
   "outputs": [
    {
     "name": "stdout",
     "output_type": "stream",
     "text": [
      "octant = [1 1 1];  partial sum = 5.65223367403\n",
      "octant = [-1  1  1];  partial sum = 1.78131217411\n",
      "octant = [ 1 -1  1];  partial sum = 1.78131217411\n",
      "octant = [ 1  1 -1];  partial sum = 1.78131217411\n",
      "octant = [ 1 -1 -1];  partial sum = 0.561383913799\n",
      "octant = [-1  1 -1];  partial sum = 0.561383913799\n",
      "octant = [-1 -1  1];  partial sum = 0.561383913799\n",
      "octant = [-1 -1 -1];  partial sum = 0.176921206318\n",
      "20.1961103034\n",
      "octant = [1 1 1];  partial sum = 4.80152031473\n",
      "octant = [-1  1  1];  partial sum = 1.87105464566\n",
      "octant = [ 1 -1  1];  partial sum = 1.87105464566\n",
      "octant = [ 1  1 -1];  partial sum = 1.87105464566\n",
      "octant = [ 1 -1 -1];  partial sum = 0.674257760445\n",
      "octant = [-1  1 -1];  partial sum = 0.674257760445\n",
      "octant = [-1 -1  1];  partial sum = 0.674257760445\n",
      "octant = [-1 -1 -1];  partial sum = 0.208267326691\n",
      "19.8638581593\n",
      "octant = [1 1 1];  partial sum = 4.68018662615\n",
      "octant = [-1  1  1];  partial sum = 1.88934280685\n",
      "octant = [ 1 -1  1];  partial sum = 1.88934280685\n",
      "octant = [ 1  1 -1];  partial sum = 1.88934280685\n",
      "octant = [ 1 -1 -1];  partial sum = 0.693753335189\n",
      "octant = [-1  1 -1];  partial sum = 0.693753335189\n",
      "octant = [-1 -1  1];  partial sum = 0.693753335189\n",
      "octant = [-1 -1 -1];  partial sum = 0.215212877768\n",
      "19.862229354\n",
      "octant = [1 1 1];  partial sum = 4.6266499375\n",
      "octant = [-1  1  1];  partial sum = 1.89590450382\n",
      "octant = [ 1 -1  1];  partial sum = 1.89590450382\n",
      "octant = [ 1  1 -1];  partial sum = 1.89590450382\n",
      "octant = [ 1 -1 -1];  partial sum = 0.703816335469\n",
      "octant = [-1  1 -1];  partial sum = 0.703816335469\n",
      "octant = [-1 -1  1];  partial sum = 0.703816335469\n",
      "octant = [-1 -1 -1];  partial sum = 0.218878816862\n",
      "19.8622346038\n",
      "octant = [1 1 1];  partial sum = 4.58578051913\n",
      "octant = [-1  1  1];  partial sum = 1.90096227742\n",
      "octant = [ 1 -1  1];  partial sum = 1.90096227742\n",
      "octant = [ 1  1 -1];  partial sum = 1.90096227742\n",
      "octant = [ 1 -1 -1];  partial sum = 0.711416566584\n",
      "octant = [-1  1 -1];  partial sum = 0.711416566584\n",
      "octant = [-1 -1  1];  partial sum = 0.711416566584\n",
      "octant = [-1 -1 -1];  partial sum = 0.221777848321\n",
      "19.8622403015\n",
      "octant = [1 1 1];  partial sum = 4.56859751347\n",
      "octant = [-1  1  1];  partial sum = 1.90298858559\n",
      "octant = [ 1 -1  1];  partial sum = 1.90298858559\n",
      "octant = [ 1  1 -1];  partial sum = 1.90298858559\n",
      "octant = [ 1 -1 -1];  partial sum = 0.714689524669\n",
      "octant = [-1  1 -1];  partial sum = 0.714689524669\n",
      "octant = [-1 -1  1];  partial sum = 0.714689524669\n",
      "octant = [-1 -1 -1];  partial sum = 0.223051815501\n",
      "19.8622226462\n"
     ]
    }
   ],
   "source": [
    "def exp_coords(mu, eta, xi):\n",
    "    return(math.exp(mu+eta+xi))\n",
    "\n",
    "print(integrate_lqn(2, exp_coords, prnt='on'))\n",
    "print(integrate_lqn(4, exp_coords, prnt='on'))\n",
    "print(integrate_lqn(6, exp_coords, prnt='on'))\n",
    "print(integrate_lqn(8, exp_coords, prnt='on'))\n",
    "print(integrate_lqn(12, exp_coords, prnt='on'))\n",
    "print(integrate_lqn(16, exp_coords, prnt='on'))"
   ]
  },
  {
   "cell_type": "markdown",
   "metadata": {},
   "source": [
    "Interesting result! Some functions don't depend on the quadrature at all. For example, for some functions integration over the unit sphere is guaranteed to give 0 or 1 no matter what points you use because the results in different octants will cancel out or equal one by design. \n",
    "\n",
    "However, it seems as though some functions (like the exp_coords function I made up) actually do depend on quadrature. It seems like as N increases, the result trends toward some value, which I might assume to be the true value if the integral were done analytically."
   ]
  },
  {
   "cell_type": "markdown",
   "metadata": {},
   "source": [
    "**3.**\n",
    "\n",
    "**$\\quad$(a) Briefly compare the diffusion equation, deterministic methods, and monte carlo methods in terms of complexity, accuracy, run time, and range of applicability.**"
   ]
  },
  {
   "cell_type": "markdown",
   "metadata": {},
   "source": [
    "The diffusion equation is a simplified form of the transport equation. Angular dependence is removed and so only the scalar flux is given as a solution. In this way, it is not very complex nor accurate, but it is much more straightforward to solve than the full TE (so run time is short). The assumptions used to derive the diffusion equation from the TE are applicable when the solution is not near:\n",
    "\n",
    "* a void\n",
    "* boundaries\n",
    "* sources\n",
    "* strong absorbers\n",
    "\n",
    "The diffusion equation can take into account discretization in energy (few-group) to increase accuracy while still providing a simple and fast solution.\n",
    "\n",
    "Deterministic solutions to the TE involve discretizing all independent variables - space, direction (discrete ordinates or spherical harmonics) and energy (multi-group). The size of the problem and the quality and behavior of the solutions are governed by the discretization. As such, the solutions can range from simple (coarse meshes in all variables, simplifications such as symmetry, etc) to very difficult (thousands of spatial mesh points and complex expansions of energy and angle). Due to these complexities, the run time is longer than anything involving the diffusion equation, but in return one gets a much more accurate result.\n",
    "\n",
    "In Monte Carlo methods, the physics of every interaction of every particle are sampled in order to determine statistical quantities of interest. Because MC relies on sampling, the independent variables (space, energy, angle) can be treated as continuous, and, for well-posed problems, can result in a very accurate solution. The MC methodology is fairly simple and the process is easy to parallelize, but the inputs can be complex. The run time can be very long because enough samples need to be taken so the results can be statistically significant. If an MC problem is ill-posed or too few particles are simulated, the results can be very inaccurate."
   ]
  },
  {
   "cell_type": "markdown",
   "metadata": {},
   "source": [
    "**$\\quad$(b) Given what you’ve learned about deterministic methods so far, discuss strengths and weaknesses.**"
   ]
  },
  {
   "cell_type": "markdown",
   "metadata": {},
   "source": [
    "Deterministic methods offer (relatively) fast and global solutions to the TE. In addition, the solution quality is the same over the entire simulated phase space (space, energy, and angle). Inputs can be simple.\n",
    "\n",
    "However, the discretization governs the solution quality, and fine meshes can be complicated. Depending on solution strategy, numerical anamolies can arise. For example, ray effects occur when using a discrete ordinates methods because the flux is only solved along specific angles and can result in weird flux shapes. In addition, the solution contains truncation error. Contrary to MC methods, deterministic methods can be difficult to parallelize.\n",
    "\n"
   ]
  },
  {
   "cell_type": "markdown",
   "metadata": {},
   "source": [
    "**4. Write a function that generates the associated Legendre Polynomials:**\n",
    "\n",
    "$$\n",
    "P^m_l(x)=\\frac{(-1)^m}{2^ll!}(1-x^2)^{m/2}\\frac{d^{l+m}}{dx^{l+m}}(x^2-1)^l\n",
    "$$"
   ]
  },
  {
   "cell_type": "code",
   "execution_count": 299,
   "metadata": {
    "collapsed": false
   },
   "outputs": [],
   "source": [
    "# function to perform combinatorics; i.e. \"n choose r\"\n",
    "# http://stackoverflow.com/questions/4941753/is-there-a-math-ncr-function-in-python\n",
    "import operator as op\n",
    "def ncr(n, r):\n",
    "    r = min(r, n-r)\n",
    "    if(r == 0): \n",
    "        return 1\n",
    "    numer = reduce(op.mul, xrange(n, n-r, -1))\n",
    "    denom = reduce(op.mul, xrange(1, r+1))\n",
    "    return(numer//denom)\n",
    "\n",
    "def det_bin_coeffs(l):\n",
    "    # This function determines the coefficients of the polynomial\n",
    "    # (x^2-1)^l according to the binomial coefficient\n",
    "    # https://en.wikipedia.org/wiki/Binomial_coefficient\n",
    "    nterms = int(2*abs(l)+1)\n",
    "    coeffs = [0]*nterms\n",
    "    for i in range(0, nterms):\n",
    "        if(i%2==1):\n",
    "            # no odd exponents in polynomial\n",
    "            continue\n",
    "        else:\n",
    "            # if exponent is even, assign it a coefficient according to\n",
    "            # the binomial series\n",
    "            if((i/2)%2==1):\n",
    "                coeffs[i]=-ncr(int(l), i/2)\n",
    "            else:\n",
    "                coeffs[i]=ncr(int(l), i/2)\n",
    "    # the above generated the coeffs from highest to lowest. For the\n",
    "    # numpy differentiation, we need them from lowest to highest; thus\n",
    "    # we return the reverse.\n",
    "    return(coeffs[::-1])\n",
    "\n",
    "import math\n",
    "import numpy as np\n",
    "from numpy import polyval\n",
    "from numpy.polynomial import polynomial as P\n",
    "\n",
    "def Plm(l, m):\n",
    "    l=float(l)\n",
    "    m=float(m)\n",
    "    def assoc_leg_poly(x):    \n",
    "        # P = value of fxn @ x\n",
    "        # make l and m floats\n",
    "        a = ((-1)**m)/(2**l*math.factorial(l))\n",
    "        b = (1-x**2)**(m/2)\n",
    "        c = np.polyval(P.polyder(det_bin_coeffs(l),l+m)[::-1], x)\n",
    "        # print(str(a)+'   '+str(b)+'   '+str(c))\n",
    "        return(a*b*c)\n",
    "    # return the function that takes x input and yields Plm\n",
    "    return(assoc_leg_poly)\n",
    "\n",
    "# NOTE: Python defines 0**0 = 1.0"
   ]
  },
  {
   "cell_type": "markdown",
   "metadata": {},
   "source": [
    "**Use this function in a function that generates spherical harmonics:**\n",
    "\n",
    "$$\n",
    "Y_{lm}(\\theta, \\varphi)=(-1)^m\\sqrt{\\frac{2l+1}{4\\pi}\\frac{(l-m)!}{(l+m)!}}P_{lm}(cos(\\theta)e^{im\\varphi}\n",
    "$$"
   ]
  },
  {
   "cell_type": "markdown",
   "metadata": {},
   "source": [
    "The spherical harmonics will be split into $m = 0$, $m =$ even, and $m =$ odd components. This moves the imaginary parts under the square root so we can put them in code. Because they will be later dropped (since our solution is only real), we can incorporate logic to neglect them. "
   ]
  },
  {
   "cell_type": "code",
   "execution_count": 410,
   "metadata": {
    "collapsed": false
   },
   "outputs": [],
   "source": [
    "def kron_delt(a,b):\n",
    "    if(a == b):\n",
    "        return(1.0)\n",
    "    else:\n",
    "        return(0.0)\n",
    "\n",
    "import cmath\n",
    "def sph_harmonic(l, m):\n",
    "    l = float(l)\n",
    "    m = float(m)\n",
    "    # Test that l and m are appropriately specified?\n",
    "    def Ylm(theta, phi):\n",
    "        a = (-1)**m\n",
    "        b = math.sqrt((2*l+1)*\\\n",
    "            math.factorial(l-m)\\\n",
    "            /(4*math.pi)/math.factorial(l+m))\n",
    "        try:\n",
    "            c = Plm(l,m)(math.cos(theta))*cmath.exp(cmath.sqrt(-1)*m*phi)\n",
    "        except:\n",
    "            ZeroDivisionError\n",
    "            c = 0.0\n",
    "        return(a*b*c)\n",
    "    return(Ylm)\n",
    "        "
   ]
  },
  {
   "cell_type": "markdown",
   "metadata": {},
   "source": [
    "$\\quad$ **(a) Generate and plot the following $\\boldsymbol{l = 0, 1, 2}$ for $\\boldsymbol{−l \\leq m \\leq l}$ (recall we can relate the negative $\\boldsymbol{m}$ to positive $\\boldsymbol{m}$ values). You will need to discretize $\\boldsymbol{\\theta}$ and $\\boldsymbol{\\varphi}$ fairly finely (30 increments in each to start to get a sense of the shape of the harmonics).**\n"
   ]
  },
  {
   "cell_type": "code",
   "execution_count": 355,
   "metadata": {
    "collapsed": false
   },
   "outputs": [],
   "source": [
    "# NOTE: Plotting these in python is hard. I mimicked the code on this \n",
    "# site to do this; some of it, like the actual plotting code, I just\n",
    "# copied and pasted and then coded my stuff around it.\n",
    "# http://balbuceosastropy.blogspot.com/2015/06/spherical-harmonics-in-python.html\n",
    "\n",
    "# FOR TESTING\n",
    "# -------------------------------------\n",
    "import scipy\n",
    "from scipy.special import sph_harm\n",
    "# -------------------------------------\n",
    "\n",
    "# Set up the space in which the spherical harmonics are plotted\n",
    "# This is the mesh grid that is used to plot the points\n",
    "phi, theta = np.mgrid[0:2*np.pi:200j, 0:np.pi:100j]\n",
    "# The theta and phi vectors is used in the loop to calculate the values \n",
    "# of the spherical harmonic; I know it's confusing to have both, but\n",
    "# the plotting requires the mesh grid and my spherical harmonic function\n",
    "# doesn't take arrays as inputs.\n",
    "thetaVEC = np.linspace(0, np.pi, 100)\n",
    "phiVEC = np.linspace(0, 2*np.pi, 200)\n",
    "# Y is defined as a dictionary. The keys of the dictionary are to\n",
    "# be 'lm' corresponding to the degree and order of the spherical\n",
    "# harmonic. The value in the dictionary is an array that holds the \n",
    "# points. \n",
    "\n",
    "# We do this four times to compare the results of slightly different\n",
    "# methodologies\n",
    "Y = {}\n",
    "Y['real'] = {}\n",
    "Y['abs'] = {}\n",
    "Y['builtin abs'] = {}\n",
    "Y['builtin real'] = {}\n",
    "# Before we get into the loop, we have to make three \n",
    "# more dictionaries; these will correspond to the \n",
    "# cartesian points for each spherical harmonic lm. \n",
    "xpts = {}\n",
    "xpts['real'] = {}\n",
    "xpts['abs'] = {}\n",
    "xpts['builtin abs'] = {}\n",
    "xpts['builtin real'] = {}\n",
    "\n",
    "ypts = {}\n",
    "ypts['real'] = {}\n",
    "ypts['abs'] = {}\n",
    "ypts['builtin abs'] = {}\n",
    "ypts['builtin real'] = {}\n",
    "\n",
    "zpts = {}\n",
    "zpts['real'] = {}\n",
    "zpts['abs'] = {}\n",
    "zpts['builtin abs'] = {}\n",
    "zpts['builtin real'] = {}"
   ]
  },
  {
   "cell_type": "code",
   "execution_count": 363,
   "metadata": {
    "collapsed": false
   },
   "outputs": [],
   "source": [
    "# we're interesed in l between 0 and 2\n",
    "l = [0, 1, 2]\n",
    "for degree in l:\n",
    "    # m is given as -l <= m <= l\n",
    "    for order in range(-degree, degree+1):\n",
    "        # specify the dictionary key\n",
    "        key = str(degree)+','+str(order)\n",
    "        # preallocate the array\n",
    "        for ftype in Y:\n",
    "            Y[ftype][key] = np.zeros((len(thetaVEC), len(phiVEC)))\n",
    "        # now, for that array, we iterate over all values of theta and phi\n",
    "        # to calculate the spherical harmonic entries of the array.\n",
    "        #print key\n",
    "        for i in range(0, len(thetaVEC)):\n",
    "            for j in range(0, len(phiVEC)):\n",
    "                # Take the absolute value of the spherical harmonic; elminates the imaginary part\n",
    "                try:    \n",
    "                    Y['real'][key][i,j] = sph_harmonic(degree,order)(thetaVEC[i],phiVEC[j]).real\n",
    "                    Y['abs'][key][i,j] = abs(sph_harmonic(degree,order)(thetaVEC[i],phiVEC[j]))\n",
    "                    Y['builtin abs'][key][i,j] = abs(sph_harm(order, degree, phiVEC[j], thetaVEC[i])) # ***\n",
    "                    Y['builtin real'][key][i,j] = sph_harm(order, degree, phiVEC[j], thetaVEC[i]).real\n",
    "                except:\n",
    "                    print(str(i)+'   '+str(j))\n",
    "        for ftype in Y:\n",
    "            #print ftype\n",
    "            # for the purposes of plotting, we transpose the array\n",
    "            Y[ftype][key] = np.transpose(Y[ftype][key])\n",
    "            # now, we transfer the spherical harmonic vals into cartesian coords.\n",
    "            xpts[ftype][key] = Y[ftype][key]*np.sin(theta)*np.cos(phi)\n",
    "            ypts[ftype][key] = Y[ftype][key]*np.sin(theta)*np.sin(phi)\n",
    "            zpts[ftype][key] = Y[ftype][key]*np.cos(theta)\n",
    "            # we normalize the array it to its max value.\n",
    "            Y[ftype][key] = Y[ftype][key]/Y[ftype][key].max()\n",
    "            # and voila! We're ready to plot!"
   ]
  },
  {
   "cell_type": "code",
   "execution_count": 378,
   "metadata": {
    "collapsed": false
   },
   "outputs": [
    {
     "data": {
      "image/png": "[encoded data removed]",
      "text/plain": [
       "<matplotlib.figure.Figure at 0x115f1c690>"
      ]
     },
     "metadata": {},
     "output_type": "display_data"
    }
   ],
   "source": [
    "% matplotlib inline\n",
    "ftype = 'real'\n",
    "l, m = 2, 2\n",
    "key = str(l)+','+str(m)    \n",
    "import matplotlib\n",
    "import matplotlib.pyplot as plt\n",
    "from mpl_toolkits.mplot3d import Axes3D\n",
    "from matplotlib import cm, colors\n",
    "fig, ax = plt.subplots(subplot_kw=dict(projection='3d'), figsize=(12,10))\n",
    "im = ax.plot_surface(xpts[ftype][key], ypts[ftype][key], zpts[ftype][key], rstride=1, cstride=1, facecolors=cm.jet(Y[ftype][key]))\n",
    "ax.set_title(r'$Y_{'+str(key)+'}$', fontsize=20)\n",
    "m = cm.ScalarMappable(cmap=cm.jet)\n",
    "m.set_array(Y[ftype][key])  # Assign the unnormalized data array to the mappable\n",
    "                            # so that the scale corresponds to the values of R\n",
    "fig.colorbar(m, shrink=0.8);\n",
    "plt.show()\n",
    "\n",
    "# Note: my plots seem to differ from what I see on wikipedia for anything other than m = 0...\n",
    "# https://en.wikipedia.org/wiki/Spherical_harmonics#/media/File:Spherical_Harmonics.png\n",
    "\n",
    "# Note for me: If I want to make subplots:\n",
    "# http://matplotlib.org/users/pyplot_tutorial.html"
   ]
  },
  {
   "cell_type": "markdown",
   "metadata": {},
   "source": [
    "A couple of things: first, I apologize, but I did not put axes titles on these. I think it's pretty clear that they are x, y, and z. \n",
    "\n",
    "<img src=\"./plots/alltogether.png\">\n",
    "\n",
    "Second, some of these look pretty weird, especially those where l = 1. Notice that these are the absolute value of the spherical harmonic; I tried a bunch of methods to try and plot these, but this was the best I could do. I realize that they look different from what's on wikipedia but if you utilize the scipy built-in spherical harmonic function in place of mine, you get the same result. By running the code above, you automatically get four different versions of the result - two with the real component, two having taken the absolute value, each done with my function and with the built in function from scipy."
   ]
  },
  {
   "cell_type": "markdown",
   "metadata": {},
   "source": [
    "$\\quad$ **(b) Now, we will approximate the external source. Using the S4 quadrature to do the integrations and $\\boldsymbol{q_e = 1}$ for all angles: use the equations for external source we developed in class (eqns. 19-21), calculate the external source for $\\boldsymbol{l = 0, 1, 2}$.**"
   ]
  },
  {
   "cell_type": "markdown",
   "metadata": {},
   "source": [
    "The spherical harmonic functions take in the components of $\\hat{\\Omega}$ - $\\theta$ and $\\varphi$ - as inputs. However, for the quadrature integration we require three independent variables $\\mu, \\eta, \\xi$. We have to take those three variables and transform them into what is input into the spherical harmonic functions.\n",
    "\n",
    "Lewis and Miller show on page 176 how we can convert back and forth between the two sets of variables. $\\hat{\\Omega}$ is expressed in terms of either $\\mu$ and $\\eta$ or $\\xi$ and $\\omega$ in a $p-z$ geometry, where $\\theta = \\cos^{-1}(\\xi)$ and the relationships for $\\omega$ are given as the following:\n",
    "\n",
    "$$\n",
    "\\mu = \\sqrt{(1-\\xi^2)} \\space \\cos(\\omega) \\quad\\quad \\eta = \\sqrt{(1-\\xi^2)} \\space \\sin(\\omega)\n",
    "$$\n",
    "\n",
    "It must be noted that using level-symmetric quadrature here presents a bit of a problem. If $\\mu_i$ and $\\eta_i$ are equal as prescribed in the $LQ_N$ methodology, there are cases where the values of $\\omega$ that result from inverting the equations above are not equal! This may occur when the some of the values of $\\mu$, $\\eta$, and $\\xi$ are negative. When $\\eta$ is negative, the result for $\\omega$ found using that equation is the negative of that of found by using $\\mu$. However, when $\\mu$ is negative, the results for $\\omega$ are not just of opposite sign. Based on a few guess-and-check test cases, when these are plugged into the spherical harmonic, it seems like the result is either unchanged or of the opposite sign.\n",
    "\n",
    "I'm going to assume that we can just pick one of these equations to identify $\\omega$; specifically, I'm going to use the one in terms of $\\eta$. Then, we can express $Y_{lm}(\\hat{\\Omega}) = Y_{lm}(\\theta, \\varphi) = Y_{lm}(\\theta, \\omega)$."
   ]
  },
  {
   "cell_type": "code",
   "execution_count": 380,
   "metadata": {
    "collapsed": false
   },
   "outputs": [
    {
     "name": "stdout",
     "output_type": "stream",
     "text": [
      "(1.2132025916079618, 0.382949717410125, 2.7586429926242313)\n",
      "(0.300196508357+0.120930276791j)\n",
      "(-0.300196515182+0.120930259846j)\n"
     ]
    }
   ],
   "source": [
    "def coords_to_angles(mu, eta, xi):\n",
    "    l = 1\n",
    "    m = -1\n",
    "    # Lewis and Miller pg. 176: Omega is expressed in terms of either\n",
    "    # xi and mu or xi and eta (in a p-z geometry)\n",
    "    # for now...choosing eta.\n",
    "    theta = math.acos(xi)\n",
    "    omega1 = math.asin(eta/math.sqrt(1-xi**2))\n",
    "    omega2 = math.acos(mu/math.sqrt(1-xi**2))\n",
    "    return(theta, omega1, omega2)\n",
    "\n",
    "l=1\n",
    "m=1\n",
    "a = coords_to_angles(-0.8688903, 0.3500212, 0.3500212)\n",
    "print(a)\n",
    "print(sph_harmonic(l, m)(a[0], a[1]))\n",
    "print(sph_harmonic(l, m)(a[0], a[2]))"
   ]
  },
  {
   "cell_type": "markdown",
   "metadata": {},
   "source": [
    "I've written a function that will yield the external source as a function of input angle, as noted in equation 19 of the notes. Sometimes, the function outputs a negative value, which is not physically significant. In this case, I automatically set the result to 0. "
   ]
  },
  {
   "cell_type": "code",
   "execution_count": 406,
   "metadata": {
    "collapsed": false
   },
   "outputs": [
    {
     "name": "stdout",
     "output_type": "stream",
     "text": [
      "[[ 0.99999999  0.99999999  0.99999999  0.99999999  0.99999999]\n",
      " [ 2.32021092  1.71331304  0.45059828  0.          0.13705234]\n",
      " [ 2.42662599  1.77080936  0.40631396  0.          0.06749477]\n",
      " [ 1.22140774  1.11962711  0.90786185  0.78080796  0.85527822]\n",
      " [ 2.18737181  1.64153976  0.50587887  0.          0.22388181]]\n"
     ]
    }
   ],
   "source": [
    "# Now, we will approximate the external source. \n",
    "# Using the S4 quadrature to do the integrations and  qe=1\n",
    "# for all angles: use the equations for external source we \n",
    "# developed in class (eqns. 19-21), calculate the external \n",
    "# source for l=0,1,2\n",
    "\n",
    "\n",
    "\n",
    "# This function takes in Omega (in terms of theta and phi) \n",
    "# and returns the value of the external source at that angle.\n",
    "# N is the degree of the spherical harmonics (l)\n",
    "def ext_source(theta, phi, N):\n",
    "    source = 0.0\n",
    "    qe = 1\n",
    "    for l in range(0, N+1):\n",
    "        for m in range(-l, l+1):\n",
    "            # wrapper function for spherical harmonic\n",
    "            def sph_wrapper(mu, eta, xi):\n",
    "                a = coords_to_angles(mu, eta, xi)\n",
    "                qe = 1\n",
    "                # We only keep the real part of the spherical harmonic.\n",
    "                # qe equals one for all angles\n",
    "                return(qe*sph_harmonic(l,m)(a[0], a[1]).real)\n",
    "            #print('l = '+str(l)+';   m = '+str(m))\n",
    "            qlm = qe*integrate_lqn(4, sph_wrapper)\n",
    "            ylm = sph_harmonic(l,m)(theta, phi).real\n",
    "            source += qlm*ylm\n",
    "            #print('qlm = '+str(qlm))\n",
    "            #print('ylm = '+str(ylm))\n",
    "            #print('source = '+str(source))\n",
    "    if source<=0.0:\n",
    "        return(0.0)\n",
    "    else:\n",
    "        return(source)\n",
    "\n",
    "# print(ext_source(2,0,0))\n",
    "# print(ext_source(2,0,1))\n",
    "# print(ext_source(2,0,2))\n",
    "\n",
    "s = np.zeros((5,5))\n",
    "for i in range(0,5):\n",
    "    for j in range(0,5):\n",
    "        s[i,j]=ext_source(i,j,2)\n",
    "        \n",
    "print s"
   ]
  },
  {
   "cell_type": "markdown",
   "metadata": {},
   "source": [
    "**5. What are the major nuclear data libraries and which countries manage them?**"
   ]
  },
  {
   "cell_type": "markdown",
   "metadata": {},
   "source": [
    "* ENDF (Evaluated Nuclear Data File) - USA\n",
    "* JENDL - Japan\n",
    "* JEFF (Joint Evaluated Fission and Fusion File) - Collaboration among Nuclear Energy Agency (NEA) Data bank Member Countries (Austria, Belgium, Czech Republic, Denmark, Finland, France, Germany, Greece, Hungary, Italy, Japan, Korea, Mexico, Netherlands, Norway, Poland, Portugal, Russia, Slovak Republic, Slovenia, Spain, Sweden, Switzerland, Turkey, United Kingdom) [1]\n",
    "\n",
    "[1] https://www.oecd-nea.org/general/about/mcdb.html\n",
    "  \n",
    "  "
   ]
  },
  {
   "cell_type": "code",
   "execution_count": null,
   "metadata": {
    "collapsed": true
   },
   "outputs": [],
   "source": []
  }
 ],
 "metadata": {
  "anaconda-cloud": {},
  "kernelspec": {
   "display_name": "Python [Root]",
   "language": "python",
   "name": "Python [Root]"
  },
  "language_info": {
   "codemirror_mode": {
    "name": "ipython",
    "version": 2
   },
   "file_extension": ".py",
   "mimetype": "text/x-python",
   "name": "python",
   "nbconvert_exporter": "python",
   "pygments_lexer": "ipython2",
   "version": "2.7.12"
  }
 },
 "nbformat": 4,
 "nbformat_minor": 0
}
