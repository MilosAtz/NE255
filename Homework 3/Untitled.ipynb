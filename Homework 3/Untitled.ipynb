{
 "cells": [
  {
   "cell_type": "markdown",
   "metadata": {},
   "source": [
    "* m = 1\n",
    "\n",
    "$$\n",
    "\\frac{2(0)+1}{4\\pi}\\phi_0(\\hat{r})\\int_0^{2\\pi}P_1(\\hat{n}\\cdot\\hat{\\Omega})P_0(\\hat{n} \\cdot\\hat{\\Omega})d^2\\hat{\\Omega}+\\frac{2(2)+1}{4\\pi}\\phi_2(\\hat{r})\\int_0^{2\\pi}P_1(\\hat{n} \\cdot\\hat{\\Omega})P_2(\\hat{n}\\cdot\\hat{\\Omega})d^2\\hat{\\Omega}+\\dots \\\\\n",
    "\\dots+\\frac{2(1)+1}{4\\pi}\\hat{n}\\cdot\\phi_1(\\hat{r})\\int_0^{2\\pi}P_1(\\hat{n} \\cdot\\hat{\\Omega})P_1(\\hat{n}\\cdot\\hat{\\Omega})d^2\\hat{\\Omega}+\\frac{2(3)+1}{4\\pi}\\hat{n}\\cdot\\phi_3(\\hat{r})\\int_0^{2\\pi}P_1(\\hat{n} \\cdot\\hat{\\Omega})P_3(\\hat{n}\\cdot\\hat{\\Omega})d^2\\hat{\\Omega}+\\dots \\\\\n",
    "\\dots+\\frac{2(5)+1}{4\\pi}\\hat{n}\\cdot\\phi_5(\\hat{r})\\int_0^{2\\pi}P_1(\\hat{n} \\cdot\\hat{\\Omega})P_5(\\hat{n}\\cdot\\hat{\\Omega})d^2\\hat{\\Omega}= \\int_{\\hat{n}\\cdot\\hat{\\Omega}>0}P_{1}(\\hat{n}\\cdot\\hat{\\Omega})\\Psi^-(\\hat{n}\\cdot\\hat{\\Omega})d^2\\hat{\\Omega}\n",
    "$$\n",
    "\n",
    "* m = 2\n",
    "\n",
    "$$\n",
    "\\frac{2(0)+1}{4\\pi}\\phi_0(\\hat{r})\\int_0^{2\\pi}P_3(\\hat{n}\\cdot\\hat{\\Omega})P_0(\\hat{n} \\cdot\\hat{\\Omega})d^2\\hat{\\Omega}+\\frac{2(2)+1}{4\\pi}\\phi_2(\\hat{r})\\int_0^{2\\pi}P_3(\\hat{n} \\cdot\\hat{\\Omega})P_2(\\hat{n}\\cdot\\hat{\\Omega})d^2\\hat{\\Omega}+\\dots \\\\\n",
    "\\dots+\\frac{2(1)+1}{4\\pi}\\hat{n}\\cdot\\phi_1(\\hat{r})\\int_0^{2\\pi}P_3(\\hat{n} \\cdot\\hat{\\Omega})P_1(\\hat{n}\\cdot\\hat{\\Omega})d^2\\hat{\\Omega}+\\frac{2(3)+1}{4\\pi}\\hat{n}\\cdot\\phi_3(\\hat{r})\\int_0^{2\\pi}P_3(\\hat{n} \\cdot\\hat{\\Omega})P_3(\\hat{n}\\cdot\\hat{\\Omega})d^2\\hat{\\Omega}+\\dots \\\\\n",
    "\\dots+\\frac{2(5)+1}{4\\pi}\\hat{n}\\cdot\\phi_5(\\hat{r})\\int_0^{2\\pi}P_3(\\hat{n} \\cdot\\hat{\\Omega})P_5(\\hat{n}\\cdot\\hat{\\Omega})d^2\\hat{\\Omega}= \\int_{\\hat{n}\\cdot\\hat{\\Omega}>0}P_{3}(\\hat{n}\\cdot\\hat{\\Omega})\\Psi^-(\\hat{n}\\cdot\\hat{\\Omega})d^2\\hat{\\Omega}\n",
    "$$\n",
    "\n",
    "* m = 3\n",
    "\n",
    "$$\n",
    "\\frac{2(0)+1}{4\\pi}\\phi_0(\\hat{r})\\int_0^{2\\pi}P_5(\\hat{n}\\cdot\\hat{\\Omega})P_0(\\hat{n} \\cdot\\hat{\\Omega})d^2\\hat{\\Omega}+\\frac{2(2)+1}{4\\pi}\\phi_2(\\hat{r})\\int_0^{2\\pi}P_5(\\hat{n} \\cdot\\hat{\\Omega})P_2(\\hat{n}\\cdot\\hat{\\Omega})d^2\\hat{\\Omega}+\\dots \\\\\n",
    "\\dots+\\frac{2(1)+1}{4\\pi}\\hat{n}\\cdot\\phi_1(\\hat{r})\\int_0^{2\\pi}P_5(\\hat{n} \\cdot\\hat{\\Omega})P_1(\\hat{n}\\cdot\\hat{\\Omega})d^2\\hat{\\Omega}+\\frac{2(3)+1}{4\\pi}\\hat{n}\\cdot\\phi_3(\\hat{r})\\int_0^{2\\pi}P_5(\\hat{n} \\cdot\\hat{\\Omega})P_3(\\hat{n}\\cdot\\hat{\\Omega})d^2\\hat{\\Omega}+\\dots \\\\\n",
    "\\dots+\\frac{2(5)+1}{4\\pi}\\hat{n}\\cdot\\phi_5(\\hat{r})\\int_0^{2\\pi}P_5(\\hat{n} \\cdot\\hat{\\Omega})P_5(\\hat{n}\\cdot\\hat{\\Omega})d^2\\hat{\\Omega}= \\int_{\\hat{n}\\cdot\\hat{\\Omega}>0}P_{5}(\\hat{n}\\cdot\\hat{\\Omega})\\Psi^-(\\hat{n}\\cdot\\hat{\\Omega})d^2\\hat{\\Omega}\n",
    "$$"
   ]
  },
  {
   "cell_type": "markdown",
   "metadata": {},
   "source": [
    "We can evaluate the above even further. We know the form of the Legendre polynomials and can evaluate the integrals on the LHS of each equation. Because we don't know $\\Psi^-$, we leave the RHS as is.\n",
    "\n",
    "http://mathworld.wolfram.com/LegendrePolynomial.html\n",
    "\n",
    "There's no way I'm going to do all of this out by hand...so I'll write a function to do the integration for me. Then, I'll evaluate it for the m = 1 case as an example.\n"
   ]
  },
  {
   "cell_type": "code",
   "execution_count": 81,
   "metadata": {
    "collapsed": false
   },
   "outputs": [
    {
     "name": "stdout",
     "output_type": "stream",
     "text": [
      "m = 1\n",
      "     2\n",
      "0.5 x\n",
      "       4        2\n",
      "0.375 x - 0.25 x\n",
      "        3\n",
      "0.3333 x\n",
      "     5       3\n",
      "0.5 x - 0.5 x\n",
      "       7        5             4         3\n",
      "1.125 x - 1.75 x - 1.093e-16 x + 0.625 x\n",
      "\n",
      "\n",
      "m = 2\n",
      "       4        2\n",
      "0.625 x - 0.75 x\n",
      "       6         4         2\n",
      "0.625 x - 0.875 x + 0.375 x\n",
      "     5       3\n",
      "0.5 x - 0.5 x\n",
      "        7       5        3\n",
      "0.8929 x - 1.5 x + 0.75 x\n",
      "       9         7             6         5             4          3\n",
      "2.188 x - 4.812 x - 1.821e-16 x + 3.563 x + 1.639e-16 x - 0.9375 x\n",
      "\n",
      "\n",
      "m = 3\n",
      "       6         4             3          2\n",
      "1.312 x - 2.188 x - 1.457e-16 x + 0.9375 x\n",
      "       8         6             5         4             3          2\n",
      "1.477 x - 2.844 x - 1.311e-16 x + 1.797 x + 7.286e-17 x - 0.4688 x\n",
      "       7        5             4         3\n",
      "1.125 x - 1.75 x - 1.093e-16 x + 0.625 x\n",
      "       9         7             6         5             4          3\n",
      "2.188 x - 4.812 x - 1.821e-16 x + 3.563 x + 1.639e-16 x - 0.9375 x\n",
      "       11         9             8         7             6         5\n",
      "5.638 x  - 15.31 x - 8.606e-16 x + 15.16 x + 1.275e-15 x - 6.563 x\n",
      "              4         3\n",
      " - 4.098e-16 x + 1.172 x\n"
     ]
    }
   ],
   "source": [
    "from scipy.special import legendre\n",
    "from numpy import polyint\n",
    "import math\n",
    "\n",
    "def leg_int(m1, m2):\n",
    "    return(polyint(legendre(m1)*legendre(m2)))\n",
    "\n",
    "# Evaluate all of the following at 2\\pi\n",
    "# m = 1\n",
    "print('m = 1')\n",
    "print(leg_int(1,0))\n",
    "print(leg_int(1,2))\n",
    "print(leg_int(1,1))\n",
    "print(leg_int(1,3))\n",
    "print(leg_int(1,5))\n",
    "print('\\n')\n",
    "# m = 2\n",
    "print('m = 2')\n",
    "print(leg_int(3,0))\n",
    "print(leg_int(3,2))\n",
    "print(leg_int(3,1))\n",
    "print(leg_int(3,3))\n",
    "print(leg_int(3,5))\n",
    "print('\\n')\n",
    "# m = 5\n",
    "print('m = 3')\n",
    "print(leg_int(5,0))\n",
    "print(leg_int(5,2))\n",
    "print(leg_int(5,1))\n",
    "print(leg_int(5,3))\n",
    "print(leg_int(5,5))"
   ]
  },
  {
   "cell_type": "markdown",
   "metadata": {},
   "source": [
    "For m = 1,\n",
    "\n",
    "$$\n",
    "\\frac{1}{4\\pi}\\phi_0(\\hat{r})\\left(2\\pi^2\\right) + \\frac{5}{4\\pi}\\phi_2(\\hat{r})\\left(6\\pi^4-\\pi^2\\right)+\\dots \\\\\n",
    "\\frac{3}{4\\pi}\\hat{n}\\cdot\\vec{\\phi}_1(\\hat{r})\\left(\\frac{8}{3}\\pi^3\\right) + \n",
    "\\frac{7}{4\\pi}\\hat{n}\\cdot\\vec{\\phi}_3(\\hat{r})\\left(16\\pi^5-4\\pi^3\\right) + \\dots \\\\\n",
    "\\frac{11}{4\\pi}\\hat{n}\\cdot\\vec{\\phi}_5(\\hat{r})\\left(144\\pi^7-56\\pi^5+5\\pi^3\\right)\n",
    "= \\int_{\\hat{n}\\cdot\\hat{\\Omega}>0}P_{1}(\\hat{n}\\cdot\\hat{\\Omega})\\Psi^-(\\hat{n}\\cdot\\hat{\\Omega})d^2\\hat{\\Omega}\n",
    "$$"
   ]
  },
  {
   "cell_type": "markdown",
   "metadata": {},
   "source": [
    "Simplifying,\n",
    "\n",
    "$$\n",
    "\\frac{\\pi}{2}\\phi_0(\\hat{r}) + \\frac{30\\pi^3-5\\pi}{4}\\phi_2(\\hat{r}) + \\dots \\\\\n",
    "\\left(2\\pi^2\\right)\\hat{n}\\cdot\\vec{\\phi}_1(\\hat{r}) + (28\\pi^4-7\\pi^2)\\hat{n}\\cdot\\vec{\\phi}_3(\\hat{r}) + \\dots \\\\\n",
    "11\\left(36\\pi^6-14\\pi^4-\\frac{5}{4}\\pi^2\\right)\\hat{n}\\cdot\\vec{\\phi}_5(\\hat{r})\n",
    "= \\int_{\\hat{n}\\cdot\\hat{\\Omega}>0}P_{1}(\\hat{n}\\cdot\\hat{\\Omega})\\Psi^-(\\hat{n}\\cdot\\hat{\\Omega})d^2\\hat{\\Omega}\n",
    "$$"
   ]
  },
  {
   "cell_type": "code",
   "execution_count": 55,
   "metadata": {
    "collapsed": false
   },
   "outputs": [
    {
     "name": "stdout",
     "output_type": "stream",
     "text": [
      "1/2\n"
     ]
    }
   ],
   "source": [
    "from fractions import Fraction\n",
    "print(Fraction(0.5))"
   ]
  },
  {
   "cell_type": "code",
   "execution_count": null,
   "metadata": {
    "collapsed": true
   },
   "outputs": [],
   "source": []
  }
 ],
 "metadata": {
  "kernelspec": {
   "display_name": "Python [Root]",
   "language": "python",
   "name": "Python [Root]"
  },
  "language_info": {
   "codemirror_mode": {
    "name": "ipython",
    "version": 2
   },
   "file_extension": ".py",
   "mimetype": "text/x-python",
   "name": "python",
   "nbconvert_exporter": "python",
   "pygments_lexer": "ipython2",
   "version": "2.7.12"
  }
 },
 "nbformat": 4,
 "nbformat_minor": 0
}
