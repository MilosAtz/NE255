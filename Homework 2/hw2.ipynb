{
 "cells": [
  {
   "cell_type": "markdown",
   "metadata": {},
   "source": [
    "# NE255 Homework 2\n",
    "## Milos Atz\n",
    "## Due 2016-10-4"
   ]
  },
  {
   "cell_type": "markdown",
   "metadata": {},
   "source": [
    "### 1) Determine the macroscopic scattering cross section of $\\boldsymbol{UO_2}$ as a function of a generic enrichment factor $\\boldsymbol{\\gamma = N_{U−235}/N_{U−238}}$ where $N$ is the atom density. Find its value assuming a density of 10 $\\boldsymbol{g/cm^3, \\sigma_s^U=8.9}$ b and $\\boldsymbol{\\sigma_s^O=3.75}$ b, and 5% weight enrichment."
   ]
  },
  {
   "cell_type": "markdown",
   "metadata": {},
   "source": [
    "$$\n",
    "\\begin{align}\n",
    "&\\Sigma_{s}^{UO2} = N_{UO2} \\sigma_s^{UO2}\n",
    "\\\\& \\space\\space\\space\\space\\quad = N_{UO2}\\big(\\sigma_s^{U}+2\\sigma_s^{O}\\big)\n",
    "\\end{align}\n",
    "$$\n",
    "\n",
    "We can use $\\gamma$ to find $N_{UO2}$. Since the density is given, $\\gamma$ is used to find the molar mass of uranium depending on the enrichment. Based on that, the molar mass can be calculated.\n",
    "$$\n",
    "MM_{U} = 235\\frac{N_{U235}}{N_{U235}+N_{U238}}+238\\frac{N_{U238}}{N_{U235}+N_{U238}}\n",
    "$$\n",
    "\n",
    "$$\n",
    "= 235\\left[\\frac{N_{U235}+N_{U238}}{N_{U235}}\\right]^{-1}+238\\left[\\frac{N_{U235}+N_{U238}}{N_{U238}}\\right]^{-1}\n",
    "$$\n",
    "\n",
    "$$\n",
    "=235\\left[\\frac{\\gamma+1}{\\gamma}\\right]^{-1}+238\\left[1+\\gamma\\right]^{-1}\n",
    "$$\n",
    "\n",
    "$$\n",
    "= 235\\frac{\\gamma}{\\gamma+1}+238\\frac{1}{\\gamma+1}\n",
    "$$\n",
    "\n",
    "$$\n",
    "= \\frac{235\\gamma + 238}{\\gamma + 1}\n",
    "$$\n",
    "\n",
    "Now that we have $MM_U(\\gamma)$, we can solve for $N_{UO2}$ in terms of $\\gamma$.\n",
    "\n",
    "$$\n",
    "N_{UO2} = N_A\\frac{\\rho_{UO2}}{MM_{UO2}}\n",
    "$$\n",
    "\n",
    "...where $N_A$ is Avogadro's number. To get $MM_{UO2}$, we simply sum the molar masses of uranium and oxygen, weighting by their atomic ratios.\n",
    "\n",
    "$$\n",
    "MM_{UO2}(\\gamma) = MM_U(\\gamma)+2MM_O\n",
    "$$\n",
    "\n",
    "Thus, the formulation of the macroscopic scattering cross section for $UO_2$ is given as the following.\n",
    "\n",
    "$$\n",
    "\\Sigma_{s}^{UO2}(\\gamma) = N_A\\frac{\\rho_{UO2}}{MM_U(\\gamma)+2MM_O}\\big(\\sigma_s^{U}+2\\sigma_s^{O}\\big)\n",
    "$$\n",
    "\n",
    "We can calculate the scattering cross section for the given inputs in python."
   ]
  },
  {
   "cell_type": "code",
   "execution_count": 2,
   "metadata": {
    "collapsed": false
   },
   "outputs": [
    {
     "name": "stdout",
     "output_type": "stream",
     "text": [
      "0.365995100148 cm^-1\n"
     ]
    }
   ],
   "source": [
    "# First, need to convert enrichment by mass into gamma, which is an atomic ratio\n",
    "def det_gamma(enrichment):\n",
    "    mol_u235 = enrichment/235\n",
    "    mol_u238 = (1-enrichment)/238\n",
    "    return(mol_u235/mol_u238)\n",
    "\n",
    "def det_scattering_xs(gamma, sxs_u = 8.9, sxs_o = 3.75, density = 10):\n",
    "    mm_u = (235*gamma+238)/(gamma+1)\n",
    "    mm_uo2 = mm_u+(2*16)\n",
    "    n_uo2 = 6.022141e23*density/(mm_uo2)\n",
    "    return(n_uo2*(sxs_u+2*sxs_o)*1e-24)\n",
    "\n",
    "e = 0.05\n",
    "# print(det_gamma(e))\n",
    "print(str(det_scattering_xs(det_gamma(e)))+' cm^-1')\n"
   ]
  },
  {
   "cell_type": "markdown",
   "metadata": {},
   "source": [
    "### 2) A major challenge in scientific computing is navigating the disparate architectures that comprise new supercomputers. "
   ]
  },
  {
   "cell_type": "markdown",
   "metadata": {},
   "source": [
    "#### (a) Look up the Top 10 supercomputing list and briefly describe the archi- tecture of the top three machines. List the number of machines of each type on the top 10 (e.g. X are GPU-accelerated, Y contain MICs, etc.)\n"
   ]
  },
  {
   "cell_type": "markdown",
   "metadata": {},
   "source": [
    "| Rank |    Computer        | Year | Peak Speed (Rmax) |          Architecture          |\n",
    "|:----:|:-------------------|:----:|:-----------------:|:-------------------------------|\n",
    "| 1    | Sunway TaihuLight  | 2016 | 93.01 PFLOPS      | Uses a total of 40,960 Chinese-designed SW26010 manycore 64-bit RISC processors (CPUs). Each processor chip contains 256 processing cores, and an additional four auxiliary cores for system management, for a total of 10,649,600 CPU cores across the entire system. |\n",
    "| 2    | NUDT Tianhe-2      | 2013 | 33.86 PFLOPS      | With 16,000 computer nodes, each comprising two Intel Ivy Bridge Xeon processors and three Xeon Phi coprocessor chips (MICs), it represented the world's largest installation of Ivy Bridge and Xeon Phi chips, counting a total of 3,120,000 cores. |   \n",
    "| 3    | Cray Titan         | 2012 | 17.59 PFLOPS      | Titan has 18,688 nodes, each containing a 16-core AMD Opteron 6274 CPU with 32 GB of DDR3 ECC memory and an Nvidia Tesla K20X GPU with 6 GB GDDR5 ECC memory. There are a total of 299,008 processor cores and a total of 693.6 TiB of CPU and GPU RAM. |\n",
    "\n",
    "\n",
    "The architecture specifications for each computer are obtained from the Wikipedia page associated with that computer."
   ]
  },
  {
   "cell_type": "markdown",
   "metadata": {},
   "source": [
    "#### (b) Describe the main characteristics of GPUs, MICs (multi integrated cores), and CPUs–memory, clock speed, structure, etc."
   ]
  },
  {
   "cell_type": "markdown",
   "metadata": {},
   "source": [
    "CPU: A central processing unit (CPU) is the electronic circuit in most computeres that carries out operations. Most CPUs are microprocessors in that they are contained on a single (or at most, a few) integrated circuit chips. Synchronous microprocessors have clock rates ranging from tens of MHz to several GHz. Associated RAM ranges from very little (2 GB) up to lots (16 GB).\n",
    "\n",
    "GPU: A graphics processing unit (GPU) is a specialized electronic circuit. It is made of thousands of very small cores and because of this highly parallel structure, it is more efficient than conventional CPUs at performing operations where processing of large blocks of data is done in parallel. GP (general purpose) GPUs are often used to \"boost\" computing power by doing CPU work; they have fast access to expensive internal memory which allows them to do operations faster than CPUs (which have to talk back and forth with the associated RAM). Clock speeds in the range of hundred MHz to a few GHz are possible; the GPUs in Titan have a base clock speed of about 732 MHz and 6144 MB internal memory.\n",
    "\n",
    "MICs: A many/multi-integrated core (MIC) is a processor sold by Intel that combines many CPU cores onto a single chip (rather than 2 to 4 in microprocessors, MICs have 50+). Doing this results in increased processing power relative to CPUs because the MICs are designed to handle many simple tasks in parallel, whereas CPU parallel performance is not as good. The Intel Xeon Phi has 64-72 cores, a clock speed around 1.3-1.5 GHz and DDR4-2400 (16 GB) RAM.\n"
   ]
  },
  {
   "cell_type": "markdown",
   "metadata": {},
   "source": [
    "#### (c) Based on what we’ve talked about so far, postulate challenges of solving the neutron transport equation in a way that would work on all of these architectures\n"
   ]
  },
  {
   "cell_type": "markdown",
   "metadata": {},
   "source": [
    "Solving the NTE in a way that would work on all of these architectures would require massive parallelization. If one wanted to incorporate the use of all of these architectures, they would have to allot different tasks to different machines. Breaking up those tasks in the best way possible is a challenge in and of itself. One must determine how many tasks they'd like to break the problem into - more tasks means that you can utilize more cores/chips, but also means that you need more information transfer between them, which takes time. Optimizing this over a massive machine (i.e. a supercomputer) is a type of science in and of itself!"
   ]
  },
  {
   "cell_type": "markdown",
   "metadata": {},
   "source": [
    "### 3) We often measure convergence by comparing one iteration to the previous iteration (rather than the solution, since we presumably don’t know what it is). Imagine that you have software that gives the following solution vectors\n",
    "\n",
    "$$\n",
    "\\begin{aligned}\n",
    "\\mathbf{x_{n-1}} = \\left(\\begin{array}{cc}\n",
    "0.45 \\\\\n",
    "0.95 \\\\\n",
    "0.20 \\\\\n",
    "-0.05 \\\\\n",
    "0.60 \\\\\n",
    "\\end{array} \\right)\n",
    "%\n",
    ",     \n",
    "%\n",
    "\\mathbf{x_{n}} = \\left(\\begin{array}{cc}\n",
    "0.50 \\\\\n",
    "0.90 \\\\\n",
    "0.30 \\\\\n",
    "-0.10 \\\\\n",
    "0.50 \\\\\n",
    "\\end{array}\\right)\n",
    "\\end{aligned}\n",
    "$$\n",
    "\n",
    "### Calculate:\n",
    "#### (a) The absolute and relative error using the 1 norm"
   ]
  },
  {
   "cell_type": "code",
   "execution_count": 1,
   "metadata": {
    "collapsed": true
   },
   "outputs": [],
   "source": [
    "# First, have to set up these two vectors\n",
    "import numpy as np\n",
    "x_old = np.array([0.45, 0.95, 0.20, -0.05, 0.60])\n",
    "x_new = np.array([0.50, 0.90, 0.30, -0.10, 0.50])"
   ]
  },
  {
   "cell_type": "markdown",
   "metadata": {},
   "source": [
    "The norms can be used to find the absolute and relative error as follows:\n",
    "\n",
    "$$\n",
    "e_{abs} = \\lVert x_n - x_{n-1} \\rVert\n",
    "$$\n",
    "\n",
    "$$\n",
    "e_{rel} = \\frac{ \\left\\lVert x_n - x_{n-1} \\right\\rVert }{\\left\\lVert x_n \\right\\rVert}\n",
    "$$\n",
    "\n",
    "For this problem, I write out how to compute the norms and errors, calculate them manually, and check the result utilizing the built-in numpy functions."
   ]
  },
  {
   "cell_type": "markdown",
   "metadata": {},
   "source": [
    "The 1-norm is the taxicab norm, taken as the sum of the absolute values of the vector. Thus, the absolute error with the 1-norm is found as follows:\n",
    "\n",
    "$$\n",
    "e_{abs} = \\lVert x_n - x_{n-1} \\rVert_1\n",
    "$$\n",
    "\n",
    "$$\n",
    "\\mathbf{x_n - x_{n-1}} = \\left(\\begin{array}{cc}\n",
    "0.50 - 0.45 \\\\\n",
    "0.90 - 0.95 \\\\\n",
    "0.30 - 0.20 \\\\\n",
    "-0.10 - -0.05\\\\\n",
    "0.50 - 0.60  \\\\\n",
    "\\end{array} \\right) = \n",
    "\\left(\\begin{array}{cc}\n",
    "0.05 \\\\\n",
    "-0.05 \\\\\n",
    "0.10 \\\\\n",
    "-0.05 \\\\\n",
    "-0.1 \\\\\n",
    "\\end{array} \\right)\n",
    "$$\n",
    "\n",
    "$$\n",
    "e_{abs} = \\lVert x_n - x_{n-1} \\rVert_1 = \\sum_i{|x_{n,i} - x_{n-1,i}|} = |0.05|+|-0.05|+|0.10|+|-0.05|+|-0.1| = 0.35\n",
    "$$\n",
    "\n",
    "The relative error is just the absolute value of the absolute error divided by the norm of the current solution vector. This gives the following:\n",
    "\n",
    "$$\n",
    "e_{rel} = \\frac{ \\left\\lVert x_n - x_{n-1} \\right\\rVert_1 }{\\left\\lVert x_n \\right\\rVert_1}\n",
    "$$\n",
    "\n",
    "$$\n",
    "e_{rel} = \\frac{0.35}{\\sum_i{|x_{n,i}|}} = \\frac{0.35}{|0.50|+|0.90|+|0.30|+|-0.10|+|0.50|} = 0.15\n",
    "$$"
   ]
  },
  {
   "cell_type": "code",
   "execution_count": 31,
   "metadata": {
    "collapsed": false
   },
   "outputs": [
    {
     "name": "stdout",
     "output_type": "stream",
     "text": [
      "Absolute error = 0.35\n",
      "Relative error = 0.152173913043\n"
     ]
    }
   ],
   "source": [
    "# The 1-norm is the taxicab norm, taken as the sum of the absolute values of the vector.\n",
    "# Absolute error\n",
    "print('Absolute error = '+str(np.linalg.norm(x_new-x_old, 1)))\n",
    "\n",
    "# Relative error\n",
    "print('Relative error = '+str(np.linalg.norm(x_new-x_old,1)/np.linalg.norm(x_new, 1)))\n"
   ]
  },
  {
   "cell_type": "markdown",
   "metadata": {},
   "source": [
    "#### (b) The absolute and relative error using the 2 norm\n",
    "\n",
    "The same as above can be done here. The 2-norm is the Euclidian norm, calculated as the square root of the sum of the values squared.\n",
    "\n",
    "$$\n",
    "\\mathbf{x_n - x_{n-1}} = \\left(\\begin{array}{cc}\n",
    "0.05 \\\\\n",
    "-0.05 \\\\\n",
    "0.10 \\\\\n",
    "-0.05 \\\\\n",
    "-0.1 \\\\\n",
    "\\end{array} \\right)\n",
    "$$\n",
    "\n",
    "$$\n",
    "e_{abs} = \\lVert x_n - x_{n-1} \\rVert_2 = \\sqrt{\\sum_i{(x_{n,i} - x_{n-1,i})^2}}\n",
    "$$\n",
    "\n",
    "$$\n",
    "e_{abs} = \\sqrt{(0.05)^2 + (-0.05)^2 + (0.10)^2 + (-0.05)^2 + (-0.1)^2} = 0.166\n",
    "$$\n",
    "\n",
    "$$\n",
    "e_{rel} = \\frac{ \\left\\lVert x_n - x_{n-1} \\right\\rVert_2}{\\left\\lVert x_n \\right\\rVert_2}\n",
    "$$\n",
    "\n",
    "$$\n",
    "e_{rel}=\\frac{0.166}{\\sqrt{\\sum_i{(x_{n,i})^2}}}=\\frac{0.166}{\\sqrt{(0.50)^2+(0.90)^2+(0.30)^2+(-0.10)^2+(0.50)^2}} = 0.140\n",
    "$$"
   ]
  },
  {
   "cell_type": "code",
   "execution_count": 33,
   "metadata": {
    "collapsed": false
   },
   "outputs": [
    {
     "name": "stdout",
     "output_type": "stream",
     "text": [
      "Absolute error = 0.165831239518\n",
      "Relative error = 0.139655096933\n"
     ]
    }
   ],
   "source": [
    "# The 2-norm is the Euclidian norm, calculated as the square root of the sum of the values squared.\n",
    "# Absolute error\n",
    "print('Absolute error = '+str(np.linalg.norm(x_new-x_old)))\n",
    "\n",
    "# Relative error\n",
    "print('Relative error = '+str(np.linalg.norm(x_new-x_old)/np.linalg.norm(x_new)))"
   ]
  },
  {
   "cell_type": "markdown",
   "metadata": {},
   "source": [
    "#### (c) The absolute and relative error using the infinity norm\n",
    "\n",
    "The infinity norm is simply the maximum value in the vector. Thus, the error terms can be calculated as follows:\n",
    "\n",
    "$$\n",
    "\\mathbf{x_n - x_{n-1}} = \\left(\\begin{array}{cc}\n",
    "0.05 \\\\\n",
    "-0.05 \\\\\n",
    "0.10 \\\\\n",
    "-0.05 \\\\\n",
    "-0.1 \\\\\n",
    "\\end{array} \\right)\n",
    "$$\n",
    "\n",
    "$$\n",
    "e_{abs} = \\lVert x_n - x_{n-1} \\rVert_{\\infty} = \\max_i{(x_{n,i} - x_{n-1,i})} = 0.10\n",
    "$$\n",
    "\n",
    "$$\n",
    "e_{rel} = \\frac{ \\left\\lVert x_n - x_{n-1} \\right\\rVert_{\\infty} }{\\left\\lVert x_n \\right\\rVert_{\\infty}}\n",
    "$$\n",
    "\n",
    "$$\n",
    "e_{rel}=\\frac{0.10}{\\max_i{x_{n,i}}} = \\frac{0.10}{0.90} = 0.11\n",
    "$$"
   ]
  },
  {
   "cell_type": "code",
   "execution_count": 34,
   "metadata": {
    "collapsed": false
   },
   "outputs": [
    {
     "name": "stdout",
     "output_type": "stream",
     "text": [
      "Absolute error = 0.1\n",
      "Relative error = 0.111111111111\n"
     ]
    }
   ],
   "source": [
    "# The infinity norm is simply the maximum value in the vector.\n",
    "# Absolute error\n",
    "print('Absolute error = '+str(np.linalg.norm(x_new-x_old, np.inf)))\n",
    "\n",
    "# Relative error\n",
    "print('Relative error = '+str(np.linalg.norm(x_new-x_old, np.inf)/np.linalg.norm(x_new, np.inf)))"
   ]
  },
  {
   "cell_type": "markdown",
   "metadata": {},
   "source": [
    "#### What is most restrictive (that is, what would cause the code to converge first)?"
   ]
  },
  {
   "cell_type": "markdown",
   "metadata": {},
   "source": [
    "The one that is the most restrictive (i.e. causes the code to converge first) is the one that yields the lowest error; that norm will most quickly cause the error vector to meet the convergence criterion. Judging by this example, the lowest value occurs for the **infinity norm**, because it has the lowest error for both absolute and relative error."
   ]
  },
  {
   "cell_type": "markdown",
   "metadata": {},
   "source": [
    "#### Imagine that now $\\boldsymbol{x_{n−1} = (0.49, 0.92, 0.4, −0.09, 0.51)^T}$ . Recalculate the convergence values. What do you observe? What does that mean about how you might select convergence criteria?\n",
    "\n",
    "Here, I do this calculation only using numpy, having demonstrated the calculations by-hand above. "
   ]
  },
  {
   "cell_type": "code",
   "execution_count": 35,
   "metadata": {
    "collapsed": true
   },
   "outputs": [],
   "source": [
    "x_old = np.array([0.49, 0.92, 0.40, -0.09, 0.51])"
   ]
  },
  {
   "cell_type": "code",
   "execution_count": 36,
   "metadata": {
    "collapsed": false
   },
   "outputs": [
    {
     "name": "stdout",
     "output_type": "stream",
     "text": [
      "1-norm\n",
      "Absolute error = 0.15\n",
      "Relative error = 0.0652173913043\n",
      "\n",
      "\n",
      "2-norm\n",
      "Absolute error = 0.103440804328\n",
      "Relative error = 0.0871128720814\n",
      "\n",
      "\n",
      "infinity-norm\n",
      "Absolute error = 0.1\n",
      "Relative error = 0.111111111111\n"
     ]
    }
   ],
   "source": [
    "# 1-norm\n",
    "print('1-norm')\n",
    "# Absolute error\n",
    "print('Absolute error = '+str(np.linalg.norm(x_new-x_old, 1)))\n",
    "# Relative error\n",
    "print('Relative error = '+str(np.linalg.norm(x_new-x_old,1)/np.linalg.norm(x_new, 1)))\n",
    "\n",
    "# 2-norm\n",
    "print('\\n')\n",
    "print('2-norm')\n",
    "# Absolute error\n",
    "print('Absolute error = '+str(np.linalg.norm(x_new-x_old)))\n",
    "# Relative error\n",
    "print('Relative error = '+str(np.linalg.norm(x_new-x_old)/np.linalg.norm(x_new)))\n",
    "\n",
    "# Infinity norm\n",
    "print('\\n')\n",
    "print('infinity-norm')\n",
    "# Absolute error\n",
    "print('Absolute error = '+str(np.linalg.norm(x_new-x_old, np.inf)))\n",
    "# Relative error\n",
    "print('Relative error = '+str(np.linalg.norm(x_new-x_old, np.inf)/np.linalg.norm(x_new, np.inf)))"
   ]
  },
  {
   "cell_type": "markdown",
   "metadata": {},
   "source": [
    "The absolute and relative errors using the infinity norm do not change. The infinity norm still produces the smallest absolute error. However, the absolute errors calculated using the 1- and 2-norms have significantly decreased and the relative errors from both are now less than those produced using the infinity-norm. This indicates that the infinity norm might be good to get coarse convergence, but for more precise solution, it might be best to use a different norm."
   ]
  },
  {
   "cell_type": "markdown",
   "metadata": {},
   "source": [
    "### 4) You have a piece of software that takes mesh spacing as an input variable. Imagine that you have the following relative error values for each mesh spacing $\\boldsymbol{(h)}$ / number of mesh cells (N cells):\n",
    "\n",
    "|  h   | N cells |   rel err      |\n",
    "|:----:|:-------:|:--------------:|\n",
    "| 1.00 | 8       | 8.44660179e-03 |\n",
    "| 0.50 | 16      | 2.30286448e-03 |\n",
    "| 0.10 | 80      | 9.84273963e-05 |\n",
    "| 0.05 | 160     | 2.48043656e-05 | \n",
    "| 0.01 | 800     | 9.98488163e-07 |\n",
    "\n",
    "### One of the ways we characterize method performance is the order of convergence. We’d like to know how the error changes as we change the resolution of our discretization, in this case, mesh spacing. Using a log-log plot, plot relative error as a function of:\n",
    "\n",
    "\n",
    "#### (a) mesh spacing"
   ]
  },
  {
   "cell_type": "code",
   "execution_count": 10,
   "metadata": {
    "collapsed": false
   },
   "outputs": [
    {
     "data": {
      "text/plain": [
       "[<matplotlib.lines.Line2D at 0x115958750>]"
      ]
     },
     "execution_count": 10,
     "metadata": {},
     "output_type": "execute_result"
    },
    {
     "data": {
      "image/png": "[encoded data removed]",
      "text/plain": [
       "<matplotlib.figure.Figure at 0x10d575550>"
      ]
     },
     "metadata": {},
     "output_type": "display_data"
    }
   ],
   "source": [
    "%matplotlib inline\n",
    "# Mesh spacing\n",
    "import matplotlib.pyplot as plt\n",
    "relerr = np.array([8.44660179e-03, 2.30286448e-03, 9.84273963e-05, 2.48043656e-05, 9.98488163e-07])\n",
    "h = np.array([1, 0.5, 0.1, 0.05, 0.01])\n",
    "plt.loglog(h, relerr, 'o')\n"
   ]
  },
  {
   "cell_type": "markdown",
   "metadata": {},
   "source": [
    "#### b) cell count"
   ]
  },
  {
   "cell_type": "code",
   "execution_count": 12,
   "metadata": {
    "collapsed": false
   },
   "outputs": [
    {
     "data": {
      "text/plain": [
       "[<matplotlib.lines.Line2D at 0x115ac8710>]"
      ]
     },
     "execution_count": 12,
     "metadata": {},
     "output_type": "execute_result"
    },
    {
     "data": {
      "image/png": "[encoded data removed]",
      "text/plain": [
       "<matplotlib.figure.Figure at 0x1159d4b10>"
      ]
     },
     "metadata": {},
     "output_type": "display_data"
    }
   ],
   "source": [
    "# Cell count\n",
    "cellcount = np.array([8, 16, 80, 160, 800])\n",
    "plt.loglog(cellcount, relerr, 'o')"
   ]
  },
  {
   "cell_type": "markdown",
   "metadata": {
    "collapsed": true
   },
   "source": [
    "Both of the relationships appear linear on the log-log scale, which indicates that the relationships between relative error and mesh spacing and cell count are monomial, i.e. of the form $e = ax^k$, where $e$ is the error, $a$ is the intercept, and $k$ is the slope. \n",
    "\n",
    "As mesh spacing increases, the relative error increases. The mesh spacing is related to the cell count because a tighter mesh means more cells. As the number of cells increases, the relative error decreases. "
   ]
  },
  {
   "cell_type": "markdown",
   "metadata": {},
   "source": [
    "### 5) What are six underlying assumptions in the neutron transport equation? Write at least one sentence explaining what each assumption means and why we need or want to make it."
   ]
  },
  {
   "cell_type": "markdown",
   "metadata": {},
   "source": [
    "* Particles are point objects. This implies that their de Broglie wavelength $\\lambda = \\frac{h}{mv}$ is small compared to atomic diameter. Their state is fully described by location, velocity vector, and a given time. Rotation and quantum effects are ignored. This set of assumptions is significant because it lays the basis for the flux dependencies of the transport equation and eliminates less significant aspects of the physics that would complicate the equation.\n",
    "\n",
    "\n",
    "* Neutral particles travel in straight lines between collisions. This is a reflection of the underlying physics (neutrality means no attraction) but also implies no gravitational effects, which avoids complication of the equation.\n",
    "\n",
    "\n",
    "* Particle-particle interactions are negligible. By not considering self-interaction, the tranport equation becomes linear and much easier to solve.\n",
    "\n",
    "\n",
    "* Material properties are isotropic. This is important because while material properties should depend on the region of interest, to have them depend on direction would make the equation much more difficult to solve. In general, this assumption is true unless particle velocities are really low.\n",
    "\n",
    "\n",
    "* Material composition is time-independent. This is generally valid over short time scales and eliminates a dependency, making solution easier. To take into account changes in material properties (i.e. consumption of fissile material), one can alternate flux calculations with solution of Bateman equations.\n",
    "\n",
    "\n",
    "* Quantities ($\\psi, \\chi, \\nu $, etc) are expected values. In most cases, this assumption is valid, but for material properties in regions with very low densities, fluctuations about the mean are not accounted for and can produce high variance. "
   ]
  },
  {
   "cell_type": "markdown",
   "metadata": {},
   "source": [
    "### 6) Consider the transport equation:\n",
    "\n",
    "$$\n",
    "\\begin{align}\n",
    "&\\underbrace{\\frac{1}{v}\\frac{\\partial \\psi}{\\partial t}(\\vec{r},E,\\hat{\\Omega},t)}_{\\text{A}} + \n",
    "\\underbrace{\\hat{\\Omega}\\cdot  \\nabla \\psi(\\vec{r},E,\\hat{\\Omega},t)}_{\\text{B}} +\n",
    " \\underbrace{\\Sigma_t(\\vec{r},E)\\psi(\\vec{r},E,\\hat{\\Omega},t) }_{\\text{C}} = \\underbrace{S(\\vec{r}, E, \\hat{\\Omega},t)}_{\\text{D}}\n",
    "\\\\& \\quad\\quad\\quad\\quad + \\underbrace{\\int_0^{\\infty}dE'\\int_{4\\pi}d\\hat{\\Omega}'\\Sigma_s(\\vec{r}, E'\\rightarrow E,\\hat{\\Omega}'\\cdot\\hat{\\Omega})\n",
    "\\psi(\\vec{r},E',\\hat{\\Omega}',t)}_{\\text{E}}\\nonumber\n",
    "\\\\&\\quad\\quad\\quad\\quad +\\underbrace{\\frac{\\chi(E)}{4\\pi}\\int_0^{\\infty}dE'\\nu\\Sigma_f(\\vec{r},E')\n",
    "\\int_{4\\pi}d\\hat{\\Omega}'\\psi(\\vec{r},E',\\hat{\\Omega}',t)}_{\\text{F}}\\nonumber\n",
    "\\\\&\\quad\\quad\\quad\\quad \\nonumber.\n",
    "\\end{align}\n",
    "$$\n",
    "\n",
    "#### (a) Briefly describe what each term in the Transport Equation physically represents."
   ]
  },
  {
   "cell_type": "markdown",
   "metadata": {},
   "source": [
    "A: Time rate of change of neutrons at position $\\vec{r}$ with energy $E$, direction $\\hat{\\Omega}$ at time $t$\n",
    "\n",
    "\n",
    "B: Streaming loss rate - how many neutrons are entering vs. exiting the differential volume at position $\\vec{r}$ with energy $E$, direction $\\hat{\\Omega}$ at time $t$\n",
    "\n",
    "\n",
    "C: Total interaction loss rate - how many neutrons at position $\\vec{r}$ with energy $E$, direction $\\hat{\\Omega}$ at time $t$ are reacting or disappearing due to interactions.\n",
    "\n",
    "\n",
    "D: External source rate - some addition of neutrons with position $\\vec{r}$ with energy $E$, direction $\\hat{\\Omega}$ at time $t$.\n",
    "\n",
    "\n",
    "E: In-scattering source rate - how many neutrons with position $\\vec{r}$ with energy $E'$, direction $\\hat{\\Omega}'$ at time $t$ are scattering into the direction and energy ranges of interest, $\\hat{\\Omega}$ and $E$.\n",
    "\n",
    "\n",
    "F: Fission source rate - how many neutrons with position $\\vec{r}$ with energy $E$, direction $\\hat{\\Omega}$ at time $t$ are formed from fission caused by neutrons with direction and energy $\\hat{\\Omega'}$ and $E'$."
   ]
  },
  {
   "cell_type": "markdown",
   "metadata": {},
   "source": [
    "#### (b) Rewrite the time independent form of the equation to include azimuthal symmetry. Show the steps needed to get there."
   ]
  },
  {
   "cell_type": "markdown",
   "metadata": {
    "collapsed": true
   },
   "source": [
    "The time independent form of the transport equation can be written as follows:\n",
    "\n",
    "$$\n",
    "\\begin{align}\n",
    "&\\hat{\\Omega}\\cdot  \\nabla \\psi(\\vec{r},E,\\hat{\\Omega}) +\n",
    " \\Sigma_t(\\vec{r},E)\\psi(\\vec{r},E,\\hat{\\Omega}) = S(\\vec{r}, E, \\hat{\\Omega})\n",
    "\\\\& \\quad\\quad\\quad\\quad + \\int_0^{\\infty}dE'\\int_{4\\pi}d\\hat{\\Omega}'\\Sigma_s(\\vec{r}, E'\\rightarrow E,\\hat{\\Omega}'\\cdot\\hat{\\Omega})\n",
    "\\psi(\\vec{r},E',\\hat{\\Omega}',t)\\nonumber\n",
    "\\\\&\\quad\\quad\\quad\\quad +\\frac{\\chi(E)}{4\\pi}\\int_0^{\\infty}dE'\\nu\\Sigma_f(\\vec{r},E')\n",
    "\\int_{4\\pi}d\\hat{\\Omega}'\\psi(\\vec{r},E',\\hat{\\Omega}')\\nonumber\n",
    "\\\\&\\quad\\quad\\quad\\quad \\nonumber.\n",
    "\\end{align}\n",
    "$$\n",
    "\n",
    "At this point, the time dependences have been removed and the first term (partial with respect to time) has been deleted. To apply azimuthal symmetry to the TE, we must deal with the integration over $d\\hat{\\Omega}$:\n",
    "\n",
    "$$\n",
    "d\\hat{\\Omega} = sin(\\theta) d\\theta d\\phi\n",
    "$$\n",
    "\n",
    "Azimuthal symmetry allows us to evaluate the $\\phi$ portion of $d\\hat{\\Omega}$, and so each integral over angle becomes an integral over $\\mu$ from -1 to 1.\n",
    "\n",
    "$$\n",
    "\\int_{4\\pi}d\\hat{\\Omega} = \\int_{0}^{2\\pi}d\\phi \\int_{\\frac{-\\pi}{2}}^{\\frac{\\pi}{2}}sin(\\theta)d\\theta = \\int_{0}^{2\\pi}d\\phi \\int_{-1}^{1}d\\mu = 4\\pi\n",
    "$$\n",
    "\n",
    "Thus, the integration of $\\psi$ over angle becomes:\n",
    "$$\n",
    "\\int_{4\\pi}d\\hat{\\Omega}\\psi(\\vec{r},E,\\hat{\\Omega}) = \\int_{0}^{2\\pi}d\\phi \\int_{-1}^{1}d\\mu \\psi(\\vec{r},E,\\mu) = 2\\pi \\int_{-1}^{1}d\\mu \\psi(\\vec{r},E,\\mu)\n",
    "$$\n",
    "\n",
    "Applying this to the transport equation, we treat the terms in different ways. Most are straightforward, but the scattering term is rewritten with macroscopic scattering cross section $\\Sigma_s(\\vec{r}, \\mu)$; when written this way, azimuthal symmetry is implied because $\\hat{\\Omega}'\\cdot\\hat{\\Omega} = \\mu$.\n",
    "\n",
    "Thus, we arrive at the following:\n",
    "\n",
    "$$\n",
    "\\begin{align}\n",
    "&\\mu\\cdot  \\nabla \\psi(\\vec{r},E,\\mu) +\n",
    " \\Sigma_t(\\vec{r},E)\\psi(\\vec{r},E,\\mu) = S(\\vec{r}, E, \\mu)\n",
    "\\\\& \\quad\\quad\\quad\\quad + 2\\pi\\int_0^{\\infty}dE'\\int_{-1}^{1}d\\mu'\\Sigma_s(\\vec{r}, E'\\rightarrow E,\\mu)\n",
    "\\psi(\\vec{r},E',\\mu',t)\n",
    "\\\\&\\quad\\quad\\quad\\quad +\\frac{\\chi(E)}{2}\\int_0^{\\infty}dE'\\nu\\Sigma_f(\\vec{r},E')\n",
    "\\int_{-1}^{1}d\\hat{\\mu}'\\psi(\\vec{r},E',\\mu')\n",
    "\\end{align}\n",
    "$$\n",
    "\n",
    "The $2\\pi$ from the fission term canceled with the $4\\pi$ in the denominator below the fission energy spectrum.\n"
   ]
  },
  {
   "cell_type": "markdown",
   "metadata": {
    "collapsed": true
   },
   "source": [
    "### 7) Solve the following differential equation by hand:\n",
    "\n",
    "$$\n",
    "\\frac{d^{2}y}{dx^{2}}+3y(x)=sin(x) \\quad\\quad x \\in [0,1]\n",
    "$$\n",
    "\n",
    "#### where $\\boldsymbol{y(0) = 1}$, $\\boldsymbol{y(1) = 3}$."
   ]
  },
  {
   "cell_type": "markdown",
   "metadata": {},
   "source": [
    "The above equation has a solution of the form:\n",
    "\n",
    "$$\n",
    "y = y_{h}+y_{p}\n",
    "$$\n",
    "\n",
    "where $y_h$ is the solution to the corresponding homogeneous equation and $y_p$ is the solution that satisfies the nonhomegenous equation. The corresponding homogeneous equation has $0$ on the RHS instead of $sin(x)$. \n",
    "\n",
    "$$\n",
    "\\frac{d^{2}y}{dx^{2}}+3y(x)=0 \\quad\\quad x \\in [0,1]\n",
    "$$\n",
    "\n",
    "The solution to the homogeneous equation is always of the form:\n",
    "\n",
    "$$\n",
    "y_h = C_{1}e^{r_{1}x}+ C_{2}e^{r_{2}x}\n",
    "$$\n",
    "\n",
    "To find this solution, we solve the characteristic equation, which in this case is $r^2 - 3 = 0$. This has the roots $\\pm \\sqrt{3}$. Therefore,\n",
    "\n",
    "$$\n",
    "y_h = C_{1}e^{\\sqrt{3}x}+ C_{2}e^{-\\sqrt{3}x}\n",
    "$$\n",
    "\n",
    "To find the particular solution, we can perform the \"method of undetermined coefficients\". We know the relationship of sines and cosines under integration and differentiation. Therefore, we should choose a function of the form $y_p = Acos(x)+Bsin(x)$. Then, we know that:\n",
    "\n",
    "$$\n",
    "y_p'' = -Acos(x)-Bsin(x)\n",
    "$$\n",
    "\n",
    "Plugging into our equation, we get:\n",
    "\n",
    "$$\n",
    "-Acos(x)-Bsin(x) + 3Acos(x) + 3Bsin(x) = sin(x)\n",
    "$$\n",
    "\n",
    "We can see right away that $A=0$. To find $B$ is simple algebra.\n",
    "\n",
    "$$\n",
    "-Bsin(x) + 3Bsin(x) = sin(x)\n",
    "$$\n",
    "\n",
    "$$\n",
    "2B = 1\n",
    "$$\n",
    "\n",
    "So $B = \\frac{1}{2}$. The solution to the differential equation is:\n",
    "\n",
    "$$\n",
    "y = C_{1}e^{\\sqrt{3}x} + C_{2}e^{-\\sqrt{3}x} + \\frac{1}{2}sin(x)\n",
    "$$\n",
    "\n",
    "To find $C_1$ and $C_2$, we plug in the known values, namely that $y(0)=1$ and $y(1)=3$.\n",
    "\n",
    "$$\n",
    "y(x = 0) = 1 = C_{1} + C_{2}\n",
    "$$\n",
    "\n",
    "$$\n",
    "y(x = 1) = 3 = C_{1}e^{\\sqrt{3}} + C_{2}e^{-\\sqrt{3}} + \\frac{1}{2}sin(1)\n",
    "$$\n",
    "\n",
    "$$\n",
    "3 = C_{1}e^{\\sqrt{3}} + (1-C_{1})e^{-\\sqrt{3}} + \\frac{1}{2}sin(1)\n",
    "$$\n",
    "\n",
    "$$\n",
    "C_1 \\left[e^{\\sqrt{3}}-e^{-\\sqrt{3}}\\right] = 3 - \\frac{1}{2}sin(1) - e^{-\\sqrt{3}}\n",
    "$$\n",
    "\n",
    "$$\n",
    "C_1 = \\frac{3 - \\frac{1}{2}sin(1) - e^{-\\sqrt{3}}}{e^{\\sqrt{3}}-e^{-\\sqrt{3}}} \n",
    "$$\n",
    "\n",
    "$$\n",
    "C_2 = 1 - C_1 = 1 - \\frac{3 - \\frac{1}{2}sin(1) - e^{-\\sqrt{3}}}{e^{\\sqrt{3}}-e^{-\\sqrt{3}}} \n",
    "$$\n",
    "\n",
    "With our coefficients determined, the final solution is given as:\n",
    "\n",
    "$$\n",
    "y(x) = \\left[ \\frac{3-\\frac{1}{2}sin(1)-e^{-\\sqrt{3}}}{e^{\\sqrt{3}}-e^{-\\sqrt{3}}}\\right]e^{\\sqrt{3}x}+\\left[1-\\frac{3 - \\frac{1}{2}sin(1)-e^{-\\sqrt{3}}}{e^{\\sqrt{3}}-e^{-\\sqrt{3}}}\\right]e^{-\\sqrt{3}x}+\\frac{1}{2}sin(x)\n",
    "$$\n",
    "\n",
    "#### What simplifications to the transport equation would have been required to get an equation form that looks like this?\n",
    "\n",
    "To get the transport equation into a form like this one, a number of simplifications and approximations must be made. Note that there is only dependence on one variable. This means reducing the TE phase space by assuming one dimension ($x$), monoenergetic, and time-independent. Further, the angular dependence should be reduced by making the $P_1$ approximation on the TE with an isotropic source; this implies linearly anisotropic flux. Ultimately, this results in the diffusion equation.\n",
    "\n",
    "$$\n",
    "\\frac{-1}{3(\\Sigma_t - \\Sigma_{s,1})}\\frac{d^2\\phi_0}{dx^2}+\\Sigma_a\\phi_0(x) = S_0(x)\n",
    "$$"
   ]
  },
  {
   "cell_type": "markdown",
   "metadata": {
    "collapsed": true
   },
   "source": [
    "### 8) At what energy is the lowest isolated resonance of U-235, U-238, Pu-239, Pu-240, Pu-241, and Pu-242? Why do we care about that?"
   ]
  },
  {
   "cell_type": "markdown",
   "metadata": {},
   "source": [
    "Considering the (n,tot) microscopic cross section; read off graphs from ENDF (ENDF/B-VII.1):\n",
    "\n",
    "* U-235: ~0.28 eV; ~255 b\n",
    "* U-238: ~6.8 ev; ~7300 b\n",
    "* Pu-239: ~0.30 eV; ~5500 b\n",
    "* Pu-240: ~1.06 eV; ~126460 b \n",
    "* Pu-241: ~0.256 eV ; ~2435 b\n",
    "* Pu-242: ~2.68 eV; 34700 b\n",
    "\n",
    "We should care about these isolated resonances in thermal reactors as neutrons slow from fast energies to thermal ones. In particular, these resonance represent huge changes in cross section over very narrow energy ranges for very important species with respect to neutronics. In addition, these low-energy resonances are in an energy region that encompasses a potentially high number of neutrons. Correctly incorporating these resonances in thermal reactor calculations should be very important to getting a result that appropriately models the reactor physics."
   ]
  },
  {
   "cell_type": "code",
   "execution_count": null,
   "metadata": {
    "collapsed": true
   },
   "outputs": [],
   "source": []
  }
 ],
 "metadata": {
  "anaconda-cloud": {},
  "kernelspec": {
   "display_name": "Python [Root]",
   "language": "python",
   "name": "Python [Root]"
  },
  "language_info": {
   "codemirror_mode": {
    "name": "ipython",
    "version": 2
   },
   "file_extension": ".py",
   "mimetype": "text/x-python",
   "name": "python",
   "nbconvert_exporter": "python",
   "pygments_lexer": "ipython2",
   "version": "2.7.12"
  }
 },
 "nbformat": 4,
 "nbformat_minor": 0
}
