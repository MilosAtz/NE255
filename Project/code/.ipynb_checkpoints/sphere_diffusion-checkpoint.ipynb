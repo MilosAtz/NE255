{
 "cells": [
  {
   "cell_type": "markdown",
   "metadata": {},
   "source": [
    "# Diffusion in spherical core and reflector"
   ]
  },
  {
   "cell_type": "markdown",
   "metadata": {},
   "source": [
    "Milos Atz\n",
    "\n",
    "2016-12-10"
   ]
  },
  {
   "cell_type": "markdown",
   "metadata": {},
   "source": [
    "To validate the results of the python transport code, I want to solve the analogous problem analytically using diffusion theory. In this notebook I reference a similar problem and solution that can be found in \"Fundatmentals of Nuclear Reactor Physics\" by E. E. Lewis (Ch. 6 pg. 151)."
   ]
  },
  {
   "cell_type": "markdown",
   "metadata": {},
   "source": [
    "Consider a two region spherical system of total radius $R_2$. The sphere consists of two regions, a core with radius $R_1$ and a reflector with thickness $R_2 - R_1$. In region 1, the material properties are $D_1$ and $\\Sigma_{a,1}$ and there is a uniform source $s_o$. In region two, there is no source and the material properties are $D_2$ and $\\Sigma_{a,2}$. We would like to find the neutron flux in this system."
   ]
  },
  {
   "cell_type": "markdown",
   "metadata": {},
   "source": [
    "In each region, the flux can be described by the diffusion differential equations, which are given as follows:\n",
    "\n",
    "$$\n",
    "-\\frac{1}{r^2}\\frac{d}{dr}r^2\\frac{d}{dr}\\phi(r)+\\frac{1}{L_1^2}\\phi(r) = \\frac{1}{D_1}s_o, \\space\\space\\space\\space 0 \\le r \\ R_1\n",
    "$$\n",
    "\n",
    "$$\n",
    "-\\frac{1}{r^2}\\frac{d}{dr}r^2\\frac{d}{dr}\\phi(r)+\\frac{1}{L_2^2}\\phi(r) = 0, \\space\\space\\space\\space R_1 \\le r \\ R_2\n",
    "$$"
   ]
  },
  {
   "cell_type": "markdown",
   "metadata": {},
   "source": [
    "Here, $L$ is defined as $\\sqrt{D/\\Sigma_a}$. There will be a general and particular solution to this problem. For the uniform source, the particular solution is a constant:\n",
    "\n",
    "$$\n",
    "\\phi_p = \\frac{L_1^2}{D_1}s_o = \\frac{s_o}{\\Sigma_{a,1}}\n",
    "$$"
   ]
  },
  {
   "cell_type": "markdown",
   "metadata": {},
   "source": [
    "The general solution must satisfy the that in both regions, the left hand side of the equations about equal 0. In each region, it is of the form:\n",
    "\n",
    "$$\n",
    "\\phi_g(r) = \\frac{C_1}{r}e^{\\frac{r}{L}}+\\frac{C_2}{r}e^{\\frac{-r}{L}}\n",
    "$$"
   ]
  },
  {
   "cell_type": "markdown",
   "metadata": {},
   "source": [
    "The solution for the whole system can be written as $\\phi_g + \\phi_p$:\n",
    "\n",
    "$$\n",
    "\\phi(r) = \\frac{C_1}{r}e^{\\frac{r}{L_1}}+\\frac{C_2}{r}e^{\\frac{-r}{L_1}}+\\frac{s_o}{\\Sigma_{a,1}}, \\space\\space\\space\\space 0 \\le r \\lt R_1\n",
    "$$\n",
    "\n",
    "$$\n",
    "\\phi(r) = \\frac{C_3}{r}e^{\\frac{r}{L_2}}+\\frac{C_4}{r}e^{\\frac{-r}{L_2}}, \\space\\space\\space\\space R_1 \\le r \\lt R_2\n",
    "$$"
   ]
  },
  {
   "cell_type": "markdown",
   "metadata": {},
   "source": [
    "We use the boundary conditions to identify the constants $C_i$.\n",
    "1. Finite flux at the center of the sphere: $0 \\lt \\phi(0) \\lt \\infty$,\n",
    "\n",
    "2. Vacuum boundary outside the reflector: $\\phi(R_2+a)=0$,\n",
    "\n",
    "3. Interface condition for continuity of the flux: $\\phi(R_1^-)=\\phi(R_1^+)$,\n",
    "\n",
    "4. Interface condition for continuity of the current: $D_1\\frac{d}{dr}\\phi(r)\\big|_{R_{1-}} = D_2\\frac{d}{dr}\\phi(r)\\big|_{R_{1+}}$\n"
   ]
  },
  {
   "cell_type": "markdown",
   "metadata": {},
   "source": [
    "Applying BC 1 by taking the limit of the equation in region 1 as $r$ goes to zero gives the result that $C_2 = -C_1$ for the flux to remain finite. Then, the equation for flux in region 1 reduces to\n",
    "\n",
    "$$\n",
    "\\phi(r) = \\frac{2C_1}{r}\\sinh(r/L)+\\frac{s_o}{\\Sigma_{a,1}}, \\space\\space\\space\\space 0 \\le r \\lt R_1\n",
    "$$"
   ]
  },
  {
   "cell_type": "markdown",
   "metadata": {},
   "source": [
    "Applying vacuum boundary conditions to the boundary at $R_2$, we can express $C_4$ in terms of $C_3$ and eliminate it from the equation.\n",
    "\n",
    "$$\n",
    "\\phi(R_2+a) = 0 = \\frac{C_3}{R_2+a}e^{\\frac{R_2+a}{L_2}}+\n",
    "\\frac{C_4}{R_2+a}e^{-\\frac{R_2+a}{L_2}}\n",
    "$$\n",
    "\n",
    "$$\n",
    "-\\frac{C_3}{R_2+a}e^{\\frac{R_2+a}{L_2}} = \\frac{C_4}{R_2+a}e^{-\\frac{R_2+a}{L_2}}\n",
    "$$\n",
    "\n",
    "$$\n",
    "C_4 = -C_3e^{2\\frac{R_2+a}{L_2}}\n",
    "$$"
   ]
  },
  {
   "cell_type": "markdown",
   "metadata": {},
   "source": [
    "The equations for flux in each region are now the following\n",
    "\n",
    "$$\n",
    "\\phi(r) = \\frac{2C_1}{r}\\sinh(r/L)+\\frac{s_o}{\\Sigma_{a,1}}, \\space\\space\\space\\space 0 \\le r \\lt R_1\n",
    "$$\n",
    "\n",
    "$$\n",
    "\\phi(r) = \\frac{C_3}{r}e^{\\frac{r}{L_2}}\n",
    "-\\frac{C_3}{r}e^{2\\frac{R_2+a}{L_2}}e^{\\frac{-r}{L_2}}, \\space\\space\\space\\space R_1 \\le r \\lt R_2\n",
    "$$"
   ]
  },
  {
   "cell_type": "markdown",
   "metadata": {},
   "source": [
    "For the sake of making this easier to type, I want to define some shorthand constants.\n",
    "\n",
    "$$\n",
    "A = e^{2\\frac{R_2+a}{L_2}}\n",
    "$$\n",
    "\n",
    "Applying BCs 3 and 4 gets messy and I'm not going to write it up here because I'm lazy. However, with two equations and two unknowns, it allows us to eliminate one of the remaining constants and express the other in terms of constants. By BC 3, we can find $C_1$ in terms of $C_3$.\n",
    "\n",
    "$$\n",
    "C_1 =\\left(\\frac{C_3}{R_1}\\left[e^{\\frac{R_1}{L_2}}-Ae^{-\\frac{R_1}{L_2}}\\right] - \\frac{s_o}{\\Sigma_{a,1}}\\right)\n",
    "$$"
   ]
  },
  {
   "cell_type": "markdown",
   "metadata": {},
   "source": [
    "Applying BC4 gets even messier, and eventually we find that:\n",
    "\n",
    "$$\n",
    "C_3 = \\frac{2 D_1 s_o}{\\Sigma_{a,1}}\n",
    "\\left[\\frac{2 D_1}{R_1}\\left(e^{\\frac{R_1}{L_2}}\n",
    "-Ae^{-\\frac{R_1}{L_2}}\\right)-\\frac{DB}{C} \\right]^{-1}\n",
    "$$\n",
    "\n",
    "where\n",
    "\n",
    "$$\n",
    "B = \\frac{2}{R_1}\\sinh(R_1/L_1)\n",
    "$$\n",
    "\n",
    "$$\n",
    "C = \\frac{R_1\\cosh(R_1/L_1)-L_1\\sinh(R_1/L_1)}{L_1R_1^2}\n",
    "$$\n",
    "\n",
    "$$\n",
    "D = \\frac{Ae^{-\\frac{R_1}{L_2}}+e^{\\frac{R_1}{L_2}}}{L_2R_1}-\n",
    "\\frac{e^{\\frac{R_1}{L_2}}-Ae^{-\\frac{R_1}{L_2}}}{R_1^2}\n",
    "$$"
   ]
  },
  {
   "cell_type": "markdown",
   "metadata": {
    "collapsed": true
   },
   "source": [
    "We can implement this in code and show the flux profile as a function of the radius."
   ]
  },
  {
   "cell_type": "code",
   "execution_count": 170,
   "metadata": {
    "collapsed": false
   },
   "outputs": [],
   "source": [
    "import math\n",
    "from math import exp\n",
    "from math import cosh\n",
    "from math import sinh\n",
    "from math import sqrt\n",
    "import numpy as np\n",
    "from numpy.polynomial.legendre import leggauss\n",
    "import matplotlib.pyplot as plt\n",
    "%matplotlib inline"
   ]
  },
  {
   "cell_type": "markdown",
   "metadata": {},
   "source": [
    "I've written a function solely to generate the constants from those nasty equations above."
   ]
  },
  {
   "cell_type": "code",
   "execution_count": 127,
   "metadata": {
    "collapsed": true
   },
   "outputs": [],
   "source": [
    "def det_constants(R1, R2, xs_a1, xs_a2, D1, D2, s):\n",
    "    L1 = sqrt(D1/xs_a1)\n",
    "    L2 = sqrt(D2/xs_a2)\n",
    "    # extrapolation distance\n",
    "    a = 2.0/3.0/xs_a2\n",
    "    A = exp(2*(R2+a)/L2)\n",
    "    B = 2*sinh(R1/L1)/R1\n",
    "    C = (R1*cosh(R1/L1)-L1*sinh(R1/L1))/(L1*R1**2)\n",
    "    D = (A*exp(-R1/L2)+exp(R1/L2))/L2/R1 - (exp(R1/L2)-A*exp(-R1/L2))/R1**2\n",
    "    const3 = (2*D1*s/xs_a1)/((2*D1/R1)*(exp(R1/L2)-A*exp(-R1/L2))-D*B/C)\n",
    "    const1 = ((const3/R1)*(exp(R1/L2)-A*exp(-R1/L2))-(s/xs_a1))/B\n",
    "    return(const1, const3)"
   ]
  },
  {
   "cell_type": "markdown",
   "metadata": {},
   "source": [
    "This equation returns the flux according to the input radial position $r$ and the various constants that define the system."
   ]
  },
  {
   "cell_type": "code",
   "execution_count": 166,
   "metadata": {
    "collapsed": true
   },
   "outputs": [],
   "source": [
    "def det_reflected_flux(r, R1, R2, xs_tot1, xs_s1, xs_tot2, xs_s2, s, mu):\n",
    "    # mu is assumed to be the same in both the core and reflector\n",
    "    # Determine properties for core\n",
    "    xs_a1 = xs_tot1-xs_s1\n",
    "    xs_tr1 = xs_a1 - (1-mu)*xs_s1\n",
    "    D1 = 1.0/3.0/xs_tr1\n",
    "    L1 = sqrt(D1/xs_a1)\n",
    "    # Determine properties for reflector\n",
    "    xs_a2 = xs_tot2-xs_s2\n",
    "    xs_tr2 = xs_a2 - (1-mu)*xs_s2\n",
    "    D2 = 1.0/3.0/xs_tr2\n",
    "    L2 = sqrt(D2/xs_a2)\n",
    "    # calculate equation constants    \n",
    "    C1, C3 = det_constants(R1, R2, xs_a1, xs_a2, D1, D2, s)\n",
    "    # extrapolation distance\n",
    "    a = 2.0/3.0/xs_a2\n",
    "    if(r<R1):\n",
    "        phi = (2*C1/r)*sinh(r/L1)+s/xs_a1\n",
    "    #elif(r>=R1 and r<R2):\n",
    "    else:\n",
    "        phi = C3*(exp(r/L2)-exp(2*(R2+a)/L2)*exp(-r/L2))/r\n",
    "    return(phi)"
   ]
  },
  {
   "cell_type": "code",
   "execution_count": 173,
   "metadata": {
    "collapsed": false
   },
   "outputs": [
    {
     "data": {
      "image/png": "[encoded data removed]",
      "text/plain": [
       "<matplotlib.figure.Figure at 0x1088d64d0>"
      ]
     },
     "metadata": {},
     "output_type": "display_data"
    }
   ],
   "source": [
    "########################################################\n",
    "# Initialize values\n",
    "R1 = 1.0 # core radius\n",
    "R2 = 2.0 # deposition radius (so thickness is 1.0).\n",
    "nSteps = 21\n",
    "# Neutronic variables - specify the XS in each region\n",
    "# Core\n",
    "sigma_tot_core = 2.0\n",
    "sigma_s_core = 0.1\n",
    "# Reflector\n",
    "sigma_tot_refl = 3.5\n",
    "sigma_s_refl = 0.5\n",
    "# uniform source\n",
    "s = 0.1\n",
    "# make up something for mu; average the positive values of mu\n",
    "# from gaussian quadrature\n",
    "mu = np.average([m > 0.0 for m in leggauss(4)[0]])\n",
    "# preallocate spatial steps\n",
    "rad = np.linspace(0.1, R2, nSteps)\n",
    "flux = np.zeros(nSteps)\n",
    "bareflux = np.zeros(nSteps)\n",
    "for i in range(0, nSteps):\n",
    "    flux[i]=det_reflected_flux(rad[i], R1, R2, sigma_tot_core, sigma_s_core,\\\n",
    "                     sigma_tot_refl, sigma_s_refl, s, mu)\n",
    "plt.plot(rad, flux)\n",
    "plt.xlabel('r')\n",
    "plt.ylabel('flux')\n",
    "plt.autoscale(enable=False)\n",
    "plt.plot([R1, R1], [-1, 1], 'r')\n",
    "x_refl_frac = R1/round(max(rad))\n",
    "plt.title('diffusion soln in reflected sphere w/ uniform source')\n",
    "plt.annotate('core', (x_refl_frac-0.2, 0.9), xycoords='axes fraction', fontsize=12)#, \\\n",
    "plt.annotate('reflector', (x_refl_frac+0.1, 0.9), xycoords='axes fraction', fontsize=12)#, \\\n",
    "#         else:\n",
    "#             plt.title('diffusion soln in reflected sphere w/ uniform source')\n",
    "#     else:\n",
    "#         plt.title('diffusion soln in bare sphere w/ origin pt source')\n",
    "        \n",
    "plt.show()"
   ]
  },
  {
   "cell_type": "markdown",
   "metadata": {},
   "source": [
    "I've also written two additional functions for more test problems. The first is for flux in a bare sphere with uniform source (as opposed to the two region problem involving a reflector). The second is for an isotropic point source at the center of the sphere. Neither of these solutions are derived here."
   ]
  },
  {
   "cell_type": "code",
   "execution_count": 161,
   "metadata": {
    "collapsed": true
   },
   "outputs": [],
   "source": [
    "def det_bare_flux(r, R, source, xs_tot, xs_s, mu):\n",
    "    xs_a = xs_tot-xs_s\n",
    "    xs_tr = xs_a - (1-mu)*xs_s\n",
    "    D = 1.0/3.0/xs_tr\n",
    "    L = sqrt(D/xs_a)\n",
    "    a = 2.0/3.0/xs_a\n",
    "    c1 = -source*(R+a)/xs_a/2/sinh((R+a)/L)\n",
    "    phi = (2*c1/r)*sinh(r/L)+source/xs_a\n",
    "    return(phi)"
   ]
  },
  {
   "cell_type": "code",
   "execution_count": 174,
   "metadata": {
    "collapsed": false
   },
   "outputs": [
    {
     "data": {
      "image/png": "[encoded data removed]",
      "text/plain": [
       "<matplotlib.figure.Figure at 0x1088e3c10>"
      ]
     },
     "metadata": {},
     "output_type": "display_data"
    }
   ],
   "source": [
    "R1 = 10.0\n",
    "nSteps = 100\n",
    "xs_tot = 2.5\n",
    "xs_s = 0.5\n",
    "s = 0.5\n",
    "# make up something for mu; average the positive values of mu\n",
    "# from gaussian quadrature\n",
    "mu = np.average([m > 0.0 for m in leggauss(4)[0]])\n",
    "rad = np.linspace(0.1, R1, nSteps)\n",
    "flux = np.zeros(nSteps)\n",
    "bareflux = np.zeros(nSteps)\n",
    "for i in range(0, nSteps):\n",
    "    bareflux[i]=det_bare_flux(rad[i], R1, s, xs_tot, xs_s, mu)\n",
    "#plot_flux(rad, flux, R1=None)\n",
    "plt.plot(rad, bareflux)\n",
    "plt.xlabel('r')\n",
    "plt.ylabel('flux')\n",
    "plt.title('diffusion soln in bare sphere w/ uniform source')\n",
    "plt.ylim([0, max(bareflux)+0.02]);\n",
    "plt.show()\n",
    "#notice that the flux away from the boundary converges to s/xs_a"
   ]
  },
  {
   "cell_type": "code",
   "execution_count": 177,
   "metadata": {
    "collapsed": false
   },
   "outputs": [],
   "source": [
    "def diffusion_point_source(r, R, total_xsec, scattering_xsec, source, mu):\n",
    "    abs_xsec = total_xsec -scattering_xsec\n",
    "    #mu = 2.0/3.0/A\n",
    "    D = 1.0/3.0/(abs_xsec-(1-mu)*scattering_xsec)\n",
    "    L = sqrt(D/abs_xsec)\n",
    "    flux = source*sinh((R-r)/L)/4/math.pi/D/sinh(R/L)\n",
    "    return(flux)"
   ]
  },
  {
   "cell_type": "code",
   "execution_count": 178,
   "metadata": {
    "collapsed": false
   },
   "outputs": [
    {
     "data": {
      "image/png": "[encoded data removed]",
      "text/plain": [
       "<matplotlib.figure.Figure at 0x106879f10>"
      ]
     },
     "metadata": {},
     "output_type": "display_data"
    }
   ],
   "source": [
    "R1 = 1.0\n",
    "R2 = 1.0\n",
    "nSteps = 11\n",
    "# Neutronic variables - specify the XS in each region\n",
    "# Core\n",
    "sigma_tot_core = 4.0\n",
    "sigma_s_core = 1.0\n",
    "xs1 = sigma_tot_core - sigma_s_core\n",
    "# Reflector \n",
    "sigma_tot_refl = 1.5\n",
    "sigma_s_refl = 0.5\n",
    "xs2 = sigma_tot_refl - sigma_s_refl\n",
    "s = 0.5\n",
    "# make up something for mu; average the positive values of mu\n",
    "# from gaussian quadrature\n",
    "mu = np.average([m > 0.0 for m in leggauss(4)[0]])\n",
    "rad = np.linspace(0.1, R2, nSteps)\n",
    "flux = np.zeros(nSteps)\n",
    "for i in range(0, nSteps):\n",
    "    flux[i]=diffusion_point_source(rad[i], R1, xs1, xs2, s, mu)\n",
    "plot_flux(rad, flux, R1=None, problem='point source')"
   ]
  }
 ],
 "metadata": {
  "anaconda-cloud": {},
  "kernelspec": {
   "display_name": "Python [Root]",
   "language": "python",
   "name": "Python [Root]"
  },
  "language_info": {
   "codemirror_mode": {
    "name": "ipython",
    "version": 2
   },
   "file_extension": ".py",
   "mimetype": "text/x-python",
   "name": "python",
   "nbconvert_exporter": "python",
   "pygments_lexer": "ipython2",
   "version": "2.7.12"
  }
 },
 "nbformat": 4,
 "nbformat_minor": 0
}
