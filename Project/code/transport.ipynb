{
 "cells": [
  {
   "cell_type": "code",
   "execution_count": 2,
   "metadata": {
    "collapsed": true
   },
   "outputs": [],
   "source": [
    "%matplotlib inline\n",
    "import matplotlib.pyplot as plt"
   ]
  },
  {
   "cell_type": "code",
   "execution_count": 24,
   "metadata": {
    "collapsed": false
   },
   "outputs": [
    {
     "data": {
      "application/javascript": [
       "IPython.OutputArea.auto_scroll_threshold = 99999;"
      ],
      "text/plain": [
       "<IPython.core.display.Javascript object>"
      ]
     },
     "metadata": {},
     "output_type": "display_data"
    }
   ],
   "source": [
    "%%javascript\n",
    "IPython.OutputArea.auto_scroll_threshold = 99999;"
   ]
  },
  {
   "cell_type": "code",
   "execution_count": 4,
   "metadata": {
    "collapsed": true
   },
   "outputs": [],
   "source": [
    "import numpy as np\n",
    "from numpy.polynomial.legendre import leggauss"
   ]
  },
  {
   "cell_type": "code",
   "execution_count": 5,
   "metadata": {
    "collapsed": true
   },
   "outputs": [],
   "source": [
    "def shell_surface_area(r, h):\n",
    "    # r is the spherical shell center point\n",
    "    # h is the mesh spacing, which allows us to determine the i+1/2\n",
    "    # and i-1/2 shell surface areas.\n",
    "    Aplus = 4*np.pi*(r+(h/2))**2\n",
    "    Aminus = 4*np.pi*(r-(h/2))**2\n",
    "    return(Aplus, Aminus)"
   ]
  },
  {
   "cell_type": "code",
   "execution_count": 6,
   "metadata": {
    "collapsed": true
   },
   "outputs": [],
   "source": [
    "def shell_volume(r, h):\n",
    "    return(np.pi*((r+(h/2))**3-(r-(h/2))**3)/0.75)"
   ]
  },
  {
   "cell_type": "code",
   "execution_count": 8,
   "metadata": {
    "collapsed": true
   },
   "outputs": [],
   "source": [
    "def det_alpha(anm, mu, w):\n",
    "    anp = anm - mu*w\n",
    "    return(anp)"
   ]
  },
  {
   "cell_type": "code",
   "execution_count": 245,
   "metadata": {
    "collapsed": true
   },
   "outputs": [],
   "source": [
    "def starting_flux(r, h, sigma_t, incoming_s_flux, Q):\n",
    "    #print Q\n",
    "    return((2*incoming_s_flux+h*Q)/(2+sigma_t*h))"
   ]
  },
  {
   "cell_type": "code",
   "execution_count": 389,
   "metadata": {
    "collapsed": false
   },
   "outputs": [],
   "source": [
    "def cell_flux(r, h, mu, w, sigma_t, ap_angle, am_angle, incoming_s_flux, incoming_a_flux, Q):\n",
    "    # sigma_t is the total cross section\n",
    "    # ap and am_angle are the angular differencing coefficients alpha_n+1/2 and alpha_n-1/2a\n",
    "    Ap, Am = shell_surface_area(r, h)\n",
    "    V = shell_volume(r, h)\n",
    "    #print(ap_angle)\n",
    "    if(mu<0):\n",
    "        denom = 2*abs(mu)*Am+(4.0/w)*(Ap-Am)*ap_angle+V*sigma_t\n",
    "    else:\n",
    "        denom = 2*abs(mu)*Ap+(4.0/w)*(Ap-Am)*ap_angle+V*sigma_t\n",
    "    num = abs(mu)*(Ap+Am)*incoming_s_flux\n",
    "    c = (2.0/w)*(Ap-Am)*(ap_angle+am_angle)*incoming_a_flux+V*Q\n",
    "    flux = (num+c)/denom\n",
    "    #print('num = '+str(num))\n",
    "    #print('denom = '+str(denom))\n",
    "    #print('t2 = '+str(c))\n",
    "    return(flux)"
   ]
  },
  {
   "cell_type": "code",
   "execution_count": 254,
   "metadata": {
    "collapsed": true
   },
   "outputs": [],
   "source": [
    "def spatial_difference(prev_cell_flux, prev_half_flux):\n",
    "    return(2*prev_cell_flux-prev_half_flux)"
   ]
  },
  {
   "cell_type": "code",
   "execution_count": 12,
   "metadata": {
    "collapsed": true
   },
   "outputs": [],
   "source": [
    "def angular_difference(flux_ni, flux_nmi):\n",
    "    flux_npi = 2*flux_ni - flux_nmi\n",
    "    return(flux_npi)"
   ]
  },
  {
   "cell_type": "code",
   "execution_count": 296,
   "metadata": {
    "collapsed": true
   },
   "outputs": [],
   "source": [
    "def mesh(R, nCells):\n",
    "    # determine cell-center x values\n",
    "    cell_volume = np.pi*R**3/0.75/nCells\n",
    "    #print(cell_volume)\n",
    "    r = np.zeros(int(nCells)+1)\n",
    "    cell_center = np.zeros(int(nCells))\n",
    "    r[1]=(cell_volume*0.75/np.pi)**0.333333333333333333333\n",
    "    cell_center[0]=r[1]/2\n",
    "    for i in range(2, nCells+1):\n",
    "        r[i]=((0.75*cell_volume/np.pi)+r[i-1]**3)**0.333333333333333333333\n",
    "        cell_center[i-1]=r[i-1]+(r[i]-r[i-1])/2\n",
    "    return(cell_center, r)"
   ]
  },
  {
   "cell_type": "code",
   "execution_count": 298,
   "metadata": {
    "collapsed": false
   },
   "outputs": [
    {
     "data": {
      "text/plain": [
       "(array([ 0.58480355,  1.32160985,  1.58023897,  1.77175043,  1.92831777]),\n",
       " array([ 0.        ,  1.1696071 ,  1.4736126 ,  1.68686533,  1.85663553,  2.        ]))"
      ]
     },
     "execution_count": 298,
     "metadata": {},
     "output_type": "execute_result"
    }
   ],
   "source": [
    "mesh(2, 5)"
   ]
  },
  {
   "cell_type": "code",
   "execution_count": 366,
   "metadata": {
    "collapsed": true
   },
   "outputs": [],
   "source": [
    "def init_external_source(Q, nCells, cell_centers, cell_bound):\n",
    "    ext = np.ones(nCells)\n",
    "    for i in range(0, nCells):\n",
    "        inner, outer = cell_bound[i], cell_bound[i+1]\n",
    "        h = outer - inner\n",
    "        ext[i]=Q*4*np.pi*(outer**2-inner**2)/shell_volume(cell_centers[i],h)\n",
    "    return(ext)"
   ]
  },
  {
   "cell_type": "code",
   "execution_count": 401,
   "metadata": {
    "collapsed": false
   },
   "outputs": [
    {
     "name": "stdout",
     "output_type": "stream",
     "text": [
      "[ 0.51299278  0.3013325   0.25274271  0.22559282  0.20733919]\n"
     ]
    }
   ],
   "source": [
    "R = 1\n",
    "nCells = 5\n",
    "degree = 2\n",
    "cell_centers, cell_shells = mesh(R, nCells)\n",
    "muvec, wvec = leggauss(degree)\n",
    "sigma_tot = 2.0\n",
    "sigma_s = 0.1\n",
    "Q = 0.1\n",
    "Q = init_external_source(Q, nCells, cell_centers, cell_shells)\n",
    "#Q = np.zeros(nCells)\n",
    "#Q[len(Q)-1]=0.1\n",
    "hf=0\n",
    "half_angle_flux = np.zeros(len(cell_centers))\n",
    "print Q"
   ]
  },
  {
   "cell_type": "code",
   "execution_count": 402,
   "metadata": {
    "collapsed": false
   },
   "outputs": [
    {
     "name": "stdout",
     "output_type": "stream",
     "text": [
      "[ 0.07102671  0.03079319  0.01934883  0.01080444  0.0034671 ]\n"
     ]
    }
   ],
   "source": [
    "for j in range(0, len(cell_centers)):\n",
    "    r = cell_centers[::-1][j]\n",
    "    h = cell_shells[::-1][j]-cell_shells[::-1][j+1]\n",
    "    qc = Q[len(cell_centers)-j-1]/len(muvec)\n",
    "    haf = starting_flux(r, h, sigma_tot, hf, qc)\n",
    "    half_angle_flux[len(cell_centers)-j-1] = haf\n",
    "    #print('haflux = '+str(haf))\n",
    "    hf = spatial_difference(haf, hf)\n",
    "    #print ('hf = '+str(hf))\n",
    "################################################################\n",
    "cell_center_flux = {}\n",
    "increv = hf\n",
    "for i in range(0, len(muvec)):\n",
    "    cell_center_flux[muvec[i]]=np.zeros(len(cell_centers))\n",
    "print(half_angle_flux)"
   ]
  },
  {
   "cell_type": "code",
   "execution_count": 403,
   "metadata": {
    "collapsed": false
   },
   "outputs": [
    {
     "name": "stdout",
     "output_type": "stream",
     "text": [
      "mu = -0.57735026919\n",
      "\n",
      "r = 0.964158883361\t cf = 0.00515644159377\n",
      "r = 0.885875216012\t cf = 0.0144098483509\n",
      "r = 0.790119482515\t cf = 0.0222661104673\n",
      "r = 0.660804923685\t cf = 0.030724033461\n",
      "r = 0.292401773821\t cf = 0.0564841075056\n",
      "\n",
      "\n",
      "[ 0.0419415   0.03065488  0.02518339  0.01801526  0.00684578]\n",
      "\n",
      "\n"
     ]
    }
   ],
   "source": [
    "################################################################\n",
    "# ANGLE\n",
    "am_angle = 0\n",
    "for i in range(0, len(muvec)/2):\n",
    "    mu = muvec[i]\n",
    "    w = wvec[i]\n",
    "    hf=0\n",
    "    ap_angle = det_alpha(am_angle, mu, w)\n",
    "    print('mu = '+str(mu)+'\\n')\n",
    "################################################################\n",
    "# SPACE    \n",
    "    for j in range(0, len(cell_centers)):\n",
    "        r = cell_centers[::-1][j]\n",
    "        h = cell_shells[::-1][j]-cell_shells[::-1][j+1]\n",
    "        haf = half_angle_flux[len(cell_centers)-j-1]\n",
    "        qc = Q[len(cell_centers)-j-1]/len(muvec)\n",
    "        #print('r = '+str(r))\n",
    "        #print('haf \\t\\t cf \\t\\t hf')\n",
    "        cf = cell_flux(r, h, mu, w, sigma_tot, ap_angle, am_angle, hf, haf, qc)\n",
    "        print('r = '+str(r)+'\\t cf = '+str(cf))\n",
    "        if(cf < 0.0):\n",
    "            cf = cell_flux(r, h, mu, w, sigma_tot, ap_angle, am_angle, 0.0, haf, qc)\n",
    "            print('neg flux')\n",
    "            print('r = '+str(r)+'\\t cf = '+str(cf))\n",
    "        cell_center_flux[mu][len(cell_centers)-j-1] = cf\n",
    "        hf = spatial_difference(cf, hf)\n",
    "        #print(str(haf)+'\\t'+str(cf)+'\\t'+str(hf))\n",
    "    half_angle_flux = angular_difference(cell_center_flux[mu], half_angle_flux)\n",
    "    am_angle = ap_angle\n",
    "    print('\\n')\n",
    "    print(half_angle_flux)\n",
    "    print('\\n')"
   ]
  },
  {
   "cell_type": "code",
   "execution_count": 404,
   "metadata": {
    "collapsed": false
   },
   "outputs": [
    {
     "name": "stdout",
     "output_type": "stream",
     "text": [
      "mu = 0.57735026919\n",
      "r = 0.292401773821\t cf = 0.10278412348\n",
      "r = 0.660804923685\t cf = 0.00871806040864\n",
      "r = 0.790119482515\t cf = 0.0760863407962\n",
      "r = 0.885875216012\t cf = -0.0159579161437\n",
      "neg flux\n",
      "r = 0.885875216012\t cf = 0.00943644876594\n",
      "r = 0.964158883361\t cf = 0.0626116842727\n",
      "\n",
      "\n",
      "[ 0.16362674 -0.01321876  0.1269893   0.00085764  0.11837759]\n",
      "\n",
      "\n",
      "0.0\n"
     ]
    }
   ],
   "source": [
    "################################################################\n",
    "# ANGLE\n",
    "for i in range(len(muvec)/2, len(muvec)):\n",
    "    mu = muvec[i]\n",
    "    w = wvec[i]\n",
    "    hf = increv\n",
    "    ap_angle = det_alpha(am_angle, mu, w)\n",
    "    print('mu = '+str(mu))\n",
    "################################################################\n",
    "# SPACE    \n",
    "    for j in range(0, len(cell_centers)):\n",
    "        r = cell_centers[j]\n",
    "        h = cell_shells[j+1]-cell_shells[j]\n",
    "        haf = half_angle_flux[j]\n",
    "        #print(r)\n",
    "        #print(haf)\n",
    "        qc = Q[j]/len(muvec)\n",
    "        cf = cell_flux(r, h, mu, w, sigma_tot, ap_angle, am_angle, hf, haf, qc)\n",
    "        print('r = '+str(r)+'\\t cf = '+str(cf))\n",
    "        if(cf < 0.0):\n",
    "            cf = cell_flux(r, h, mu, w, sigma_tot, ap_angle, am_angle, 0.0, haf, qc)\n",
    "            print('neg flux')\n",
    "            print('r = '+str(r)+'\\t cf = '+str(cf))\n",
    "        cell_center_flux[mu][j] = cf\n",
    "        hf = spatial_difference(half_angle_flux[j], hf)\n",
    "    half_angle_flux = angular_difference(cell_center_flux[mu], half_angle_flux)\n",
    "    am_angle = ap_angle\n",
    "    \n",
    "    print('\\n')\n",
    "    print(half_angle_flux)\n",
    "    print('\\n')\n",
    "    print(ap_angle)"
   ]
  },
  {
   "cell_type": "code",
   "execution_count": 405,
   "metadata": {
    "collapsed": false
   },
   "outputs": [
    {
     "name": "stdout",
     "output_type": "stream",
     "text": [
      "pts = [ 0.29240177  0.66080492  0.79011948  0.88587522  0.96415888]\n",
      "flux = [ 0.15926823  0.03944209  0.09835245  0.0238463   0.06776813]\n",
      "error = [ 0.00796341  0.0019721   0.00491762  0.00119231  0.00338841]\n"
     ]
    }
   ],
   "source": [
    "flux = quad_int(cell_center_flux, muvec, wvec)\n",
    "print('pts = '+str(cell_centers))\n",
    "print('flux = '+str(flux))\n",
    "scattering_source = np.zeros(nCells)\n",
    "scattering_source_n = s_source(flux, sigma_s, muvec)\n",
    "error = scattering_source_n - scattering_source\n",
    "print ('error = '+str(error))\n",
    "scattering_source = scattering_source_n\n",
    "Q = Q+scattering_source\n",
    "# print(scattering_source)\n",
    "# print(Q)"
   ]
  },
  {
   "cell_type": "code",
   "execution_count": 406,
   "metadata": {
    "collapsed": false
   },
   "outputs": [
    {
     "name": "stdout",
     "output_type": "stream",
     "text": [
      "mu = -0.57735026919\n",
      "\n",
      "r = 0.964158883361\t cf = 0.0188435914198\n",
      "r = 0.885875216012\t cf = 0.0333328297694\n",
      "r = 0.790119482515\t cf = 0.0486754968235\n",
      "r = 0.660804923685\t cf = 0.0442791315665\n",
      "r = 0.292401773821\t cf = 0.0967682795123\n",
      "\n",
      "\n",
      "[ 0.02990982  0.10177702 -0.0296383   0.06580802 -0.08069041]\n",
      "\n",
      "\n"
     ]
    }
   ],
   "source": [
    "################################################################\n",
    "# ANGLE\n",
    "am_angle = 0\n",
    "for i in range(0, len(muvec)/2):\n",
    "    mu = muvec[i]\n",
    "    w = wvec[i]\n",
    "    hf=0\n",
    "    ap_angle = det_alpha(am_angle, mu, w)\n",
    "    print('mu = '+str(mu)+'\\n')\n",
    "################################################################\n",
    "# SPACE    \n",
    "    for j in range(0, len(cell_centers)):\n",
    "        r = cell_centers[::-1][j]\n",
    "        h = cell_shells[::-1][j]-cell_shells[::-1][j+1]\n",
    "        haf = half_angle_flux[len(cell_centers)-j-1]\n",
    "        qc = Q[len(cell_centers)-j-1]/len(muvec)/shell_volume(r,h)\n",
    "        #print('r = '+str(r))\n",
    "        #print('haf \\t\\t cf \\t\\t hf')\n",
    "        cf = cell_flux(r, h, mu, w, sigma_tot, ap_angle, am_angle, hf, haf, qc)\n",
    "        print('r = '+str(r)+'\\t cf = '+str(cf))\n",
    "        if(cf < 0.0):\n",
    "            cf = cell_flux(r, h, mu, w, sigma_tot, ap_angle, am_angle, 0.0, haf, qc)\n",
    "            print('neg flux')\n",
    "            print('r = '+str(r)+'\\t cf = '+str(cf))\n",
    "        cell_center_flux[mu][len(cell_centers)-j-1] = cf\n",
    "        hf = spatial_difference(cf, hf)\n",
    "        #print(str(haf)+'\\t'+str(cf)+'\\t'+str(hf))\n",
    "    half_angle_flux = angular_difference(cell_center_flux[mu], half_angle_flux)\n",
    "    #print(half_angle_flux)\n",
    "    am_angle = ap_angle\n",
    "    print('\\n')\n",
    "    print(half_angle_flux)\n",
    "    print('\\n')"
   ]
  },
  {
   "cell_type": "code",
   "execution_count": 407,
   "metadata": {
    "collapsed": false
   },
   "outputs": [
    {
     "name": "stdout",
     "output_type": "stream",
     "text": [
      "mu = 0.57735026919\n",
      "r = 0.292401773821\t0.100658349416\n",
      "r = 0.660804923685\t0.016910605241\n",
      "r = 0.790119482515\t0.192966171094\n",
      "r = 0.885875216012\t-0.229381050607\n",
      "neg flux\n",
      "r = 0.885875216012\t cf = 0.0181242221862\n",
      "r = 0.964158883361\t0.36296456124\n",
      "\n",
      "\n",
      "[ 0.17140688 -0.06795581  0.41557064 -0.02955957  0.80661953]\n",
      "\n",
      "\n"
     ]
    }
   ],
   "source": [
    "################################################################\n",
    "# ANGLE\n",
    "for i in range(len(muvec)/2, len(muvec)):\n",
    "    mu = muvec[i]\n",
    "    w = wvec[i]\n",
    "    hf = increv\n",
    "    ap_angle = det_alpha(am_angle, mu, w)\n",
    "    print('mu = '+str(mu))\n",
    "################################################################\n",
    "# SPACE    \n",
    "    for j in range(0, len(cell_centers)):\n",
    "        r = cell_centers[j]\n",
    "        h = cell_shells[j+1]-cell_shells[j]\n",
    "        haf = half_angle_flux[j]\n",
    "        #print(r)\n",
    "        #print(haf)\n",
    "        qc = Q[j]/len(muvec)/shell_volume(r,h)\n",
    "        cf = cell_flux(r, h, mu, w, sigma_tot, ap_angle, am_angle, hf, haf, qc)\n",
    "        print('r = '+str(r)+'\\t'+str(cf))\n",
    "        if(cf < 0.0):\n",
    "            cf = cell_flux(r, h, mu, w, sigma_tot, ap_angle, am_angle, 0.0, haf, qc)\n",
    "            print('neg flux')\n",
    "            print('r = '+str(r)+'\\t cf = '+str(cf))\n",
    "        cell_center_flux[mu][j] = cf\n",
    "        hf = spatial_difference(half_angle_flux[j], hf)\n",
    "    half_angle_flux = angular_difference(cell_center_flux[mu], half_angle_flux)\n",
    "    am_angle = ap_angle\n",
    "    print('\\n')\n",
    "    print(half_angle_flux)\n",
    "    print('\\n')"
   ]
  },
  {
   "cell_type": "code",
   "execution_count": 408,
   "metadata": {
    "collapsed": false
   },
   "outputs": [
    {
     "name": "stdout",
     "output_type": "stream",
     "text": [
      "pts = [ 0.29240177  0.66080492  0.79011948  0.88587522  0.96415888]\n",
      "flux = [ 0.19742663  0.06118974  0.24164167  0.05145705  0.38180815]\n",
      "error = [ 0.00190792  0.00108738  0.00716446  0.00138054  0.015702  ]\n"
     ]
    }
   ],
   "source": [
    "flux = quad_int(cell_center_flux, muvec, wvec)\n",
    "print('pts = '+str(cell_centers))\n",
    "print('flux = '+str(flux))\n",
    "scattering_source_n = s_source(flux, sigma_s, muvec)\n",
    "error = scattering_source_n - scattering_source\n",
    "print ('error = '+str(error))\n",
    "scattering_source = scattering_source_n\n",
    "Q = np.zeros(nCells)\n",
    "Q[len(Q)-1]=0.1\n",
    "Q = Q+scattering_source\n",
    "# print(scattering_source)\n",
    "# print(Q)"
   ]
  },
  {
   "cell_type": "code",
   "execution_count": 409,
   "metadata": {
    "collapsed": false
   },
   "outputs": [
    {
     "name": "stdout",
     "output_type": "stream",
     "text": [
      "mu = -0.57735026919\n",
      "\n",
      "r = 0.964158883361\t cf = 0.0922069613273\n",
      "r = 0.885875216012\t cf = 0.12477276325\n",
      "r = 0.790119482515\t cf = 0.111804590414\n",
      "r = 0.660804923685\t cf = 0.0658378173121\n",
      "r = 0.292401773821\t cf = 0.0680176356422\n",
      "\n",
      "\n",
      "[-0.03537161  0.19963144 -0.19196146  0.2791051  -0.62220561]\n",
      "\n",
      "\n"
     ]
    }
   ],
   "source": [
    "################################################################\n",
    "# ANGLE\n",
    "am_angle = 0\n",
    "for i in range(0, len(muvec)/2):\n",
    "    mu = muvec[i]\n",
    "    w = wvec[i]\n",
    "    hf=0\n",
    "    ap_angle = det_alpha(am_angle, mu, w)\n",
    "    print('mu = '+str(mu)+'\\n')\n",
    "################################################################\n",
    "# SPACE    \n",
    "    for j in range(0, len(cell_centers)):\n",
    "        r = cell_centers[::-1][j]\n",
    "        h = cell_shells[::-1][j]-cell_shells[::-1][j+1]\n",
    "        haf = half_angle_flux[len(cell_centers)-j-1]\n",
    "        qc = Q[len(cell_centers)-j-1]/len(muvec)/shell_volume(r,h)\n",
    "        #print('r = '+str(r))\n",
    "        #print('haf \\t\\t cf \\t\\t hf')\n",
    "        cf = cell_flux(r, h, mu, w, sigma_tot, ap_angle, am_angle, hf, haf, qc)\n",
    "        print('r = '+str(r)+'\\t cf = '+str(cf))\n",
    "        if(cf < 0.0):\n",
    "            cf = cell_flux(r, h, mu, w, sigma_tot, ap_angle, am_angle, 0.0, haf, qc)\n",
    "            print('neg flux')\n",
    "            print('r = '+str(r)+'\\t cf = '+str(cf))\n",
    "        cell_center_flux[mu][len(cell_centers)-j-1] = cf\n",
    "        hf = spatial_difference(cf, hf)\n",
    "        #print(str(haf)+'\\t'+str(cf)+'\\t'+str(hf))\n",
    "    half_angle_flux = angular_difference(cell_center_flux[mu], half_angle_flux)\n",
    "    #print(half_angle_flux)\n",
    "    am_angle = ap_angle\n",
    "    print('\\n')\n",
    "    print(half_angle_flux)\n",
    "    print('\\n')"
   ]
  },
  {
   "cell_type": "code",
   "execution_count": 410,
   "metadata": {
    "collapsed": false
   },
   "outputs": [
    {
     "name": "stdout",
     "output_type": "stream",
     "text": [
      "mu = 0.57735026919\n",
      "r = 0.292401773821\t0.0133578919064\n",
      "r = 0.660804923685\t-0.0566884426229\n",
      "neg flux\n",
      "r = 0.660804923685\t cf = 0.061075162919\n",
      "r = 0.790119482515\t0.397117564597\n",
      "r = 0.885875216012\t-0.728380037506\n",
      "neg flux\n",
      "r = 0.885875216012\t cf = 0.043044245063\n",
      "r = 0.964158883361\t1.19224082372\n",
      "\n",
      "\n",
      "[ 0.06208739 -0.07748112  0.98619659 -0.19301661  3.00668725]\n",
      "\n",
      "\n"
     ]
    }
   ],
   "source": [
    "################################################################\n",
    "# ANGLE\n",
    "for i in range(len(muvec)/2, len(muvec)):\n",
    "    mu = muvec[i]\n",
    "    w = wvec[i]\n",
    "    hf = increv\n",
    "    ap_angle = det_alpha(am_angle, mu, w)\n",
    "    print('mu = '+str(mu))\n",
    "################################################################\n",
    "# SPACE    \n",
    "    for j in range(0, len(cell_centers)):\n",
    "        r = cell_centers[j]\n",
    "        h = cell_shells[j+1]-cell_shells[j]\n",
    "        haf = half_angle_flux[j]\n",
    "        #print(r)\n",
    "        #print(haf)\n",
    "        qc = Q[j]/len(muvec)/shell_volume(r,h)\n",
    "        cf = cell_flux(r, h, mu, w, sigma_tot, ap_angle, am_angle, hf, haf, qc)\n",
    "        print('r = '+str(r)+'\\t'+str(cf))\n",
    "        if(cf < 0.0):\n",
    "            cf = cell_flux(r, h, mu, w, sigma_tot, ap_angle, am_angle, 0.0, haf, qc)\n",
    "            print('neg flux')\n",
    "            print('r = '+str(r)+'\\t cf = '+str(cf))\n",
    "        cell_center_flux[mu][j] = cf\n",
    "        hf = spatial_difference(half_angle_flux[j], hf)\n",
    "    half_angle_flux = angular_difference(cell_center_flux[mu], half_angle_flux)\n",
    "    am_angle = ap_angle\n",
    "    print('\\n')\n",
    "    print(half_angle_flux)\n",
    "    print('\\n')"
   ]
  },
  {
   "cell_type": "code",
   "execution_count": 411,
   "metadata": {
    "collapsed": false
   },
   "outputs": [
    {
     "name": "stdout",
     "output_type": "stream",
     "text": [
      "pts = [ 0.29240177  0.66080492  0.79011948  0.88587522  0.96415888]\n",
      "flux = [ 0.08137553  0.12691298  0.50892216  0.16781701  1.28444779]\n",
      "error = [-0.00580256  0.00328616  0.01336402  0.005818    0.04513198]\n"
     ]
    }
   ],
   "source": [
    "flux = quad_int(cell_center_flux, muvec, wvec)\n",
    "print('pts = '+str(cell_centers))\n",
    "print('flux = '+str(flux))\n",
    "scattering_source_n = s_source(flux, sigma_s, muvec)\n",
    "error = scattering_source_n - scattering_source\n",
    "print ('error = '+str(error))\n",
    "scattering_source = scattering_source_n\n",
    "Q = np.zeros(nCells)\n",
    "Q[len(Q)-1]=0.1\n",
    "Q = Q+scattering_source\n",
    "# print(scattering_source)\n",
    "# print(Q)"
   ]
  },
  {
   "cell_type": "code",
   "execution_count": 266,
   "metadata": {
    "collapsed": false
   },
   "outputs": [
    {
     "name": "stdout",
     "output_type": "stream",
     "text": [
      "mu = -0.57735026919\n",
      "\n",
      "r = 0.964158883361\t cf = -33.1814573703\n",
      "r = 0.885875216012\t cf = 3278.52710743\n",
      "r = 0.790119482515\t cf = 8726.45276744\n",
      "r = 0.660804923685\t cf = 12517.6079189\n",
      "r = 0.292401773821\t cf = 13468.635545\n",
      "\n",
      "\n",
      "[ 24835.47045007  22653.9533378   15590.57444153   5033.51150366\n",
      "    -49.79453555]\n",
      "\n",
      "\n"
     ]
    }
   ],
   "source": [
    "################################################################\n",
    "# ANGLE\n",
    "am_angle = 0\n",
    "for i in range(0, len(muvec)/2):\n",
    "    mu = muvec[i]\n",
    "    w = wvec[i]\n",
    "    hf=0\n",
    "    ap_angle = det_alpha(am_angle, mu, w)\n",
    "    print('mu = '+str(mu)+'\\n')\n",
    "################################################################\n",
    "# SPACE    \n",
    "    for j in range(0, len(cell_centers)):\n",
    "        r = cell_centers[::-1][j]\n",
    "        h = cell_shells[::-1][j]-cell_shells[::-1][j+1]\n",
    "        haf = half_angle_flux[len(cell_centers)-j-1]\n",
    "        qc = Q[len(cell_centers)-j-1]/len(muvec)/shell_volume(r,h)\n",
    "        #print('r = '+str(r))\n",
    "        #print('haf \\t\\t cf \\t\\t hf')\n",
    "        cf = cell_flux(r, h, mu, w, sigma_tot, ap_angle, am_angle, hf, haf, qc)\n",
    "        print('r = '+str(r)+'\\t cf = '+str(cf))\n",
    "        cell_center_flux[mu][len(cell_centers)-j-1] = cf\n",
    "        hf = spatial_difference(cf, hf)\n",
    "        #print(str(haf)+'\\t'+str(cf)+'\\t'+str(hf))\n",
    "    half_angle_flux = angular_difference(cell_center_flux[mu], half_angle_flux)\n",
    "    #print(half_angle_flux)\n",
    "    am_angle = ap_angle\n",
    "    print('\\n')\n",
    "    print(half_angle_flux)\n",
    "    print('\\n')"
   ]
  },
  {
   "cell_type": "code",
   "execution_count": 267,
   "metadata": {
    "collapsed": false
   },
   "outputs": [
    {
     "name": "stdout",
     "output_type": "stream",
     "text": [
      "mu = 0.57735026919\n",
      "r = 0.292401773821\t123245.656128\n",
      "r = 0.660804923685\t99416.3879446\n",
      "r = 0.790119482515\t34808.6951042\n",
      "r = 0.885875216012\t39593.8462504\n",
      "r = 0.964158883361\t-21361.1340883\n",
      "\n",
      "\n",
      "[ 221655.8418055   176178.82255139   54026.81576679   74154.18099723\n",
      "  -42672.47364099]\n",
      "\n",
      "\n"
     ]
    }
   ],
   "source": [
    "################################################################\n",
    "# ANGLE\n",
    "for i in range(len(muvec)/2, len(muvec)):\n",
    "    mu = muvec[i]\n",
    "    w = wvec[i]\n",
    "    hf = increv\n",
    "    ap_angle = det_alpha(am_angle, mu, w)\n",
    "    print('mu = '+str(mu))\n",
    "################################################################\n",
    "# SPACE    \n",
    "    for j in range(0, len(cell_centers)):\n",
    "        r = cell_centers[j]\n",
    "        h = cell_shells[j+1]-cell_shells[j]\n",
    "        haf = half_angle_flux[j]\n",
    "        #print(r)\n",
    "        #print(haf)\n",
    "        qc = Q[j]/len(muvec)/shell_volume(r,h)\n",
    "        cf = cell_flux(r, h, mu, w, sigma_tot, ap_angle, am_angle, hf, haf, qc)\n",
    "        print('r = '+str(r)+'\\t'+str(cf))\n",
    "        cell_center_flux[mu][j] = cf\n",
    "        hf = spatial_difference(half_angle_flux[j], hf)\n",
    "    half_angle_flux = angular_difference(cell_center_flux[mu], half_angle_flux)\n",
    "    am_angle = ap_angle\n",
    "    print('\\n')\n",
    "    print(half_angle_flux)\n",
    "    print('\\n')"
   ]
  },
  {
   "cell_type": "code",
   "execution_count": null,
   "metadata": {
    "collapsed": true
   },
   "outputs": [],
   "source": [
    "flux = quad_int(cell_center_flux, muvec, wvec)\n",
    "print(cell_centers)\n",
    "print(flux)\n",
    "scattering_source = s_source(flux, sigma_s, muvec)\n",
    "#Q = [i+0.001 for i in scattering_source]"
   ]
  },
  {
   "cell_type": "code",
   "execution_count": null,
   "metadata": {
    "collapsed": true
   },
   "outputs": [],
   "source": []
  },
  {
   "cell_type": "code",
   "execution_count": null,
   "metadata": {
    "collapsed": true
   },
   "outputs": [],
   "source": []
  },
  {
   "cell_type": "code",
   "execution_count": null,
   "metadata": {
    "collapsed": true
   },
   "outputs": [],
   "source": []
  },
  {
   "cell_type": "code",
   "execution_count": null,
   "metadata": {
    "collapsed": true
   },
   "outputs": [],
   "source": []
  },
  {
   "cell_type": "code",
   "execution_count": null,
   "metadata": {
    "collapsed": true
   },
   "outputs": [],
   "source": []
  },
  {
   "cell_type": "code",
   "execution_count": 107,
   "metadata": {
    "collapsed": false
   },
   "outputs": [
    {
     "name": "stdout",
     "output_type": "stream",
     "text": [
      "[ 0.1  0.3  0.5  0.7  0.9  1.1  1.3  1.5  1.7  1.9]\n",
      "[  8.09482133e-03  -4.62102024e-03   4.75411265e-01   1.62192376e+00\n",
      "   6.79620386e+00   1.62698910e+01   3.99181423e+01   7.68664383e+01\n",
      "   1.48394400e+02   2.49925234e+02]\n",
      "[ 0.1  0.3  0.5  0.7  0.9  1.1  1.3  1.5  1.7  1.9]\n",
      "[  1.14390659e+02  -5.57693424e+02   1.63327395e+03  -3.40057025e+03\n",
      "   8.78703621e+03   2.83075431e+03   9.49953153e+04   2.77471183e+05\n",
      "   1.12315808e+06   3.12299780e+06]\n",
      "[ 0.1  0.3  0.5  0.7  0.9  1.1  1.3  1.5  1.7  1.9]\n",
      "[  1.62362007e+06  -7.92932567e+06   2.31451220e+07  -5.09439264e+07\n",
      "   9.70502122e+07  -1.55672731e+08   4.32146288e+08   7.30570991e+08\n",
      "   8.76738006e+09   3.90169960e+10]\n",
      "[ 0.1  0.3  0.5  0.7  0.9  1.1  1.3  1.5  1.7  1.9]\n",
      "[  2.20893682e+10  -1.08021430e+11   3.15625577e+11  -6.95598875e+11\n",
      "   1.31773622e+12  -2.29290864e+12   4.21688784e+12  -2.11203165e+12\n",
      "   7.16270245e+13   4.87420218e+14]\n",
      "[ 0.1  0.3  0.5  0.7  0.9  1.1  1.3  1.5  1.7  1.9]\n",
      "[  2.91050882e+14  -1.42463254e+15   4.16561613e+15  -9.18685909e+15\n",
      "   1.74176886e+16  -3.04996634e+16   5.28172689e+16  -7.45196777e+16\n",
      "   6.21949424e+17   6.08880205e+18]\n"
     ]
    }
   ],
   "source": [
    "R = 2\n",
    "h = 0.2\n",
    "cell_centers = mesh(R, h)\n",
    "sigma_tot = 1000.0\n",
    "sigma_s = 0.1\n",
    "Q = [0.001]*len(cell_centers)\n",
    "for butt in range(0, 5):\n",
    "    hf=0\n",
    "    half_angle_flux = np.zeros(len(cell_centers))\n",
    "    for j in range(0, len(cell_centers)):\n",
    "        r = cell_centers[::-1][j]\n",
    "        half_angle_flux[len(cell_centers)-j-1] = starting_flux(r, h, sigma_tot, hf, Q[len(cell_centers)-j-1])\n",
    "        hf = spatial_difference(half_angle_flux[len(cell_centers)-j-1], hf)\n",
    "    ################################################################\n",
    "    cell_center_flux = {}\n",
    "    increv = hf\n",
    "    for i in range(0, len(muvec)):\n",
    "        cell_center_flux[muvec[i]]=np.zeros(len(cell_centers))\n",
    "    ################################################################\n",
    "    # ANGLE\n",
    "    am_angle = 0\n",
    "    for i in range(0, len(muvec)/2):\n",
    "        mu = muvec[i]\n",
    "        w = wvec[i]\n",
    "        hf=0\n",
    "        ap_angle = det_alpha(am_angle, mu, w)\n",
    "        #print('mu = '+str(mu)+'\\n')\n",
    "        ################################################################\n",
    "        # SPACE    \n",
    "        for j in range(0, len(cell_centers)):\n",
    "            r = cell_centers[::-1][j]\n",
    "            haf = half_angle_flux[len(cell_centers)-j-1]\n",
    "            #print('r = '+str(r))\n",
    "            #print('haf \\t\\t cf \\t\\t hf')\n",
    "            cf = cell_flux(r, h, mu, w, sigma_tot, ap_angle, am_angle, hf, haf, Q[len(cell_centers)-j-1])\n",
    "            cell_center_flux[mu][len(cell_centers)-j-1] = cf\n",
    "            hf = spatial_difference(cf, hf)\n",
    "            #print(str(haf)+'\\t'+str(cf)+'\\t'+str(hf))\n",
    "        half_angle_flux = angular_difference(cell_center_flux[mu], half_angle_flux)\n",
    "        #print(half_angle_flux)\n",
    "        am_angle = ap_angle\n",
    "    ################################################################\n",
    "    # ANGLE\n",
    "    for i in range(len(muvec)/2, len(muvec)):\n",
    "        mu = muvec[i]\n",
    "        w = wvec[i]\n",
    "        hf = increv\n",
    "        ap_angle = det_alpha(am_angle, mu, w)\n",
    "        #print('mu = '+str(mu))\n",
    "    ################################################################\n",
    "        # SPACE    \n",
    "        for j in range(0, len(cell_centers)):\n",
    "            r = cell_centers[j]\n",
    "            haf = half_angle_flux[j]\n",
    "            #print(r)\n",
    "            #print(haf)\n",
    "            cf = cell_flux(r, h, mu, w, sigma_tot, ap_angle, am_angle, hf, haf, Q[j])\n",
    "            #print('r = '+str(r)+'\\t'+str(cf))\n",
    "            cell_center_flux[mu][j] = cf\n",
    "            hf = spatial_difference(half_angle_flux[j], hf)\n",
    "        half_angle_flux = angular_difference(cell_center_flux[mu], half_angle_flux)\n",
    "        am_angle = ap_angle\n",
    "    flux = quad_int(cell_center_flux, muvec, wvec)\n",
    "    print(cell_centers)\n",
    "    print(flux)\n",
    "    scattering_source = s_source(flux, sigma_s, muvec)\n",
    "    Q = [i+0.001 for i in scattering_source]"
   ]
  },
  {
   "cell_type": "code",
   "execution_count": 102,
   "metadata": {
    "collapsed": false
   },
   "outputs": [
    {
     "name": "stdout",
     "output_type": "stream",
     "text": [
      "[370.89193218109, 37904.82937374014, 495359.46156660496, 3057388.1720460439, 12448093.162966935, 37034615.471651256, 79032477.727835178, 109418989.21064827, 84497311.833194375, 27054272.500937648]\n"
     ]
    }
   ],
   "source": [
    "print Q"
   ]
  },
  {
   "cell_type": "code",
   "execution_count": 82,
   "metadata": {
    "collapsed": false,
    "scrolled": true
   },
   "outputs": [],
   "source": [
    "################################################################\n",
    "# ANGLE\n",
    "am_angle = 0\n",
    "for i in range(0, len(muvec)/2):\n",
    "    mu = muvec[i]\n",
    "    w = wvec[i]\n",
    "    hf=0\n",
    "    ap_angle = det_alpha(am_angle, mu, w)\n",
    "    #print('mu = '+str(mu)+'\\n')\n",
    "################################################################\n",
    "# SPACE    \n",
    "    for j in range(0, len(cell_centers)):\n",
    "        r = cell_centers[::-1][j]\n",
    "        haf = half_angle_flux[len(cell_centers)-j-1]\n",
    "        #print('r = '+str(r))\n",
    "        #print('haf \\t\\t cf \\t\\t hf')\n",
    "        cf = cell_flux(r, h, mu, w, sigma_tot, ap_angle, am_angle, hf, haf, Q)\n",
    "        cell_center_flux[mu][len(cell_centers)-j-1] = cf\n",
    "        hf = spatial_difference(cf, hf)\n",
    "        #print(str(haf)+'\\t'+str(cf)+'\\t'+str(hf))\n",
    "    half_angle_flux = angular_difference(cell_center_flux[mu], half_angle_flux)\n",
    "    #print(half_angle_flux)\n",
    "    am_angle = ap_angle"
   ]
  },
  {
   "cell_type": "code",
   "execution_count": 83,
   "metadata": {
    "collapsed": false
   },
   "outputs": [
    {
     "name": "stdout",
     "output_type": "stream",
     "text": [
      "[   0.49919282    8.19293259   31.83926077   78.31369181  150.59226062\n",
      "  244.10739052  339.77908777  396.08641429  304.79179045  100.98265651]\n"
     ]
    }
   ],
   "source": [
    "print(half_angle_flux)"
   ]
  },
  {
   "cell_type": "code",
   "execution_count": 84,
   "metadata": {
    "collapsed": false
   },
   "outputs": [],
   "source": [
    "################################################################\n",
    "# ANGLE\n",
    "for i in range(len(muvec)/2, len(muvec)):\n",
    "    mu = muvec[i]\n",
    "    w = wvec[i]\n",
    "    hf = increv\n",
    "    ap_angle = det_alpha(am_angle, mu, w)\n",
    "    #print('mu = '+str(mu))\n",
    "################################################################\n",
    "# SPACE    \n",
    "    for j in range(0, len(cell_centers)):\n",
    "        r = cell_centers[j]\n",
    "        haf = half_angle_flux[j]\n",
    "        #print(r)\n",
    "        #print(haf)\n",
    "        cf = cell_flux(r, h, mu, w, sigma_tot, ap_angle, am_angle, hf, haf, Q)\n",
    "        #print('r = '+str(r)+'\\t'+str(cf))\n",
    "        cell_center_flux[mu][j] = cf\n",
    "        hf = spatial_difference(half_angle_flux[j], hf)\n",
    "    half_angle_flux = angular_difference(cell_center_flux[mu], half_angle_flux)\n",
    "    am_angle = ap_angle"
   ]
  },
  {
   "cell_type": "code",
   "execution_count": 85,
   "metadata": {
    "collapsed": true
   },
   "outputs": [],
   "source": [
    "def quad_int(fluxdict, muVector, wVector):\n",
    "    x = {}\n",
    "    for i in range(0, len(muVector)):\n",
    "        #print('mu = '+str(muvec[i])+'\\t'+'w = '+str(wvec[i]))\n",
    "        #print(cell_center_flux[muvec[i]])\n",
    "        x[muvec[i]] = fluxdict[muVector[i]]*wVector[i]\n",
    "    #print('total flux = ')\n",
    "    #print(np.sum(x.values(), axis=0))\n",
    "    # returns sum_a=1^N(psi_a*w_a)\n",
    "    return(np.sum(x.values(), axis=0))"
   ]
  },
  {
   "cell_type": "code",
   "execution_count": 86,
   "metadata": {
    "collapsed": false
   },
   "outputs": [
    {
     "name": "stdout",
     "output_type": "stream",
     "text": [
      "[ 0.1  0.3  0.5  0.7  0.9  1.1  1.3  1.5  1.7  1.9]\n",
      "[  9.53120990e-01   7.29911993e+01   7.41599931e+02   3.47789762e+03\n",
      "   1.08315512e+04   2.58335931e+04   4.96890271e+04   7.66566669e+04\n",
      "   7.67894725e+04   3.28899618e+04]\n"
     ]
    }
   ],
   "source": [
    "flux = quad_int(cell_center_flux, muvec, wvec)\n",
    "print(cell_centers)\n",
    "print(flux)"
   ]
  },
  {
   "cell_type": "code",
   "execution_count": 87,
   "metadata": {
    "collapsed": false
   },
   "outputs": [],
   "source": [
    "def s_source(flux, sigma_s, muVector):\n",
    "    s_source = (sigma_s/2.0)*flux\n",
    "    return(s_source)"
   ]
  },
  {
   "cell_type": "code",
   "execution_count": 88,
   "metadata": {
    "collapsed": false
   },
   "outputs": [],
   "source": [
    "scattering_source = s_source(flux, sigma_s, muvec)"
   ]
  },
  {
   "cell_type": "code",
   "execution_count": 89,
   "metadata": {
    "collapsed": false
   },
   "outputs": [
    {
     "name": "stdout",
     "output_type": "stream",
     "text": [
      "[0.14765604947846131, 3.7495599627905474, 37.179996527806836, 173.99488075139234, 541.67755907925039, 1291.7796543778411, 2484.5513550105816, 3832.9333460245675, 3839.5736227734765, 1644.5980896068081]\n"
     ]
    }
   ],
   "source": [
    "Q = [i+0.1 for i in scattering_source]\n",
    "print Q"
   ]
  },
  {
   "cell_type": "code",
   "execution_count": 90,
   "metadata": {
    "collapsed": false
   },
   "outputs": [],
   "source": [
    "hf=0\n",
    "half_angle_flux = np.zeros(len(cell_centers))\n",
    "for j in range(0, len(cell_centers)):\n",
    "    r = cell_centers[::-1][j]\n",
    "    half_angle_flux[len(cell_centers)-j-1] = starting_flux(r, h, sigma_tot, hf, Q[len(cell_centers)-j-1])\n",
    "    hf = spatial_difference(half_angle_flux[len(cell_centers)-j-1], hf)\n",
    "################################################################\n",
    "increv = hf\n",
    "cell_center_flux = {}\n",
    "for i in range(0, len(muvec)):\n",
    "    cell_center_flux[muvec[i]]=np.zeros(len(cell_centers))"
   ]
  },
  {
   "cell_type": "code",
   "execution_count": 91,
   "metadata": {
    "collapsed": false
   },
   "outputs": [
    {
     "name": "stdout",
     "output_type": "stream",
     "text": [
      "mu = -0.861136311594\n",
      "r = 1.9\t17394.2760431\n",
      "r = 1.7\t37261.7452235\n",
      "r = 1.5\t37983.6842764\n",
      "r = 1.3\t29070.003152\n",
      "r = 1.1\t20365.8123262\n",
      "r = 0.9\t13629.1319801\n",
      "r = 0.7\t8723.81461726\n",
      "r = 0.5\t5179.48556128\n",
      "r = 0.3\t2619.99845396\n",
      "r = 0.1\t818.249882329\n",
      "[   915.88529875   4359.67891803   9287.57464119  16161.60852143\n",
      "  25765.98002631  39111.43953487  56579.37238348  74761.86983906\n",
      "  73902.60390448  34639.04316899]\n",
      "mu = -0.339981043585\n",
      "r = 1.9\t847698.941472\n",
      "r = 1.7\t1648006.6858\n",
      "r = 1.5\t1473277.92221\n",
      "r = 1.3\t968797.146099\n",
      "r = 1.1\t563329.876595\n",
      "r = 0.9\t306025.393911\n",
      "r = 0.7\t147610.021099\n",
      "r = 0.5\t62511.8803251\n",
      "r = 0.3\t16822.8992054\n",
      "r = 0.1\t1887.64945205\n",
      "[  2.85941361e+03   2.92861195e+04   1.15736186e+05   2.79058434e+05\n",
      "   5.86284808e+05   1.08754831e+06   1.88101492e+06   2.87179397e+06\n",
      "   3.22211077e+06   1.66075884e+06]\n"
     ]
    }
   ],
   "source": [
    "################################################################\n",
    "# ANGLE\n",
    "am_angle = 0\n",
    "for i in range(0, len(muvec)/2):\n",
    "    mu = muvec[i]\n",
    "    w = wvec[i]\n",
    "    hf=0\n",
    "    ap_angle = det_alpha(am_angle, mu, w)\n",
    "    print('mu = '+str(mu))\n",
    "################################################################\n",
    "# SPACE    \n",
    "    for j in range(0, len(cell_centers)):\n",
    "        r = cell_centers[::-1][j]\n",
    "        cf = cell_flux(r, h, mu, w, sigma_tot, ap_angle, am_angle, hf, half_angle_flux[len(cell_centers)-j-1], Q[len(cell_centers)-j-1])\n",
    "        print('r = '+str(r)+'\\t'+str(cf))\n",
    "        cell_center_flux[mu][len(cell_centers)-j-1] = cf\n",
    "        hf = spatial_difference(half_angle_flux[len(cell_centers)-j-1], hf)\n",
    "    half_angle_flux = angular_difference(cell_center_flux[mu], half_angle_flux)\n",
    "    print(half_angle_flux)\n",
    "    am_angle = ap_angle"
   ]
  },
  {
   "cell_type": "code",
   "execution_count": 93,
   "metadata": {
    "collapsed": false
   },
   "outputs": [
    {
     "name": "stdout",
     "output_type": "stream",
     "text": [
      "r = 0.1\t3703.42957465\n",
      "r = 0.3\t112161.189113\n",
      "r = 0.5\t746511.780505\n",
      "r = 0.7\t2529633.80754\n",
      "r = 0.9\t6818602.46767\n",
      "r = 1.1\t15464856.1988\n",
      "r = 1.3\t31560283.9241\n",
      "r = 1.5\t55638129.1431\n",
      "r = 1.7\t70982929.8903\n",
      "r = 1.9\t41508298.2686\n",
      "r = 0.1\t4248.96697917\n",
      "r = 0.3\t511478.647194\n",
      "r = 0.5\t6216468.97262\n",
      "r = 0.7\t30669648.5584\n",
      "r = 0.9\t107070864.464\n",
      "r = 1.1\t298781213.309\n",
      "r = 1.3\t721350974.595\n",
      "r = 1.5\t1473166400.13\n",
      "r = 1.7\t2151487271.85\n",
      "r = 1.9\t1454820243.68\n"
     ]
    }
   ],
   "source": [
    "################################################################\n",
    "# ANGLE\n",
    "for i in range(len(muvec)/2, len(muvec)):\n",
    "    mu = muvec[i]\n",
    "    w = wvec[i]\n",
    "    hf = increv\n",
    "    ap_angle = det_alpha(am_angle, mu, w)\n",
    "    #print('mu = '+str(mu))\n",
    "################################################################\n",
    "# SPACE    \n",
    "    for j in range(0, len(cell_centers)):\n",
    "        r = cell_centers[j]\n",
    "        haf = half_angle_flux[j]\n",
    "        cf = cell_flux(r, h, mu, w, sigma_tot, ap_angle, am_angle, hf, haf, Q[j])\n",
    "        print('r = '+str(r)+'\\t'+str(cf))        \n",
    "        cell_center_flux[mu][j] = cf\n",
    "        hf = spatial_difference(half_angle_flux[j], hf)\n",
    "    half_angle_flux = angular_difference(cell_center_flux[mu], half_angle_flux)\n",
    "    am_angle = ap_angle"
   ]
  },
  {
   "cell_type": "code",
   "execution_count": 94,
   "metadata": {
    "collapsed": false
   },
   "outputs": [
    {
     "name": "stdout",
     "output_type": "stream",
     "text": [
      "[270.54255171731961, 13147.502650935205, 134591.67107502423, 620878.7031058718, 2094807.6738361192, 5719614.1461131191, 13607461.415550116, 27485310.609604172, 39789207.441184178, 26684729.080521718]\n"
     ]
    }
   ],
   "source": [
    "flux = quad_int(cell_center_flux, muvec, wvec)\n",
    "scattering_source = s_source(flux, sigma_s, muvec)\n",
    "Q = [i+0.1 for i in scattering_source]\n",
    "print Q"
   ]
  },
  {
   "cell_type": "code",
   "execution_count": 95,
   "metadata": {
    "collapsed": true
   },
   "outputs": [],
   "source": [
    "hf=0\n",
    "half_angle_flux = np.zeros(len(cell_centers))\n",
    "for j in range(0, len(cell_centers)):\n",
    "    r = cell_centers[::-1][j]\n",
    "    half_angle_flux[len(cell_centers)-j-1] = starting_flux(r, h, sigma_tot, hf, Q[len(cell_centers)-j-1])\n",
    "    hf = spatial_difference(half_angle_flux[len(cell_centers)-j-1], hf)\n",
    "################################################################\n",
    "increv = hf\n",
    "cell_center_flux = {}\n",
    "for i in range(0, len(muvec)):\n",
    "    cell_center_flux[muvec[i]]=np.zeros(len(cell_centers))"
   ]
  },
  {
   "cell_type": "code",
   "execution_count": 96,
   "metadata": {
    "collapsed": false
   },
   "outputs": [
    {
     "name": "stdout",
     "output_type": "stream",
     "text": [
      "mu = -0.861136311594\n",
      "r = 1.9\t282234028.299\n",
      "r = 1.7\t410789699.04\n",
      "r = 1.5\t327767883.557\n",
      "r = 1.3\t225744813.067\n",
      "r = 1.1\t152627703.87\n",
      "r = 0.9\t101703632.71\n",
      "r = 0.7\t65206867.2601\n",
      "r = 0.5\t38749890.7564\n",
      "r = 0.3\t19598476.3107\n",
      "r = 0.1\t6120086.10974\n",
      "[  6.85034195e+06   3.26108732e+07   6.94665443e+07   1.20679275e+08\n",
      "   1.91811335e+08   2.91950873e+08   4.37375981e+08   6.42851620e+08\n",
      "   8.13551498e+08   5.62042172e+08]\n",
      "mu = -0.339981043585\n",
      "r = 1.9\t13754495239.9\n",
      "r = 1.7\t18282552348.6\n",
      "r = 1.5\t12565727179.8\n",
      "r = 1.3\t7555974384.17\n",
      "r = 1.1\t4113771560.04\n",
      "r = 0.9\t2345423267.21\n",
      "r = 0.7\t1039959201.09\n",
      "r = 0.5\t516930863.741\n",
      "r = 0.3\t90448954.3503\n",
      "r = 0.1\t37402376.9598\n",
      "[  6.79544120e+07   1.48287036e+08   9.64395183e+08   1.95923913e+09\n",
      "   4.49903520e+09   7.93559225e+09   1.46745728e+10   2.44886027e+10\n",
      "   3.57515532e+10   2.69469483e+10]\n"
     ]
    }
   ],
   "source": [
    "################################################################\n",
    "# ANGLE\n",
    "am_angle = 0\n",
    "for i in range(0, len(muvec)/2):\n",
    "    mu = muvec[i]\n",
    "    w = wvec[i]\n",
    "    hf=0\n",
    "    ap_angle = det_alpha(am_angle, mu, w)\n",
    "    print('mu = '+str(mu))\n",
    "################################################################\n",
    "# SPACE    \n",
    "    for j in range(0, len(cell_centers)):\n",
    "        r = cell_centers[::-1][j]\n",
    "        cf = cell_flux(r, h, mu, w, sigma_tot, ap_angle, am_angle, hf, half_angle_flux[len(cell_centers)-j-1], Q[len(cell_centers)-j-1])\n",
    "        print('r = '+str(r)+'\\t'+str(cf))\n",
    "        cell_center_flux[mu][len(cell_centers)-j-1] = cf\n",
    "        hf = spatial_difference(half_angle_flux[len(cell_centers)-j-1], hf)\n",
    "    half_angle_flux = angular_difference(cell_center_flux[mu], half_angle_flux)\n",
    "    print(half_angle_flux)\n",
    "    am_angle = ap_angle"
   ]
  },
  {
   "cell_type": "code",
   "execution_count": 97,
   "metadata": {
    "collapsed": false
   },
   "outputs": [
    {
     "name": "stdout",
     "output_type": "stream",
     "text": [
      "r = 0.1\t86622732.1805\n",
      "r = 0.3\t588509394.932\n",
      "r = 0.5\t6145597110.89\n",
      "r = 0.7\t17926164028.2\n",
      "r = 0.9\t52037943053.0\n",
      "r = 1.1\t113265646560.0\n",
      "r = 1.3\t245416374629.0\n",
      "r = 1.5\t474427323205.0\n",
      "r = 1.7\t783342266584.0\n",
      "r = 1.9\t669874524229.0\n",
      "r = 0.1\t93486433.9148\n",
      "r = 0.3\t2792173469.15\n",
      "r = 0.5\t50264956443.0\n",
      "r = 0.7\t220307801674.0\n",
      "r = 0.9\t811047464083.0\n",
      "r = 1.1\t2.19909056436e+12\n",
      "r = 1.3\t5.58351557896e+12\n",
      "r = 1.5\t1.25380962844e+13\n",
      "r = 1.7\t2.34892055736e+13\n",
      "r = 1.9\t2.31340390918e+13\n"
     ]
    }
   ],
   "source": [
    "################################################################\n",
    "# ANGLE\n",
    "for i in range(len(muvec)/2, len(muvec)):\n",
    "    mu = muvec[i]\n",
    "    w = wvec[i]\n",
    "    hf = increv\n",
    "    ap_angle = det_alpha(am_angle, mu, w)\n",
    "    #print('mu = '+str(mu))\n",
    "################################################################\n",
    "# SPACE    \n",
    "    for j in range(0, len(cell_centers)):\n",
    "        r = cell_centers[j]\n",
    "        haf = half_angle_flux[j]\n",
    "        cf = cell_flux(r, h, mu, w, sigma_tot, ap_angle, am_angle, hf, haf, Q[j])\n",
    "        print('r = '+str(r)+'\\t'+str(cf))        \n",
    "        cell_center_flux[mu][j] = cf\n",
    "        hf = spatial_difference(half_angle_flux[j], hf)\n",
    "    half_angle_flux = angular_difference(cell_center_flux[mu], half_angle_flux)\n",
    "    am_angle = ap_angle"
   ]
  },
  {
   "cell_type": "code",
   "execution_count": null,
   "metadata": {
    "collapsed": true
   },
   "outputs": [],
   "source": []
  }
 ],
 "metadata": {
  "anaconda-cloud": {},
  "kernelspec": {
   "display_name": "Python [Root]",
   "language": "python",
   "name": "Python [Root]"
  },
  "language_info": {
   "codemirror_mode": {
    "name": "ipython",
    "version": 2
   },
   "file_extension": ".py",
   "mimetype": "text/x-python",
   "name": "python",
   "nbconvert_exporter": "python",
   "pygments_lexer": "ipython2",
   "version": "2.7.12"
  }
 },
 "nbformat": 4,
 "nbformat_minor": 0
}
