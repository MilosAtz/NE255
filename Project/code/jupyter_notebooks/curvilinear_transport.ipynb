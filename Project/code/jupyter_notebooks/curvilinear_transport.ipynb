{
 "cells": [
  {
   "cell_type": "markdown",
   "metadata": {},
   "source": [
    "# NE255 Final Project: Neutron Transport in 1-D Spherical Coordinates\n",
    "\n",
    "Hello there,\n",
    "\n",
    "You've opened the Jupyter notebook that contains the code I've written as a part of my NE255 class final project with Professor Rachel Slaybaugh at UC Berkeley. This code solves (err, attempts to solve) the neutron transport equation in a 1-D sphere. In this notebook, you'll find the all the supporting code that makes that solution possible. Though I describe the purpose of each function, I don't provide derivation of the discretization or algorthim. For that, please see my final report or Section 3-4 in E.E. Lewis and W.F. Miller \"Computational Methods of Neutron Transport\"."
   ]
  },
  {
   "cell_type": "code",
   "execution_count": 1,
   "metadata": {
    "collapsed": true
   },
   "outputs": [],
   "source": [
    "%matplotlib inline\n",
    "import matplotlib.pyplot as plt"
   ]
  },
  {
   "cell_type": "code",
   "execution_count": 2,
   "metadata": {
    "collapsed": false
   },
   "outputs": [
    {
     "data": {
      "application/javascript": [
       "IPython.OutputArea.auto_scroll_threshold = 99999;"
      ],
      "text/plain": [
       "<IPython.core.display.Javascript object>"
      ]
     },
     "metadata": {},
     "output_type": "display_data"
    }
   ],
   "source": [
    "%%javascript\n",
    "IPython.OutputArea.auto_scroll_threshold = 99999;"
   ]
  },
  {
   "cell_type": "code",
   "execution_count": 3,
   "metadata": {
    "collapsed": true
   },
   "outputs": [],
   "source": [
    "import math\n",
    "import numpy as np\n",
    "from numpy.polynomial.legendre import leggauss\n",
    "from scipy.special import legendre"
   ]
  },
  {
   "cell_type": "markdown",
   "metadata": {},
   "source": [
    "Our system is spherical, so the cells are spherical shells. Given a shell's center point (radially speaking) and its radial width, we can calculate the surface areas of the spheres that bound it."
   ]
  },
  {
   "cell_type": "code",
   "execution_count": 4,
   "metadata": {
    "collapsed": true
   },
   "outputs": [],
   "source": [
    "def det_shell_surface_area(r, h):\n",
    "    # r is the spherical shell center point\n",
    "    # h is the mesh spacing, which allows us to determine the i+1/2\n",
    "    # and i-1/2 shell surface areas.\n",
    "    Aplus = 4*np.pi*(r+(h/2))**2\n",
    "    Aminus = 4*np.pi*(r-(h/2))**2\n",
    "    return(Aplus, Aminus)"
   ]
  },
  {
   "cell_type": "markdown",
   "metadata": {},
   "source": [
    "We can do the same to calculate its volume."
   ]
  },
  {
   "cell_type": "code",
   "execution_count": 5,
   "metadata": {
    "collapsed": true
   },
   "outputs": [],
   "source": [
    "def det_shell_volume(r, h):\n",
    "    return(np.pi*((r+(h/2))**3-(r-(h/2))**3)/0.75)"
   ]
  },
  {
   "cell_type": "markdown",
   "metadata": {},
   "source": [
    "$\\alpha$ is the angular differencing coefficient required to make possible the use of Gaussian and other quadrature sets in curvilinear coordinates. It is found by a recursive relationship using the current angle and quadrature weight."
   ]
  },
  {
   "cell_type": "code",
   "execution_count": 6,
   "metadata": {
    "collapsed": true
   },
   "outputs": [],
   "source": [
    "def det_alpha(anm, mu, w):\n",
    "    anp = anm - mu*w\n",
    "    return(anp)"
   ]
  },
  {
   "cell_type": "markdown",
   "metadata": {},
   "source": [
    "The first step of the algorithm is to solve the flux in each spatial cell for $n=1/2$. This starting flux is then used as the half-angle flux and is input into the function for the cell-centered flux when $n = 1$."
   ]
  },
  {
   "cell_type": "code",
   "execution_count": 7,
   "metadata": {
    "collapsed": true
   },
   "outputs": [],
   "source": [
    "def det_starting_flux(r, h, sigma_t, incoming_s_flux, Qcell):\n",
    "    return((2*incoming_s_flux+h*Qcell)/(2+sigma_t*h))"
   ]
  },
  {
   "cell_type": "markdown",
   "metadata": {},
   "source": [
    "This is the function that determines the cell-centered flux given the incoming half flux on the face of the cell ($i-1/2$) and the incoming half-angle flux from angle $n-1/2$."
   ]
  },
  {
   "cell_type": "code",
   "execution_count": 8,
   "metadata": {
    "collapsed": false
   },
   "outputs": [],
   "source": [
    "def det_cell_flux(r, h, mu, w, sigma_t, ap_angle, am_angle, incoming_s_flux, incoming_a_flux, src, vals=False):\n",
    "    # sigma_t is the total cross section\n",
    "    # ap and am_angle are the angular differencing coefficients alpha_n+1/2 and alpha_n-1/2a\n",
    "    Ap, Am = det_shell_surface_area(r, h)\n",
    "    V = det_shell_volume(r, h)\n",
    "    if(mu<0):\n",
    "        denom = 2*abs(mu)*Am+(4.0/w)*(Ap-Am)*ap_angle+V*sigma_t\n",
    "    else:\n",
    "        denom = 2*abs(mu)*Ap+(4.0/w)*(Ap-Am)*ap_angle+V*sigma_t\n",
    "    a = abs(mu)*(Ap+Am)*incoming_s_flux\n",
    "    b = (2.0/w)*(Ap-Am)*(ap_angle+am_angle)*incoming_a_flux\n",
    "    c = V*src\n",
    "    flux = (a+b+c)/denom\n",
    "    return(flux)"
   ]
  },
  {
   "cell_type": "markdown",
   "metadata": {},
   "source": [
    "Diamond difference relationships are used to step through space and angle"
   ]
  },
  {
   "cell_type": "code",
   "execution_count": 9,
   "metadata": {
    "collapsed": true
   },
   "outputs": [],
   "source": [
    "def spatial_difference(prev_cell_flux, prev_half_flux):\n",
    "    return(2*prev_cell_flux-prev_half_flux)"
   ]
  },
  {
   "cell_type": "code",
   "execution_count": 10,
   "metadata": {
    "collapsed": true
   },
   "outputs": [],
   "source": [
    "def angular_difference(flux_ni, flux_nmi):\n",
    "    flux_npi = 2*flux_ni - flux_nmi\n",
    "    return(flux_npi)"
   ]
  },
  {
   "cell_type": "markdown",
   "metadata": {},
   "source": [
    "We can create many different types of spatial meshes. In particular, I've written code to generate meshes of uniform and equal volume. In principle, these produce the same result. The benefit of using the uniform mesh is that you get more points closer to the origin. When using the equal-volume mesh, the volume of those cells becomes so small that you either lose resolution at the middle or have way too many points toward the outer radius of the sphere. \n",
    "\n",
    "These functions generate that mesh for the spherical core and reflector based on the core radius, the reflector thickness, and the number of cells desired. If no reflector is desired (i.e. for testing, etc.) it can be omitted. More details later."
   ]
  },
  {
   "cell_type": "code",
   "execution_count": 11,
   "metadata": {
    "collapsed": true
   },
   "outputs": [],
   "source": [
    "def det_core_volume_mesh(R, nCells):\n",
    "    # R is the radius of the spherical core\n",
    "    # determine cell-center x values\n",
    "    cell_volume = np.pi*R**3/0.75/nCells\n",
    "    # specify radial positions of the spherical shells \n",
    "    # that bound the equal volume cells\n",
    "    shells = np.zeros(int(nCells)+1)\n",
    "    # cell_center contains the radial positions of the\n",
    "    # centers of the spherical shells\n",
    "    cell_center = np.zeros(int(nCells))\n",
    "    shells[1]=(cell_volume*0.75/np.pi)**0.333333333333333333333\n",
    "    cell_center[0]=shells[1]/2\n",
    "    for i in range(2, nCells+1):\n",
    "        shells[i]=((0.75*cell_volume/np.pi)+shells[i-1]**3)**0.333333333333333333333\n",
    "        cell_center[i-1]=shells[i-1]+(shells[i]-shells[i-1])/2\n",
    "    return(cell_center, shells)\n",
    "    # Can test that the last entry in the shells list is equal to the radius of the core"
   ]
  },
  {
   "cell_type": "code",
   "execution_count": 12,
   "metadata": {
    "collapsed": true
   },
   "outputs": [],
   "source": [
    "def det_refl_volume_mesh(core_radius, refl_thickness, nCells=1):\n",
    "    refl_volume = np.pi*((core_radius+refl_thickness)**3-core_radius**3)/0.75\n",
    "    if(refl_volume!=0):\n",
    "        cell_volume = refl_volume/nCells\n",
    "        # specify radial positions of the spherical shells \n",
    "        # that bound the equal volume cells\n",
    "        shells = np.zeros(int(nCells)+1)\n",
    "        # cell_center contains the radial positions of the\n",
    "        # centers of the spherical shells in the reflector\n",
    "        cell_centers = np.zeros(int(nCells))\n",
    "        shells[0]=core_radius\n",
    "        for i in range(1, nCells+1):\n",
    "            shells[i]=((0.75*cell_volume/np.pi)+shells[i-1]**3)**0.333333333333333333333\n",
    "            cell_centers[i-1]=shells[i-1]+(shells[i]-shells[i-1])/2\n",
    "            # print(4*np.pi*(shells[i]**3-shells[i-1]**3)/3)\n",
    "        return(cell_centers, shells)    \n",
    "        # Can test that the last entry in the shells list is equal to the sum of \n",
    "        # the radius of the core and the thickness of the reflector\n",
    "        # Can test that the volume of each cell is equal\n",
    "    else:\n",
    "        return(np.array([]), np.array([]))"
   ]
  },
  {
   "cell_type": "code",
   "execution_count": 13,
   "metadata": {
    "collapsed": true
   },
   "outputs": [],
   "source": [
    "def det_core_uniform_mesh(R, nCells):\n",
    "    # R is the radius of the spherical core\n",
    "    # determine cell-center x values\n",
    "    # the spacing between the cells\n",
    "    h = float(R)/nCells\n",
    "    shells = np.zeros(int(nCells)+1)\n",
    "    # centers contains the radial positions of the\n",
    "    # centers of the spherical shells\n",
    "    centers = np.zeros(int(nCells))\n",
    "    for i in range(0, nCells):\n",
    "        centers[i]=(i*h)+h/2\n",
    "        shells[i+1]=(i+1)*h\n",
    "    return(centers, shells)"
   ]
  },
  {
   "cell_type": "code",
   "execution_count": 14,
   "metadata": {
    "collapsed": true
   },
   "outputs": [],
   "source": [
    "def det_refl_uniform_mesh(core_radius, refl_thickness, nCells=1):\n",
    "    refl_volume = np.pi*((core_radius+refl_thickness)**3-core_radius**3)/0.75\n",
    "    if(refl_volume!=0):\n",
    "        h = refl_thickness/float(nCells)\n",
    "        # specify radial positions of the spherical shells \n",
    "        # that bound the equal volume cells\n",
    "        shells = np.zeros(int(nCells)+1)\n",
    "        # cell_center contains the radial positions of the\n",
    "        # centers of the spherical shells in the reflector\n",
    "        cell_centers = np.zeros(int(nCells))\n",
    "        shells[0]=core_radius\n",
    "        for i in range(1, nCells+1):\n",
    "            shells[i]=shells[i-1]+h\n",
    "            cell_centers[i-1]=shells[i]-h/2\n",
    "        return(cell_centers, shells)    \n",
    "        # Can test that the last entry in the shells list is equal to the sum of \n",
    "        # the radius of the core and the thickness of the reflector\n",
    "        # Can test that the volume of each cell is equal\n",
    "    else:\n",
    "        return(np.array([]), np.array([]))"
   ]
  },
  {
   "cell_type": "markdown",
   "metadata": {},
   "source": [
    "We have to integrate the angular flux over angle to find the scalar flux. This requires quadrature integration. I use Gaussian quadrature in this problem."
   ]
  },
  {
   "cell_type": "code",
   "execution_count": 15,
   "metadata": {
    "collapsed": true
   },
   "outputs": [],
   "source": [
    "def integrate_quadrature(angularflux, muVector, wVector):\n",
    "    x = {}\n",
    "    for i in range(0, len(muVector)):\n",
    "        x[muVector[i]] = angularflux[muVector[i]]*wVector[i]\n",
    "    return(np.sum(x.values(), axis=0)/2)"
   ]
  },
  {
   "cell_type": "markdown",
   "metadata": {},
   "source": [
    "To update the scattering source (isotropic), the angular flux is integrated and multiplied by $2\\pi\\frac{\\sigma_s}{4\\pi}$; the multiplication by $2\\pi$ accounts for the fact that scattering is isotropic."
   ]
  },
  {
   "cell_type": "code",
   "execution_count": 16,
   "metadata": {
    "collapsed": false
   },
   "outputs": [],
   "source": [
    "def update_scattering_source(order, angularflux, sigma_s, muVector, wVector):\n",
    "############################################################################################\n",
    "#Function to generate the flux moments\n",
    "    def det_legendre_moments(L, angflux, muVec, wVec):\n",
    "        phi_l = {}\n",
    "        for l in range(0, L+1):\n",
    "            Pl = legendre(l)\n",
    "            x = {}\n",
    "            for i in range(0, len(muVec)):\n",
    "                x[muVec[i]] = angflux[muVec[i]]*wVec[i]*Pl(muVec[i])\n",
    "            phi_l[l]=np.sum(x.values(), axis=0)/2\n",
    "        return(phi_l)\n",
    "############################################################################################    \n",
    "    phi_l = det_legendre_moments(order, angularflux, muVector, wVector)\n",
    "    s_source = {}\n",
    "    for n in range(0, len(muVector)):   \n",
    "        qn={}\n",
    "        for l in range(0, order+1):\n",
    "            Pl = legendre(l)\n",
    "            qn[l] = (2*l+1)*sigma_s*Pl(muVector[n])*phi_l[l]\n",
    "        s_source[muVector[n]] = np.sum(qn.values(), axis=0)/2\n",
    "    return(s_source)"
   ]
  },
  {
   "cell_type": "markdown",
   "metadata": {},
   "source": [
    "We need to initialize the external source in each cell. To do this, we calculate the cell average source in each cell based on its width and volume."
   ]
  },
  {
   "cell_type": "code",
   "execution_count": 17,
   "metadata": {
    "collapsed": true
   },
   "outputs": [],
   "source": [
    "def init_uniform_source(Q, nCells, cell_centers, cell_bound, muVec):\n",
    "    ext = np.ones(nCells)\n",
    "    for i in range(0, nCells):\n",
    "        inner, outer = cell_bound[i], cell_bound[i+1]\n",
    "        h = outer - inner\n",
    "        ext[i]=Q*4*np.pi*(outer**3-inner**3)/det_shell_volume(cell_centers[i],h)/3\n",
    "    angular_ext = {}\n",
    "    for i in range(0, len(muVec)):\n",
    "        angular_ext[muVec[i]]=ext\n",
    "    return(angular_ext)"
   ]
  },
  {
   "cell_type": "code",
   "execution_count": 18,
   "metadata": {
    "collapsed": true
   },
   "outputs": [],
   "source": [
    "def init_point_source(Q, nCells, cell_centers, cell_bound, muVec, pt_src_loc):\n",
    "    # pt_src_dir specifies the direction that the point source sends particles\n",
    "    ext = np.zeros(nCells)\n",
    "    ext[pt_src_loc]=Q\n",
    "    angular_ext = {}\n",
    "    for i in range(0, len(muVec)):\n",
    "        angular_ext[muVec[i]]=ext\n",
    "    return(angular_ext)"
   ]
  },
  {
   "cell_type": "markdown",
   "metadata": {},
   "source": [
    "Now, we start stepping through the meshes we've made. This function calculates the starting flux ($n=1/2$) in each spatial mesh cell to get the incoming half-angle flux for the cell-centered flux calculation. This function also determines the flux incoming at the center of origin."
   ]
  },
  {
   "cell_type": "code",
   "execution_count": 19,
   "metadata": {
    "collapsed": true
   },
   "outputs": [],
   "source": [
    "def init_wdd(cell_centers, cell_shells, mu1, Q, xs_tot, hf):\n",
    "    half_angle_flux = np.zeros(len(cell_centers))\n",
    "    for j in range(0, len(cell_centers)):\n",
    "        r = cell_centers[::-1][j]\n",
    "        h = cell_shells[::-1][j]-cell_shells[::-1][j+1]\n",
    "        qc = Q[mu1][len(cell_centers)-j-1]#/len(muvec)\n",
    "        xs = xs_tot[len(cell_centers)-j-1]\n",
    "        haf = det_starting_flux(r, h, xs, hf, qc)\n",
    "        half_angle_flux[len(cell_centers)-j-1] = haf\n",
    "        #print('incoming hf = '+str(hf))\n",
    "        #print('haf = '+str(haf))\n",
    "        hf = spatial_difference(haf, hf)\n",
    "        #print ('outgoing hf = '+str(hf))\n",
    "    #incoming_center_hf = hf\n",
    "    return(half_angle_flux, hf)"
   ]
  },
  {
   "cell_type": "markdown",
   "metadata": {},
   "source": [
    "With the initial half angle flux, we can step through the spatial mesh to calculate the cell centered fluxes. For each angle $\\mu$, we walk inward to the center of the sphere, then turn around and walk out. In between angles, we update the half-angle flux for the next angle."
   ]
  },
  {
   "cell_type": "code",
   "execution_count": 20,
   "metadata": {
    "collapsed": false
   },
   "outputs": [],
   "source": [
    "def wdd(cell_center_flux, half_angle_flux, hf, cell_centers, cell_shells, \\\n",
    "        muvec, wvec, Q, xs_tot, incoming_hf_at_center):\n",
    "############################################################################################\n",
    "# START IN THE NEGATIVE DIRECTION, AT THE OUTSIDE OF THE SPHERE MOVING IN TOWARD THE CENTER\n",
    "    # Iterate in angle\n",
    "    am_angle = 0\n",
    "    #temp = {}\n",
    "    for i in range(0, len(muvec)/2):\n",
    "        mu = muvec[i]\n",
    "        w = wvec[i]\n",
    "        ap_angle = det_alpha(am_angle, mu, w)\n",
    "        #print('mu = '+str(mu))\n",
    "############################################################################################\n",
    "        # Iterate in space    \n",
    "        for j in range(0, len(cell_centers)):\n",
    "            r = cell_centers[::-1][j]\n",
    "            h = cell_shells[::-1][j]-cell_shells[::-1][j+1]\n",
    "            haf = half_angle_flux[len(cell_centers)-j-1]\n",
    "            qc = Q[mu][len(cell_centers)-j-1]\n",
    "            xs = xs_tot[len(cell_centers)-j-1]\n",
    "            #test[mu][len(cell_centers)-j-1]=qc/((2*mu/r)+(2*(ap_angle-am_angle)/w/r)+xs)\n",
    "            #print('r = '+str(r)+'\\t incoming hf = '+str(hf))\n",
    "            cf = det_cell_flux(r, h, mu, w, xs, ap_angle, am_angle, hf, haf, qc, vals=False)\n",
    "            hf = spatial_difference(cf, hf)\n",
    "            # NEGATIVE FLUX FIXUP\n",
    "            # if the outgoing flux from a cell is less than 0, recalculate the flux in that\n",
    "            # cell by setting the incoming flux to 0. Only need to do this one time in 1D.\n",
    "            if(hf < 0.0):\n",
    "                cf = det_cell_flux(r, h, mu, w, xs, ap_angle, am_angle, 0.0, haf, qc)\n",
    "                hf = spatial_difference(cf, hf)\n",
    "            cell_center_flux[mu][len(cell_centers)-j-1] = cf\n",
    "            #print('r = '+str(r)+'\\t cf = '+str(cf))\n",
    "            #print('r = '+str(r)+'\\t outgoing hf = '+str(hf))\n",
    "        half_angle_flux = angular_difference(cell_center_flux[mu], half_angle_flux)\n",
    "        #temp[mu]=half_angle_flux\n",
    "        am_angle = ap_angle\n",
    "        #print('\\n')\n",
    "############################################################################################\n",
    "# NOW STEP IN THE POSITIVE DIRECTION, FROM THE CENTER OF THE SPHERE OUT TO THE EDGE\n",
    "    # Iterate in angle\n",
    "    for i in range(len(muvec)/2, len(muvec)):\n",
    "        mu = muvec[i]\n",
    "        w = wvec[i]\n",
    "        hf = incoming_hf_at_center\n",
    "        #print('mu = '+str(mu))\n",
    "        ap_angle = det_alpha(am_angle, mu, w)\n",
    "############################################################################################\n",
    "        # Iterate in space    \n",
    "        for j in range(0, len(cell_centers)):\n",
    "            r = cell_centers[j]\n",
    "            h = cell_shells[j+1]-cell_shells[j]\n",
    "            haf = half_angle_flux[j]\n",
    "            qc = Q[mu][j]\n",
    "            xs = xs_tot[j]                \n",
    "            #print('r = '+str(r)+'\\t incoming hf = '+str(hf))\n",
    "            #test[mu][j]=qc/((2*mu/r)+(2*(ap_angle-am_angle)/w/r)+xs)\n",
    "            cf = det_cell_flux(r, h, mu, w, xs, ap_angle, am_angle, hf, haf, qc, vals=False)\n",
    "            hf = spatial_difference(cf, hf)\n",
    "            #if(j==0):\n",
    "            #    print('cf = '+str(cf))\n",
    "            #    print('hf = '+str(hf))\n",
    "            # NEGATIVE FLUX FIXUP\n",
    "            # if the outgoing flux from a cell is less than 0, recalculate the flux in that\n",
    "            # cell by setting the incoming flux to 0. Only need to do this one time in 1D.\n",
    "            if(hf < 0.0):\n",
    "                #print('negative flux at r = '+str(r))\n",
    "                cf = det_cell_flux(r, h, mu, w, xs, ap_angle, am_angle, 0.0, haf, qc)\n",
    "                hf = spatial_difference(cf, 0.0)\n",
    "            cell_center_flux[mu][j] = cf\n",
    "            #print('r = '+str(r)+'\\t cf = '+str(cf))\n",
    "            #print('r = '+str(r)+'\\t outgoing hf = '+str(hf))\n",
    "        half_angle_flux = angular_difference(cell_center_flux[mu], half_angle_flux)\n",
    "        am_angle = ap_angle\n",
    "        #temp[mu]=half_angle_flux\n",
    "        #print('\\n')\n",
    "    return(cell_center_flux)#, temp)"
   ]
  },
  {
   "cell_type": "code",
   "execution_count": 21,
   "metadata": {
    "collapsed": true
   },
   "outputs": [],
   "source": [
    "def iterate_flux(cell_centers, cell_shells, muvec, wvec, hf, external_source, \\\n",
    "                 L, sigma_totv, sigma_sv, tol=1e-4, iteration_cap = 100):\n",
    "################################################################################################\n",
    "    # Function to assess error; because the scattering source varies over angle, I take error \n",
    "    # to be the maximum difference between old and new scattering sources.\n",
    "    def check_error(new_s_source, old_s_source):\n",
    "        error = {}\n",
    "        for mu in new_s_source:\n",
    "            error[mu]=abs(np.linalg.norm(new_s_source[mu] - old_s_source[mu]))\n",
    "        return(max(error.values()))\n",
    "################################################################################################\n",
    "    # Initialize angular flux dictionary\n",
    "    angularflux = {}\n",
    "    for i in range(0, len(muvec)):\n",
    "        angularflux[muvec[i]]=np.zeros(len(cell_centers))\n",
    "################################################################################################\n",
    "    # Initialize scattering source\n",
    "    scattering_source = update_scattering_source(L, angularflux, sigma_sv, muvec, wvec)\n",
    "################################################################################################\n",
    "    # Initialize source dictionary \n",
    "    source = {}\n",
    "    for mu in external_source:\n",
    "        source[mu]=external_source[mu]+scattering_source[mu]\n",
    "################################################################################################\n",
    "    # Iterate to converge the scattering source\n",
    "    error = 1.0\n",
    "    iteration_counter = 0\n",
    "    while(error > tol and iteration_counter < iteration_cap):\n",
    "        iteration_counter += 1\n",
    "        haf, icf = init_wdd(cell_centers, cell_shells, muvec[0], source, sigma_totv, hf)\n",
    "        angularflux = wdd(angularflux, haf, hf, cell_centers, cell_shells, muvec, wvec, source, sigma_totv, icf)\n",
    "        new_scattering_source = update_scattering_source(L, angularflux, sigma_sv, muvec, wvec)\n",
    "        error = check_error(new_scattering_source, scattering_source)\n",
    "        scattering_source = new_scattering_source\n",
    "        for mu in source:\n",
    "            source[mu]=external_source[mu]+scattering_source[mu]\n",
    "    if(error<tol):\n",
    "        print('converged in '+str(iteration_counter)+' iterations')\n",
    "        scalarflux = integrate_quadrature(angularflux, muvec, wvec)\n",
    "        return(scalarflux, angularflux)\n",
    "    else:\n",
    "        print('not converged in '+str(iteration_cap)+' iterations')"
   ]
  },
  {
   "cell_type": "markdown",
   "metadata": {},
   "source": [
    "At this point, we're ready to calculate some fluxes! Let's start with a bare sphere with uniform source. We specify the spatial and neutronic variables required to calculate the sources and flux."
   ]
  },
  {
   "cell_type": "code",
   "execution_count": 32,
   "metadata": {
    "collapsed": false
   },
   "outputs": [],
   "source": [
    "# specify the radius of the core\n",
    "core_radius = 10.0\n",
    "# specify the number of cells\n",
    "nCells = 200\n",
    "# determine mu and w\n",
    "muvec, wvec = leggauss(2)\n",
    "# total xs\n",
    "sigma_tot = 2.5\n",
    "# scattering xs\n",
    "sigma_s = 0.5\n",
    "# external source\n",
    "Q = 0.5\n",
    "# order of P_N expansion of scattering\n",
    "L = 4\n",
    "# incoming flux from boundary\n",
    "hf=0.0\n",
    "################################################################################################\n",
    "# expand the cross sections into arrays\n",
    "sigma_totv = np.ones(nCells)*sigma_tot\n",
    "sigma_sv = np.ones(nCells)*sigma_s\n",
    "# calculate the centers and shells of the sphere\n",
    "cell_centers, cell_shells = det_core_uniform_mesh(core_radius, nCells)\n",
    "################################################################################################\n",
    "# Initialize sources\n",
    "external_source = init_uniform_source(Q, nCells, cell_centers, cell_shells, muvec)\n",
    "# can also do point source; the last entry in this function is the spatial INDEX in which the\n",
    "# point source will go\n",
    "#external_point_source = init_point_source(Q, nCells, cell_centers, cell_shells, muvec, 50)"
   ]
  },
  {
   "cell_type": "code",
   "execution_count": 33,
   "metadata": {
    "collapsed": false
   },
   "outputs": [
    {
     "name": "stdout",
     "output_type": "stream",
     "text": [
      "converged in 8 iterations\n"
     ]
    }
   ],
   "source": [
    "sf, af = iterate_flux(cell_centers, cell_shells, muvec, wvec, hf, external_source, L, sigma_totv, sigma_sv)\n",
    "\n",
    "# iterate_flux(cell_centers, cell_shells, muvec, wvec, hf, external_source, \\\n",
    "#               scattering_source, L, sigma_totv, sigma_sv, tol=1e-4, iteration_cap = 100):"
   ]
  },
  {
   "cell_type": "code",
   "execution_count": 34,
   "metadata": {
    "collapsed": false
   },
   "outputs": [
    {
     "data": {
      "image/png": "[encoded data removed]",
      "text/plain": [
       "<matplotlib.figure.Figure at 0x10e51ed10>"
      ]
     },
     "metadata": {},
     "output_type": "display_data"
    }
   ],
   "source": [
    "# Let's see what we got!\n",
    "sfplot, = plt.plot(cell_centers, sf, label = 'scalar flux')\n",
    "# because N=2, we can easily plot the angular fluxes as well\n",
    "ang1, = plt.plot(cell_centers, af[muvec[0]], 'bo', label='angular flux, mu < 0')\n",
    "ang2, = plt.plot(cell_centers, af[muvec[1]], 'ro', label='angular flux, mu > 0')\n",
    "plt.xlabel('radius')\n",
    "plt.ylabel('scalar flux')\n",
    "plt.legend(handles=[sfplot, ang1, ang2], loc = [0.1, 0.1])\n",
    "plt.show()"
   ]
  },
  {
   "cell_type": "code",
   "execution_count": 291,
   "metadata": {
    "collapsed": false
   },
   "outputs": [
    {
     "data": {
      "text/plain": [
       "{-0.57735026918962573: array([ 0.16492337,  0.16795682,  0.17108815,  0.17403067,  0.17677963,\n",
       "         0.17934962,  0.18175703,  0.18401717,  0.1861437 ,  0.18814871,\n",
       "         0.19004283,  0.19183549,  0.19353501,  0.19514883,  0.19668356,\n",
       "         0.19814515,  0.19953893,  0.20086971,  0.20214185,  0.20335929,\n",
       "         0.20452563,  0.20564413,  0.2067178 ,  0.20774937,  0.20874136,\n",
       "         0.20969607,  0.21061566,  0.21150207,  0.21235714,  0.21318254,\n",
       "         0.21397985,  0.21475052,  0.21549589,  0.21621724,  0.21691573,\n",
       "         0.21759247,  0.21824848,  0.21888473,  0.21950212,  0.22010149,\n",
       "         0.22068365,  0.22124935,  0.22179928,  0.22233412,  0.22285448,\n",
       "         0.22336098,  0.22385415,  0.22433454,  0.22480264,  0.22525893,\n",
       "         0.22570386,  0.22613786,  0.22656134,  0.22697467,  0.22737822,\n",
       "         0.22777236,  0.2281574 ,  0.22853366,  0.22890145,  0.22926105,\n",
       "         0.22961274,  0.22995678,  0.23029342,  0.2306229 ,  0.23094546,\n",
       "         0.2312613 ,  0.23157065,  0.23187369,  0.23217064,  0.23246166,\n",
       "         0.23274694,  0.23302665,  0.23330095,  0.23357   ,  0.23383395,\n",
       "         0.23409295,  0.23434714,  0.23459664,  0.2348416 ,  0.23508212,\n",
       "         0.23531835,  0.23555038,  0.23577834,  0.23600232,  0.23622244,\n",
       "         0.23643879,  0.23665147,  0.23686058,  0.23706619,  0.23726841,\n",
       "         0.23746731,  0.23766298,  0.23785549,  0.23804491,  0.23823134,\n",
       "         0.23841482,  0.23859544,  0.23877325,  0.23894833,  0.23912073,\n",
       "         0.23929051,  0.23945774,  0.23962246,  0.23978474,  0.23994462,\n",
       "         0.24010216,  0.2402574 ,  0.24041038,  0.24056117,  0.24070979,\n",
       "         0.2408563 ,  0.24100072,  0.24114311,  0.24128349,  0.24142191,\n",
       "         0.24155839,  0.24169296,  0.24182566,  0.24195652,  0.24208555,\n",
       "         0.24221279,  0.24233826,  0.24246196,  0.24258393,  0.24270418,\n",
       "         0.24282271,  0.24293954,  0.24305467,  0.2431681 ,  0.24327983,\n",
       "         0.24338985,  0.24349816,  0.24360473,  0.24370954,  0.24381256,\n",
       "         0.24391377,  0.2440131 ,  0.24411052,  0.24420595,  0.24429933,\n",
       "         0.24439057,  0.24447957,  0.2445662 ,  0.24465035,  0.24473185,\n",
       "         0.24481052,  0.24488618,  0.24495857,  0.24502745,  0.2450925 ,\n",
       "         0.24515338,  0.24520971,  0.24526102,  0.24530681,  0.2453465 ,\n",
       "         0.24537941,  0.24540477,  0.24542172,  0.24542924,  0.2454262 ,\n",
       "         0.24541125,  0.24538289,  0.24533936,  0.24527864,  0.24519839,\n",
       "         0.24509591,  0.24496806,  0.24481121,  0.2446211 ,  0.24439281,\n",
       "         0.24412053,  0.24379752,  0.24341583,  0.24296612,  0.2424374 ,\n",
       "         0.24181668,  0.24108861,  0.24023499,  0.23923422,  0.23806059,\n",
       "         0.23668347,  0.2350663 ,  0.23316536,  0.23092828,  0.22829226,\n",
       "         0.22518185,  0.2215063 ,  0.21715631,  0.21200007,  0.20587845,\n",
       "         0.19859914,  0.18992949,  0.17958777,  0.16723258,  0.15244981,\n",
       "         0.13473685,  0.11348323,  0.08794704,  0.05722611,  0.02022284]),\n",
       " 0.57735026918962573: array([ 0.2091493 ,  0.18151152,  0.19394178,  0.20426611,  0.21333468,\n",
       "         0.22136462,  0.22849568,  0.23483937,  0.24048984,  0.24552813,\n",
       "         0.25002465,  0.25404078,  0.2576303 ,  0.26084038,  0.26371252,\n",
       "         0.26628329,  0.26858496,  0.27064607,  0.27249188,  0.27414479,\n",
       "         0.27562469,  0.27694926,  0.27813424,  0.27919365,  0.28014001,\n",
       "         0.28098449,  0.2817371 ,  0.28240677,  0.28300154,  0.2835286 ,\n",
       "         0.2839944 ,  0.28440476,  0.28476491,  0.28507955,  0.28535293,\n",
       "         0.28558888,  0.28579086,  0.28596199,  0.28610511,  0.28622278,\n",
       "         0.28631731,  0.28639083,  0.28644523,  0.28648225,  0.28650348,\n",
       "         0.28651035,  0.28650417,  0.28648612,  0.2864573 ,  0.28641869,\n",
       "         0.2863712 ,  0.28631565,  0.2862528 ,  0.28618334,  0.2861079 ,\n",
       "         0.28602705,  0.28594133,  0.28585121,  0.28575714,  0.28565954,\n",
       "         0.28555876,  0.28545516,  0.28534904,  0.2852407 ,  0.28513039,\n",
       "         0.28501837,  0.28490486,  0.28479005,  0.28467414,  0.2845573 ,\n",
       "         0.28443968,  0.28432144,  0.28420271,  0.28408361,  0.28396425,\n",
       "         0.28384474,  0.28372517,  0.28360563,  0.28348619,  0.28336694,\n",
       "         0.28324793,  0.28312923,  0.2830109 ,  0.28289298,  0.28277552,\n",
       "         0.28265856,  0.28254215,  0.28242632,  0.28231109,  0.28219651,\n",
       "         0.28208258,  0.28196935,  0.28185682,  0.28174501,  0.28163395,\n",
       "         0.28152365,  0.28141411,  0.28130536,  0.2811974 ,  0.28109024,\n",
       "         0.28098389,  0.28087835,  0.28077362,  0.28066972,  0.28056665,\n",
       "         0.2804644 ,  0.28036298,  0.28026239,  0.28016263,  0.2800637 ,\n",
       "         0.2799656 ,  0.27986832,  0.27977187,  0.27967624,  0.27958143,\n",
       "         0.27948744,  0.27939426,  0.27930189,  0.27921033,  0.27911957,\n",
       "         0.27902961,  0.27894044,  0.27885207,  0.27876449,  0.27867769,\n",
       "         0.27859167,  0.27850642,  0.27842195,  0.27833826,  0.27825533,\n",
       "         0.27817316,  0.27809176,  0.27801113,  0.27793126,  0.27785214,\n",
       "         0.2777738 ,  0.27769621,  0.2776194 ,  0.27754335,  0.27746808,\n",
       "         0.2773936 ,  0.2773199 ,  0.27724701,  0.27717492,  0.27710366,\n",
       "         0.27703324,  0.27696367,  0.27689499,  0.27682721,  0.27676036,\n",
       "         0.27669447,  0.27662958,  0.27656573,  0.27650296,  0.27644132,\n",
       "         0.27638087,  0.27632167,  0.27626377,  0.27620727,  0.27615224,\n",
       "         0.27609876,  0.27604693,  0.27599685,  0.27594862,  0.27590235,\n",
       "         0.27585816,  0.27581616,  0.27577647,  0.27573919,  0.27570442,\n",
       "         0.27567224,  0.2756427 ,  0.27561582,  0.27559156,  0.2755698 ,\n",
       "         0.27555035,  0.27553286,  0.27551685,  0.27550159,  0.27548611,\n",
       "         0.27546907,  0.27544869,  0.27542265,  0.2753879 ,  0.27534052,\n",
       "         0.27527549,  0.2751864 ,  0.27506513,  0.27490142,  0.27468236,\n",
       "         0.27439176,  0.27400937,  0.27350991,  0.27286192,  0.27202629,\n",
       "         0.27095451,  0.26958646,  0.26784783,  0.26564677,  0.26286995])}"
      ]
     },
     "execution_count": 291,
     "metadata": {},
     "output_type": "execute_result"
    }
   ],
   "source": [
    "af"
   ]
  },
  {
   "cell_type": "markdown",
   "metadata": {},
   "source": [
    "We can also easily compare with the diffusion solution"
   ]
  },
  {
   "cell_type": "code",
   "execution_count": 260,
   "metadata": {
    "collapsed": false
   },
   "outputs": [
    {
     "name": "stdout",
     "output_type": "stream",
     "text": [
      "0.57735026919\n"
     ]
    },
    {
     "data": {
      "image/png": "[encoded data removed]",
      "text/plain": [
       "<matplotlib.figure.Figure at 0x110c77b50>"
      ]
     },
     "metadata": {},
     "output_type": "display_data"
    }
   ],
   "source": [
    "from sphere_diffusion_code import det_bare_flux\n",
    "# det_bare_flux(r, R, source, xs_tot, xs_s, mu)\n",
    "# mu is supposed to be the average mu, which is sometimes approximated as 2/(3A), where\n",
    "# A is the mass number. Here, I just use a value from Gaussian quadrature (the exact value\n",
    "# isn't super important).\n",
    "mu = leggauss(2)[0][1]\n",
    "print(mu)\n",
    "bare_diff_flux = np.zeros(len(cell_centers))\n",
    "for i in range(0, len(cell_centers)):\n",
    "    bare_diff_flux[i]=det_bare_flux(cell_centers[i], core_radius, Q, sigma_tot, sigma_s, mu)\n",
    "sfplot_comp, = plt.plot(cell_centers, sf, label = 'code solution')\n",
    "diff_comp, = plt.plot(cell_centers, bare_diff_flux, label = 'diffusion solution')\n",
    "plt.xlabel('radius')\n",
    "plt.ylabel('scalar flux')\n",
    "plt.legend(handles=[sfplot_comp, diff_comp], loc = [0.1, 0.1])\n",
    "plt.show()"
   ]
  },
  {
   "cell_type": "markdown",
   "metadata": {},
   "source": [
    "Let's do a reflected case."
   ]
  },
  {
   "cell_type": "code",
   "execution_count": 261,
   "metadata": {
    "collapsed": false
   },
   "outputs": [],
   "source": [
    "# specify the radius of the core\n",
    "core_radius = 5.0\n",
    "# reflector thickness\n",
    "refl_thickness = 10.0\n",
    "# specify the number of cells\n",
    "nCells_core = 100\n",
    "nCells_refl = 100\n",
    "# Angular variables\n",
    "muvec, wvec = leggauss(2)\n",
    "# Neutronic variables - specify the XS in each region\n",
    "# Core\n",
    "sigma_tot_core = 2.0\n",
    "sigma_s_core = 1.0\n",
    "# Reflector\n",
    "sigma_tot_refl = 5.0\n",
    "sigma_s_refl = 2.0\n",
    "# external source\n",
    "Q = 0.8\n",
    "# Flux incoming from outside the sphere\n",
    "hf=0\n",
    "# order of P_N expansion of scattering\n",
    "L = 4\n",
    "################################################################################################\n",
    "# expand the cross sections into arrays\n",
    "sigma_tot = np.concatenate((np.ones(nCells_core)*sigma_tot_core, np.zeros(nCells_refl)*sigma_tot_refl))\n",
    "sigma_sv = np.concatenate((np.ones(nCells_core)*sigma_s_core, np.ones(nCells_refl)*sigma_s_refl))\n",
    "# calculate the centers and shells of the sphere\n",
    "core_cell_centers, core_cell_shells = det_core_uniform_mesh(core_radius, nCells_core)\n",
    "refl_cell_centers, refl_cell_shells = det_refl_uniform_mesh(core_radius, refl_thickness, nCells_refl)\n",
    "cell_centers = np.concatenate((core_cell_centers, refl_cell_centers))\n",
    "################################################################################################\n",
    "# Initialize sources\n",
    "external_source = init_uniform_source(Q, nCells_core, core_cell_centers, core_cell_shells, muvec)\n",
    "for mu in external_source:\n",
    "    external_source[mu] = np.concatenate((external_source[mu], np.zeros(nCells_refl)))\n",
    "# can also do point source; the last entry in this function is the spatial INDEX in which the\n",
    "# point source will go\n",
    "# external_point_source = init_point_source(Q, nCells, cell_centers, cell_shells, muvec, 50)"
   ]
  },
  {
   "cell_type": "code",
   "execution_count": 262,
   "metadata": {
    "collapsed": false
   },
   "outputs": [
    {
     "name": "stdout",
     "output_type": "stream",
     "text": [
      "converged in 81 iterations\n"
     ]
    }
   ],
   "source": [
    "sf, af = iterate_flux(cell_centers, cell_shells, muvec, wvec, hf, external_source, L, sigma_totv, sigma_sv)\n",
    "\n",
    "# iterate_flux(cell_centers, cell_shells, muvec, wvec, hf, external_source, \\\n",
    "#               scattering_source, L, sigma_totv, sigma_sv, tol=1e-4, iteration_cap = 100):a"
   ]
  },
  {
   "cell_type": "code",
   "execution_count": 263,
   "metadata": {
    "collapsed": false
   },
   "outputs": [
    {
     "data": {
      "image/png": "[encoded data removed]",
      "text/plain": [
       "<matplotlib.figure.Figure at 0x1106c36d0>"
      ]
     },
     "metadata": {},
     "output_type": "display_data"
    }
   ],
   "source": [
    "# Let's see what we got!\n",
    "sfplot, = plt.plot(cell_centers, sf, label = 'scalar flux')\n",
    "# because N=2, we can easily plot the angular fluxes as well\n",
    "ang1, = plt.plot(cell_centers, af[muvec[0]], 'bo', label='angular flux, mu < 0')\n",
    "ang2, = plt.plot(cell_centers, af[muvec[1]], 'ro', label='angular flux, mu > 0')\n",
    "plt.autoscale(enable=False)\n",
    "plt.plot([core_radius, core_radius], [0, 1], 'r')\n",
    "plt.xlabel('radius')\n",
    "plt.ylabel('scalar flux')\n",
    "plt.legend(handles=[sfplot, ang1, ang2], loc = [0.45, 0.65])\n",
    "plt.show()"
   ]
  },
  {
   "cell_type": "code",
   "execution_count": 266,
   "metadata": {
    "collapsed": false
   },
   "outputs": [
    {
     "data": {
      "image/png": "[encoded data removed]",
      "text/plain": [
       "<matplotlib.figure.Figure at 0x10f6446d0>"
      ]
     },
     "metadata": {},
     "output_type": "display_data"
    }
   ],
   "source": [
    "from sphere_diffusion_code import det_reflected_flux\n",
    "reflected_diff_flux = np.zeros(len(cell_centers))\n",
    "# det_reflected_flux(r, R1, R2, xs_tot1, xs_s1, xs_tot2, xs_s2, s, mu):\n",
    "mu = leggauss(2)[0][1]\n",
    "for i in range(0, len(cell_centers)):\n",
    "    reflected_diff_flux[i]=det_reflected_flux(cell_centers[i], core_radius, core_radius+refl_thickness, \\\n",
    "                                         sigma_tot_core, sigma_s_core, sigma_tot_refl, sigma_s_refl, \\\n",
    "                                         Q, mu)\n",
    "sfplot_comp, = plt.plot(cell_centers, sf, label = 'code solution')\n",
    "diff_comp, = plt.plot(cell_centers, reflected_diff_flux, label = 'diffusion solution')\n",
    "plt.autoscale(enable=False)\n",
    "plt.plot([core_radius, core_radius], [0, 1], 'r')\n",
    "plt.xlabel('radius')\n",
    "plt.ylabel('scalar flux')\n",
    "plt.legend(handles=[sfplot_comp, diff_comp], loc = [0.45, 0.65])\n",
    "plt.show()"
   ]
  },
  {
   "cell_type": "code",
   "execution_count": 267,
   "metadata": {
    "collapsed": true
   },
   "outputs": [],
   "source": [
    "# def det_pt_src_loc(location, cc):\n",
    "#     a = [abs(r-location) for r in cc]\n",
    "#     idx = cell_centers.index(min(location))\n",
    "    "
   ]
  }
 ],
 "metadata": {
  "anaconda-cloud": {},
  "kernelspec": {
   "display_name": "Python [Root]",
   "language": "python",
   "name": "Python [Root]"
  },
  "language_info": {
   "codemirror_mode": {
    "name": "ipython",
    "version": 2
   },
   "file_extension": ".py",
   "mimetype": "text/x-python",
   "name": "python",
   "nbconvert_exporter": "python",
   "pygments_lexer": "ipython2",
   "version": "2.7.12"
  }
 },
 "nbformat": 4,
 "nbformat_minor": 0
}
