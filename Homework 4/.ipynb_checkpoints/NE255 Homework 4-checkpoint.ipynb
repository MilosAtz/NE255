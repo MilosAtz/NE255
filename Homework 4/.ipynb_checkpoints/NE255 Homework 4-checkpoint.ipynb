{
 "cells": [
  {
   "cell_type": "markdown",
   "metadata": {},
   "source": [
    "**Milos Atz**  "
   ]
  },
  {
   "cell_type": "markdown",
   "metadata": {},
   "source": [
    "**1. Describe the sweeping process in one dimension (marching through space) along one angle using the diamond difference scheme**"
   ]
  },
  {
   "cell_type": "markdown",
   "metadata": {},
   "source": [
    "**(a) for $\\boldsymbol{\\mu \\gt 0}$**"
   ]
  },
  {
   "cell_type": "markdown",
   "metadata": {},
   "source": [
    "We can explain the sweeping process by considering some arbitrary cell $i$ in a mesh that covers the solution space. Here, $x_{i+1/2} - x_{i-1/2} = h \\equiv \\Delta_i$. If we integrate over space in our one dimension and divide by the differential volume of a cell, we get the following cell-balance equation.\n",
    "\n",
    "$$\n",
    "\\frac{\\mu}{\\Delta_i}(\\psi_{i+1/2}-\\psi_{i-1/2})+\n",
    "\\Sigma_{i}\\psi_{i} = s_{i}\n",
    "$$\n",
    "\n",
    "Here, $\\Sigma_{i}$ is the cell-averaged total cross section."
   ]
  },
  {
   "cell_type": "markdown",
   "metadata": {},
   "source": [
    "When $\\mu \\gt 0$, $\\psi_{i-1/2}$ is the *incoming* flux and $\\psi_{i+1/2}$ is the *outgoing* flux. We need a way to relate the center-cell and edge fluxes to each other and can use the above to define it.\n",
    "\n",
    "$$\n",
    "\\psi_i=\\frac{1}{2}\\left(\\psi_{i+1/2}+\\psi_{i-1/2}\\right)\n",
    "$$\n",
    "\n",
    "$$\n",
    "\\psi_{i+1/2} = 2\\psi_{i}-\\psi_{i-1/2}\n",
    "$$"
   ]
  },
  {
   "cell_type": "markdown",
   "metadata": {},
   "source": [
    "Note that the center flux, $\\psi_i$, is the average of the incoming and outgoing fluxes; in weighted diamond difference, a weighting factor is imposed.\n",
    "\n",
    "Substituting the above into the cell-balance equation yields a system of equations:\n",
    "\n",
    "$$\n",
    "\\psi_i = \\frac{s_i + 2\\frac{|\\mu|}{\\Delta_i}\\psi_{i-1/2}}{\\Sigma_i+2\\frac{|\\mu|}{\\Delta_i}\\psi_{i-1/2}}\n",
    "$$\n",
    "\n",
    "$$\n",
    "\\psi_{i+1/2} = 2\\psi_i-\\psi_{i-1/2}\n",
    "$$\n",
    "\n"
   ]
  },
  {
   "cell_type": "markdown",
   "metadata": {},
   "source": [
    "Let us assume that we know the flux coming into cell $i$. We can march through the spatial mesh and solve first for the cell-center flux $\\psi_i$ using the incoming flux, $\\psi_{i-1/2}$. Then, we can solve for the outgoing flux, $\\psi_{i+1/2}$; the outgoing flux in one cell is considered as the incoming flux in the next cell. This entire process can be repeated for the flux in each angle."
   ]
  },
  {
   "cell_type": "markdown",
   "metadata": {},
   "source": [
    "**(b) for $\\boldsymbol{\\mu \\lt 0}$**"
   ]
  },
  {
   "cell_type": "markdown",
   "metadata": {},
   "source": [
    "For $\\mu \\lt 0$, the process is the same, but the conditions are reversed. This time, $\\psi_{i+1/2}$ is the incoming flux. The system of equations becomes the following:\n",
    "\n",
    "$$\n",
    "\\psi_i = \\frac{s_i + 2\\frac{|\\mu|}{\\Delta_i}\\psi_{i+1/2}}{\\Sigma_i+2\\frac{|\\mu|}{\\Delta_i}\\psi_{i+1/2}}\n",
    "$$\n",
    "\n",
    "$$\n",
    "\\psi_{i-1/2} = 2\\psi_i-\\psi_{i+1/2}\n",
    "$$\n",
    "\n",
    "Again, we know the flux coming into cell $i$ as $\\psi_{i+1/2}$; we use this to solve for cell-center flux $\\psi_i$ and outgoing flux $\\psi_{i-1/2}$. We take the outgoing flux from the previous cell as the incoming flux in the next. This entire process is performed for each angle."
   ]
  },
  {
   "cell_type": "markdown",
   "metadata": {},
   "source": [
    "**(c) at a reflecting boundary on the right edge, including how to transition from $\\boldsymbol{\\mu \\gt 0}$ to $\\boldsymbol{\\mu \\lt 0}$**"
   ]
  },
  {
   "cell_type": "markdown",
   "metadata": {},
   "source": [
    "In this case, we are approaching the right-edge boundary and assume reflecting boundary conditions. Let cell $I$ be the last cell; we've already solved for the outgoing flux from cell $I-1$. This is the incoming flux into cell $I$. We can use this to solve for the cell-center flux in cell I.\n",
    "\n",
    "To consider the reflective boundary, we have to relate the both the direction of the flux and its angle. Let us assume that we've discretized angle such that we have $1,...,N$ angles and that we are solving for angle $n$. The outgoing flux from cell $I$ in direction $n$ is given as\n",
    "\n",
    "$$\n",
    "\\psi_{i+1/2, \\space n} = 2\\psi_{i, \\space n} -\\psi_{i-1/2, \\space n}\n",
    "$$\n",
    "\n",
    "In this case, we use the following condition as the initial condition for the sweep to the left.\n",
    "$$\n",
    "\\psi_{I+1/2, \\space N+1-n} = \\psi_{I+1/2, \\space n}\n",
    "$$\n",
    "\n",
    "Now, we can sweep to the left in the angle $N+1-n$ in direction $\\mu \\lt 0$."
   ]
  },
  {
   "cell_type": "markdown",
   "metadata": {},
   "source": [
    "** (d) If using the angular flux to generate flux moments during the solution process, what data do you need to store in the sweeping process?**"
   ]
  },
  {
   "cell_type": "markdown",
   "metadata": {},
   "source": [
    "Only the flux moments $\\phi_{li}$ need to be saved in the computer memory from one iteration to the next, since the contribution of $\\psi_{il}^m$ to $q_{in}^m$ is made point by point as the sweeping progresses.\n",
    "\n",
    "(From L+M pg. 130)."
   ]
  },
  {
   "cell_type": "markdown",
   "metadata": {},
   "source": [
    "**2. Let’s look at truncation error in the diamond difference method by examining the 1-D case. Consider uncollided neutrons with a zero group source moving along angle $\\boldsymbol{a}$:**\n",
    "\n",
    "$$\n",
    "\\boldsymbol{\\mu_a\\frac{d\\psi_a}{dx}+\\Sigma_t\\psi_a(x)=0,}\n",
    "$$\n",
    "\n",
    "**where the cross section is taken as constant.**"
   ]
  },
  {
   "cell_type": "markdown",
   "metadata": {},
   "source": [
    "**(a) For neutrons moving $\\boldsymbol{\\mu_a \\gt 0}$, write an expression for the flux at some location $\\boldsymbol{x′}$ in terms of the flux at location $\\boldsymbol{x}$ (you should have an exponential).**"
   ]
  },
  {
   "cell_type": "markdown",
   "metadata": {},
   "source": [
    "We can evaluate the above as a first order ordinary differential equation.\n",
    "\n",
    "$$\n",
    "\\mu_a\\frac{d\\psi_a}{dx}=-\\Sigma_t\\psi_a(x)\n",
    "$$\n",
    "\n",
    "$$\n",
    "\\frac{1}{\\psi_a(x)}d\\psi_a=-\\frac{\\Sigma_t}{\\mu_a}dx\n",
    "$$\n",
    "\n",
    "Let the current location be given as $\\boldsymbol{X}$; the arbitrary different location is given as $\\boldsymbol{X'}$.\n",
    "\n",
    "$$\n",
    "\\int_{\\boldsymbol{X}}^{\\boldsymbol{X'}}{\\frac{1}{\\psi_a(x)}d\\psi_a}=\n",
    "-\\int_{\\boldsymbol{X}}^{\\boldsymbol{X'}}{\\frac{\\Sigma_t}{\\mu_a}dx}\n",
    "$$\n",
    "\n",
    "$$\n",
    "\\ln(\\psi_a(x)) \\big\\rvert_{\\boldsymbol{X}}^{\\boldsymbol{X'}} = \n",
    "\\frac{\\Sigma_t}{\\mu_a}x\\big\\rvert_{\\boldsymbol{X}}^{\\boldsymbol{X'}}\n",
    "$$\n",
    "\n",
    "$$\n",
    "\\ln(\\psi_a(X')) - \\ln(\\psi_a(X)) = \\frac{\\Sigma_t}{\\mu_a}(X'-X)\n",
    "$$\n",
    "\n",
    "$$\n",
    "\\ln(\\psi_a(X')) = \\frac{\\Sigma_t}{\\mu_a}(X'-X)+\\ln(\\psi_a(X)) \n",
    "$$\n",
    "\n",
    "$$\n",
    "\\psi_a(X') = e^{\\frac{\\Sigma_t}{\\mu_a}(X'-X)+\\ln(\\psi_a(X))}\n",
    "$$\n",
    "\n",
    "$$\n",
    "\\psi_a(X') = e^{\\frac{\\Sigma_t}{\\mu_a}(X'-X)}e^{\\ln(\\psi_a(X))}\n",
    "$$\n",
    "\n",
    "$$\n",
    "\\psi_a(X') = \\psi_a(X)e^{\\frac{\\Sigma_t}{\\mu_a}(X'-X)}, \\quad \\boldsymbol{X'} \\gt \\boldsymbol{X}\n",
    "$$"
   ]
  },
  {
   "cell_type": "markdown",
   "metadata": {},
   "source": [
    "**(b) Let's say we impose a Cartesian grid with mesh index $\\boldsymbol{i}$. What is the expression for $\\boldsymbol{\\psi_{a, \\space i+1/2}}$ in terms of $\\boldsymbol{\\psi_{a, \\space i-1/2}}$? Use mesh spacing $\\boldsymbol{\\Delta_i = x_{i+1/2}-x_{i-1/2}}$ and the definition $\\boldsymbol{h \\equiv \\frac{\\Sigma_t \\Delta_i}{2|\\mu_a|}}$.**"
   ]
  },
  {
   "cell_type": "markdown",
   "metadata": {},
   "source": [
    "(L+M pg 131)\n",
    "\n",
    "Let's assume that we're moving to the right; then, because $X' \\gt X$, $\\psi_{a, \\space i+1/2} \\equiv \\psi_a(X')$ and $\\psi_{a, \\space i-1/2} \\equiv \\psi_a(X)$. If we plug these into the above, we arrive at the following, where $X' \\equiv i+1/2$ and $X \\equiv i-1/2$.\n",
    "\n",
    "$$\n",
    "\\psi_{a, \\space i+1/2} = \\psi_{a, \\space i-1/2}e^{\\frac{\\Sigma_t}{\\mu_a}\\left((i+1/2)-(i-1/2)\\right)}\n",
    "$$\n",
    "\n",
    "Here, $\\left(i+1/2)-(i-1/2)\\right)$ is the mesh spacing, $\\Delta_i$.\n",
    " \n",
    "$$\n",
    "\\psi_{a, \\space i+1/2} = \\psi_{a, \\space i-1/2}e^{\\frac{\\Sigma_t}{\\mu_a}\\Delta_i}\n",
    "$$\n",
    "\n",
    "We can directly substitute $h$ into the above to find that:\n",
    "\n",
    "$$\n",
    "\\psi_{a, \\space i+1/2} = \\psi_{a, \\space i-1/2}e^{-2h}\n",
    "$$"
   ]
  },
  {
   "cell_type": "markdown",
   "metadata": {},
   "source": [
    "**(c) Plug the relationship you just found into the 1-D diamond difference equations $\\boldsymbol{(\\alpha = 0)}$. Manipulate those to get another expression for $\\boldsymbol{\\psi_{a, \\space i+1/2}}$ in terms of $\\boldsymbol{\\psi_{a, \\space i-1/2}}$ and $\\boldsymbol{h}$.**"
   ]
  },
  {
   "cell_type": "markdown",
   "metadata": {},
   "source": [
    "I'm not sure why we're asked to plug the relationship from (b) into the 1-D DD equations; if we do that, it'll be impossible to get another expression for $\\psi_{a, \\space i+1/2}$ in terms of $\\psi_{a, \\space i-1/2}$ and $h$ because we'll have eliminated one or the other by substitution. Doing so yields:\n",
    "\n",
    "$$\n",
    "\\frac{\\mu_a}{\\Delta_i}(e^{-2h}-1)\\psi_{a, i-1/2}+\n",
    "\\Sigma_{i}\\psi_{a, i} = 0\n",
    "$$\n",
    "\n",
    "$$\n",
    "\\psi_{a,i} =\\frac{1}{2}\\left(1+e^{-2h}\\right)\\psi_{a,\\space i-1/2}\n",
    "$$\n",
    "\n",
    "The diamond difference equations ($\\alpha = 0$) are (with 0 source):\n",
    "\n",
    "$$\n",
    "\\frac{\\mu_a}{\\Delta_i}(\\psi_{a, i+1/2}-\\psi_{a, i-1/2})+\n",
    "\\Sigma_{i}\\psi_{a, i} = 0\n",
    "$$\n",
    "\n",
    "$$\n",
    "\\psi_{a,i} =\\frac{1}{2}\\left(\\psi_{a, i+1/2}+\\psi_{a, i-1/2}\\right)\n",
    "$$\n",
    "\n",
    "These can be rearranged to eliminate $\\psi_{a,i}$\n",
    "\n",
    "$$\n",
    "\\frac{\\mu_a}{\\Delta_i}(\\psi_{a, i+1/2}-\\psi_{a, i-1/2})+\n",
    "\\frac{1}{2}\\Sigma_{i}\\left(\\psi_{a, i+1/2}+\\psi_{a, i-1/2}\\right) = 0\n",
    "$$\n",
    "\n",
    "Further rearranging,\n",
    "\n",
    "$$\n",
    "\\frac{\\mu_a}{\\Delta_i}\\psi_{a, i+1/2}-\\frac{\\mu_a}{\\Delta_i}\\psi_{a, i-1/2}+\n",
    "\\frac{1}{2}\\Sigma_{i}\\psi_{a, i+1/2}+\\frac{1}{2}\\Sigma_{i}\\psi_{a, i-1/2} = 0\n",
    "$$\n",
    "\n",
    "$$\n",
    "\\frac{\\mu_a}{\\Delta_i}\\psi_{a, i+1/2}+\\frac{1}{2}\\Sigma_{i}\\psi_{a, i+1/2} = \n",
    "\\frac{\\mu_a}{\\Delta_i}\\psi_{a, i-1/2} - \\frac{1}{2}\\Sigma_{i}\\psi_{a, i-1/2}\n",
    "$$\n",
    "\n",
    "$$\n",
    "\\left(\\frac{\\mu_a}{\\Delta_i}+\\frac{\\Sigma_{i}}{2}\\right)\\psi_{a, i+1/2} = \n",
    "\\left(\\frac{\\mu_a}{\\Delta_i}-\\frac{\\Sigma_{i}}{2}\\right)\\psi_{a, i-1/2}\n",
    "$$\n",
    "\n",
    "Multiplying both sides by $\\frac{\\Delta_i}{\\mu_a}$:\n",
    "\n",
    "$$\n",
    "\\left(1+\\frac{\\Sigma_{i}\\Delta_i}{2\\mu_a}\\right)\\psi_{a, i+1/2} = \n",
    "\\left(1-\\frac{\\Sigma_{i}\\Delta_i}{2\\mu_a}\\right)\\psi_{a, i-1/2}\n",
    "$$\n",
    "\n",
    "We can say that in this case, $\\mu_a = |\\mu_a|$ because we've defined that $X' \\gt X$, so $\\mu_a$ is positive. Therefore, we can substitute in the definition for $h$:\n",
    "\n",
    "$$\n",
    "\\left(1+h\\right)\\psi_{a, i+1/2} = \n",
    "\\left(1-h\\right)\\psi_{a, i-1/2}\n",
    "$$\n",
    "\n",
    "$$\n",
    "\\psi_{a, i+1/2} = \\frac{\\left(1-h\\right)}{\\left(1+h\\right)}\\psi_{a, i-1/2}\n",
    "$$"
   ]
  },
  {
   "cell_type": "markdown",
   "metadata": {},
   "source": [
    "**(d) Look again at your solution from part b. Expand the exponential in a power series through the $\\boldsymbol{h^2}$ term and show that it is the same as your solution from part c. What does that mean about the accuracy of the relationship?**"
   ]
  },
  {
   "cell_type": "markdown",
   "metadata": {},
   "source": [
    "An exponential function can be defined by the power series\n",
    "\n",
    "$$\n",
    "e^x = \\sum_{n=0}^{\\infty}\\frac{x^n}{n!} \n",
    "= 1 + x + \\frac{x^2}{2!} + \\frac{x^3}{3!} + \\frac{x^4}{4!} + \\dots\n",
    "$$\n",
    "\n",
    "In this way, we can expand the result from part b ($\\psi_{a, \\space i+1/2} = \\psi_{a, \\space i-1/2}e^{-2h}$) about the exponential through the $h^2$ term.\n",
    "\n",
    "$$\n",
    "\\psi_{a, \\space i+1/2} = \\psi_{a, \\space i-1/2}\n",
    "\\left[1+(-2h)+\\frac{(-2h)^2}{2!}\\right]\n",
    "$$\n",
    "\n",
    "$$\n",
    "\\psi_{a,\\space i+1/2}=\\psi_{a,\\space i-1/2}\\left[1-2h+2h^2\\right]\n",
    "$$\n",
    "\n",
    "To see the comparison with the result from part c, we can expand the expression in that result in a Taylor series.\n",
    "\n",
    "$$\n",
    "\\frac{h-1}{h+1} = 1 - 2h + 2h^2 + \\cdots\n",
    "$$\n",
    "\n",
    "The two are exact up through the $O(h^2)$ term. This indicates that the relationship is a second-order accurate $O(h^2)$ method."
   ]
  },
  {
   "cell_type": "markdown",
   "metadata": {},
   "source": [
    "**(e) Look carefully at the expression for $\\boldsymbol{\\psi_{a, \\space i+1/2}}$. What is a condition on $\\boldsymbol{h}$ that would guarantee that the flux would be positive? What does that mean about mesh spacing given the smallest $\\boldsymbol{\\mu_a}$ in a set and a specific $\\boldsymbol{\\Sigma_t}$?**"
   ]
  },
  {
   "cell_type": "markdown",
   "metadata": {},
   "source": [
    "For $h > 1$, it is clear that negative fluxes will result. Using $h << 1$ is desirable but might not be feasible if the cross sections are large or high-order $S_N$ calculations are necessary such that small values of $|\\mu_a|$ are included in the quadrature; in both cases, a very small mesh is required. To guarantee that there will be no negative fluxes, the mesh size must decrease as the $S_N$ order increases. The mesh size on mean free paths must meet the criterion\n",
    "\n",
    "$$\n",
    "\\frac{\\Delta}{\\lambda} < 2|\\mu_1|\n",
    "$$\n",
    "\n",
    "where $|\\mu_1|$ is taken as the minimum value of $\\mu$ in the quadrature set."
   ]
  },
  {
   "cell_type": "markdown",
   "metadata": {},
   "source": [
    "**3. Write a piece of code that implements the 1-D, one-speed, steady state, weighted diamond difference equations; include scattering and an external source. Use $\\boldsymbol{\\psi(0) = 2.0}$ for $\\boldsymbol{\\mu \\gt 0}$; non-reentrant boundary condition at $\\boldsymbol{x = 0.0}$ and a reflecting boundary at $\\boldsymbol{x = 2.0}$. For this case assume isotropic scattering.**"
   ]
  },
  {
   "cell_type": "markdown",
   "metadata": {},
   "source": [
    "For this problem, we want to set up the equation $\\boldsymbol{L}\\psi = q$, where $\\boldsymbol{L}$ is a lower triangular matrix that operates on the spatially-ordered vector of $\\psi$ flux values in one angle. The emission vector $q$ includes the outgoing flux from the previous cell and the source neutrons in the current cell and is similarly ordered.\n",
    "\n",
    "To solve this system of equations, we march through space and solve as we go. When we get to the boundary, because this is a 1-D slab with one reflecting boundary, we simply set $\\mu_2 = -\\mu_1$ and let the incoming flux from that boundary in direction $\\mu_2$ be the outgoing flux in direction $\\mu_1$.\n"
   ]
  },
  {
   "cell_type": "code",
   "execution_count": 149,
   "metadata": {
    "collapsed": true
   },
   "outputs": [],
   "source": [
    "%matplotlib inline\n",
    "import matplotlib.pyplot as plt\n",
    "import numpy as np"
   ]
  },
  {
   "cell_type": "code",
   "execution_count": null,
   "metadata": {
    "collapsed": true
   },
   "outputs": [],
   "source": [
    "%%javascript\n",
    "IPython.OutputArea.auto_scroll_threshold = 9999;"
   ]
  },
  {
   "cell_type": "code",
   "execution_count": 228,
   "metadata": {
    "collapsed": false
   },
   "outputs": [],
   "source": [
    "# Function that solves for the flux over the spatial mesh, given inputs\n",
    "def wdd(xmin, xmax, h, alpha, sigma_t, sigma_s, ext_source, muVector, qs_tol = 1e-5):\n",
    "    ######################################################################################\n",
    "    # SUPPORTING FUNCTIONS FOR THE MAIN WDD FUNCTION\n",
    "    #------------------------------------------------------------------------------------#\n",
    "    def center_flux(incomingFlux, source, xs, alpha, h, mu):\n",
    "        # returns the cell-centered flux from a single mesh cell\n",
    "        if(mu > 0):\n",
    "            cellCenteredFlux = (source+(2*abs(mu)*(incomingFlux)/(1+alpha)/h))\n",
    "            /(xs+(2*abs(mu)/(1+alpha)/h))\n",
    "        if(mu < 0):\n",
    "            cellCenteredFlux = (source+(2*abs(mu)*(incomingFlux)/(1-alpha)/h))\n",
    "            /(xs+(2*abs(mu)/(1-alpha)/h))\n",
    "        return(cellCenteredFlux)\n",
    "    #------------------------------------------------------------------------------------#\n",
    "    def outgoing_flux(incomingFlux, cellCenteredFlux, source, xs, alpha, h, mu):\n",
    "        # returns the outgoing flux from a single mesh cell\n",
    "        if(mu > 0):\n",
    "            outgoingFlux = 2*cellCenteredFlux/(1+alpha)-(1-alpha)*incomingFlux/(1+alpha)\n",
    "        if(mu < 0):\n",
    "            outgoingFlux = 2*cellCenteredFlux/(1-alpha)-(1+alpha)*incomingFlux/(1-alpha)   \n",
    "        return(outgoingFlux) \n",
    "    #------------------------------------------------------------------------------------#\n",
    "    def mesh(xmin, xmax, h):\n",
    "        # determine cell-center x values\n",
    "        nCells = int((xmax-xmin)/h)\n",
    "        cellCenters = np.zeros(nCells)\n",
    "        for i in range(0, nCells):\n",
    "            cellCenters[i] = round((i+1)*h-(h/2.0), 4)\n",
    "        return(cellCenters)\n",
    "    #------------------------------------------------------------------------------------#\n",
    "    def quad_int(fluxes, wts):\n",
    "        # returns sum_a=1^N(psi_a*w_a)\n",
    "        for i in range(0, len(fluxes)):\n",
    "            fluxes[i]=wts[i]*fluxes[i]\n",
    "        return(np.sum(fluxes, axis=0))\n",
    "    #------------------------------------------------------------------------------------#\n",
    "    def scattering_sources(xs_s, fluxes, wts):\n",
    "        # returns the scattering source in each mesh cell\n",
    "        # qs = (Sigma_s/4pi)*2pi+sum_a=1^N(psi_a*w_a)\n",
    "        fluxes = quad_int(fluxes, wts)\n",
    "        return((xs_s/2.0)*fluxes)\n",
    "    #------------------------------------------------------------------------------------#\n",
    "    # returns a single iteration for flux in both directions given mu\n",
    "    def wdd_iter(cells, h, sigma_t, source, mu):\n",
    "        # sweep to the left\n",
    "        mu = abs(mu)\n",
    "        lFlux = np.zeros(len(cells))\n",
    "        hFlux = 2.0 # incoming flux at the left bound\n",
    "        for i in range(0, len(lFlux)):\n",
    "            lFlux[i] = center_flux(hFlux, source[i], sigma_t, alpha, h, mu)\n",
    "            hFlux = outgoing_flux(hFlux, lFlux[i], source, sigma_t, alpha, h, mu)\n",
    "        #-----------------------------------------------------------------------#\n",
    "        # sweep to the right\n",
    "        mu = -abs(mu)\n",
    "        rFlux = np.zeros(len(cells))\n",
    "        # incoming flux at the RHS is the outgoing flux from opp. dir.\n",
    "        for i in range(0, len(rFlux))[::-1]:\n",
    "            rFlux[i] = center_flux(hFlux, source[i], sigma_t, alpha, h, mu)\n",
    "            hFlux = outgoing_flux(hFlux, rFlux[i], source, sigma_t, alpha, h, mu)\n",
    "        return(lFlux, rFlux)\n",
    "    ######################################################################################\n",
    "    # MAIN WDD FUNCTION\n",
    "    #------------------------------------------------------------------------------------#\n",
    "    # Initiate vector of x values for the center of cells\n",
    "    cells = mesh(xmin, xmax, h)\n",
    "    flux = {}\n",
    "    for mu in muVector:\n",
    "        flux[mu]=np.zeros(len(cells))\n",
    "        flux[-mu]=np.zeros(len(cells))\n",
    "    # determine the weights\n",
    "    weights = np.ones(2*len(muVector))*2.0/len(muVector)\n",
    "    #------------------------------------------------------------------------------------#\n",
    "    error = 1.0 # arbitrary\n",
    "    counter = 0 # iteration counter\n",
    "    while(error > qs_tol):\n",
    "        counter = counter+1\n",
    "        s_source_old = scattering_sources(sigma_s, flux.values(), weights)\n",
    "        source = ext_source+s_source_old\n",
    "        for mu in muVector:\n",
    "            flux[mu], flux[-mu]=wdd_iter(cells, h, sigma_t, source, mu)\n",
    "        s_source_new = scattering_sources(sigma_s, flux.values(), weights)\n",
    "        error = np.linalg.norm(s_source_new - s_source_old)\n",
    "    #------------------------------------------------------------------------------------#\n",
    "    flux = quad_int(flux.values(), weights)\n",
    "    print('convergence reached in '+str(counter)+' iteration(s).')\n",
    "    return(cells, flux)"
   ]
  },
  {
   "cell_type": "markdown",
   "metadata": {},
   "source": [
    "**(a) Explore negative flux: use the following values:**\n",
    "* $\\boldsymbol{\\alpha = 0}$\n",
    "* $\\boldsymbol{\\mu_a = \\pm 0.1}$\n",
    "* $\\boldsymbol{\\Sigma_t = 1.0}$\n",
    "* $\\boldsymbol{\\Sigma_s = 0}$\n",
    "* $\\boldsymbol{q_e(x) = 0}$\n",
    "* **mesh spacings: $\\boldsymbol{h = [0.08, 0.1, 0.125, 0.2, 0.4]}$.**\n",
    "\n",
    "**Plot the cell-centered scalar flux that results from each mesh spacing. What do you notice? How does that compare with your conclusion from the previous problem?**"
   ]
  },
  {
   "cell_type": "code",
   "execution_count": 247,
   "metadata": {
    "collapsed": false
   },
   "outputs": [
    {
     "name": "stdout",
     "output_type": "stream",
     "text": [
      "convergence reached in 1 iteration(s).\n",
      "convergence reached in 1 iteration(s).\n",
      "convergence reached in 1 iteration(s).\n",
      "convergence reached in 1 iteration(s).\n",
      "convergence reached in 1 iteration(s).\n"
     ]
    },
    {
     "data": {
      "image/png": "[encoded data removed]",
      "text/plain": [
       "<matplotlib.figure.Figure at 0x112d84210>"
      ]
     },
     "metadata": {},
     "output_type": "display_data"
    },
    {
     "data": {
      "image/png": "[encoded data removed]",
      "text/plain": [
       "<matplotlib.figure.Figure at 0x112e67350>"
      ]
     },
     "metadata": {},
     "output_type": "display_data"
    },
    {
     "data": {
      "image/png": "[encoded data removed]",
      "text/plain": [
       "<matplotlib.figure.Figure at 0x112584d50>"
      ]
     },
     "metadata": {},
     "output_type": "display_data"
    },
    {
     "data": {
      "image/png": "[encoded data removed]",
      "text/plain": [
       "<matplotlib.figure.Figure at 0x1137a0410>"
      ]
     },
     "metadata": {},
     "output_type": "display_data"
    },
    {
     "data": {
      "image/png": "[encoded data removed]",
      "text/plain": [
       "<matplotlib.figure.Figure at 0x11288c350>"
      ]
     },
     "metadata": {},
     "output_type": "display_data"
    }
   ],
   "source": [
    "# INPUT DATA\n",
    "xmin = 0.0\n",
    "xmax = 2.0\n",
    "h = [0.08, 0.1, 0.125, 0.2, 0.4]\n",
    "alpha = 0.0\n",
    "sigma_t = 1.0\n",
    "sigma_s = 0.0\n",
    "externalSource = 0.0\n",
    "mu = [0.1] # assume plus or minus\n",
    "for sp in h:\n",
    "    xPoints, fluxVals = wdd(xmin, xmax, sp, alpha, sigma_t, sigma_s, externalSource, mu)\n",
    "    plt.figure()\n",
    "    plt.plot(xPoints, fluxVals)\n",
    "    plt.xlabel('x', size = 'large')\n",
    "    plt.ylabel('flux', size = 'large')\n",
    "    plt.figtext(0.7, 0.7, 'h = '+str(sp), size = 'x-large')"
   ]
  },
  {
   "cell_type": "markdown",
   "metadata": {},
   "source": [
    "It is apparent that as the mesh spacing gets larger, the solution for flux becomes more and more coarse until a negative flux results when $h = 0.4$. In the previous question, the condition that guaranteed no negative fluxes was that $\\frac{\\Delta}{\\lambda} < 2|\\mu_1|$. In this case, $\\lambda = \\frac{1}{1} = 1$, so $\\Delta$ must be smaller than 0.2 to guarantee positive flux. Indeed, we see that when $h = 0.2$, the flux is zero for most of the space.\n",
    " \n"
   ]
  },
  {
   "cell_type": "markdown",
   "metadata": {},
   "source": [
    "**(b) Impact of $\\boldsymbol{\\alpha}$: try $\\boldsymbol{\\alpha = [-0.9, -0.5, 0.25, 0.5, 0.9]}$. What happens?**"
   ]
  },
  {
   "cell_type": "markdown",
   "metadata": {
    "collapsed": true
   },
   "source": [
    "We're going to assume for part (b) that the mesh spacing is constant - we'll look at two mesh spacings in particular: $h = [0.125, 0.4]$. What I want to see is how $\\alpha$ affects the answer when the mesh spacing is too big and when it's an okay value."
   ]
  },
  {
   "cell_type": "code",
   "execution_count": 369,
   "metadata": {
    "collapsed": false
   },
   "outputs": [
    {
     "name": "stdout",
     "output_type": "stream",
     "text": [
      "convergence reached in 1 iteration(s).\n",
      "convergence reached in 1 iteration(s).\n",
      "convergence reached in 1 iteration(s).\n",
      "convergence reached in 1 iteration(s).\n",
      "convergence reached in 1 iteration(s).\n"
     ]
    },
    {
     "data": {
      "text/plain": [
       "<matplotlib.text.Text at 0x11dd2ba50>"
      ]
     },
     "execution_count": 369,
     "metadata": {},
     "output_type": "execute_result"
    },
    {
     "data": {
      "image/png": "[encoded data removed]",
      "text/plain": [
       "<matplotlib.figure.Figure at 0x11cfa3c10>"
      ]
     },
     "metadata": {},
     "output_type": "display_data"
    }
   ],
   "source": [
    "# INPUT DATA\n",
    "xmin = 0.0\n",
    "xmax = 2.0\n",
    "#h = 0.125\n",
    "h = 0.125\n",
    "alpha = [-0.9, -0.5, 0.25, 0.5, 0.9]\n",
    "sigma_t = 1.0\n",
    "sigma_s = 0.0\n",
    "externalSource = 0.0\n",
    "mu = [0.1] # assume plus or minus\n",
    "#------------------------------------------------------------------------------------#\n",
    "fig, axs = plt.subplots(5,1, figsize=(6, 15), sharex = True, facecolor='w', edgecolor='k')\n",
    "fig.subplots_adjust(hspace = .1, wspace=.001)\n",
    "axs = axs.ravel()\n",
    "#------------------------------------------------------------------------------------#\n",
    "for j in range(0,len(alpha)):\n",
    "    xPoints, fluxVals= wdd(xmin, xmax, h, alpha[j], sigma_t, sigma_s, externalSource, mu)\n",
    "    axs[j].plot(xPoints, fluxVals)\n",
    "    axs[j].annotate('alpha = '+str(alpha[j]), xy=(0.97, 0.75), xycoords='axes fraction', \n",
    "             fontsize=14, horizontalalignment='right', verticalalignment='bottom')\n",
    "#------------------------------------------------------------------------------------#\n",
    "# add a big axes, hide frame\n",
    "fig.add_subplot(111, frameon=False)\n",
    "# hide tick and tick label of the big axes\n",
    "plt.tick_params(labelcolor='none', top='off', bottom='off', left='off', right='off')\n",
    "plt.xlabel(\"X\", fontsize = 14)\n",
    "plt.ylabel(\"FLUX\", fontsize = 14)\n",
    "fig.suptitle('h = '+str(h), fontsize = 18)"
   ]
  },
  {
   "cell_type": "markdown",
   "metadata": {},
   "source": [
    "Small $\\alpha$ is bad. Big $\\alpha$ is good! It can even compensate for the large mesh spacing in terms of flux shape. There is variability in magnitude as well. As $\\alpha$ increases, we see (what I might ignorantly describe as) a convergence in the bounds of the y-axis."
   ]
  },
  {
   "cell_type": "markdown",
   "metadata": {},
   "source": [
    "**(c) Real results? Now try adding a source:**\n",
    "* $\\boldsymbol{\\alpha = [-0.5, 0, 0.5}$**; feel free to try others**\n",
    "* $\\boldsymbol{\\mu_a = \\pm [0.2, 0.7]}$\n",
    "* $\\boldsymbol{\\Sigma_t = 1.0}$\n",
    "* $\\boldsymbol{\\Sigma_s = 0.5}$\n",
    "* $\\boldsymbol{q_e(x) = 1.0}$\n",
    "\n",
    "**Report the results**."
   ]
  },
  {
   "cell_type": "code",
   "execution_count": 374,
   "metadata": {
    "collapsed": false
   },
   "outputs": [
    {
     "name": "stdout",
     "output_type": "stream",
     "text": [
      "convergence reached in 141 iteration(s).\n",
      "convergence reached in 141 iteration(s).\n",
      "convergence reached in 141 iteration(s).\n"
     ]
    },
    {
     "data": {
      "text/plain": [
       "<matplotlib.text.Text at 0x11f141fd0>"
      ]
     },
     "execution_count": 374,
     "metadata": {},
     "output_type": "execute_result"
    },
    {
     "data": {
      "image/png": "[encoded data removed]",
      "text/plain": [
       "<matplotlib.figure.Figure at 0x11ee3abd0>"
      ]
     },
     "metadata": {},
     "output_type": "display_data"
    }
   ],
   "source": [
    "# INPUT DATA\n",
    "xmin = 0.0\n",
    "xmax = 2.0\n",
    "h = 0.4\n",
    "alpha = [-0.5, 0.0, 0.5]\n",
    "sigma_t = 1.0\n",
    "sigma_s = 0.5\n",
    "externalSource = 1.0\n",
    "mu = [0.2, 0.7] # plus and minus is assumed\n",
    "#------------------------------------------------------------------------------------#\n",
    "fig, axs = plt.subplots(len(alpha),1, figsize=(6, 8), sharex = True, facecolor='w', edgecolor='k')\n",
    "fig.subplots_adjust(hspace = .1, wspace=.001)\n",
    "axs = axs.ravel()\n",
    "#------------------------------------------------------------------------------------#\n",
    "for j in range(0,len(alpha)):\n",
    "    xPoints, fluxVals= wdd(xmin, xmax, h, alpha[j], sigma_t, sigma_s, externalSource, mu)\n",
    "    axs[j].plot(xPoints, fluxVals)\n",
    "    axs[j].annotate('alpha = '+str(alpha[j]), xy=(0.97, 0.25), xycoords='axes fraction', \n",
    "             fontsize=14, horizontalalignment='right', verticalalignment='bottom')\n",
    "#------------------------------------------------------------------------------------#\n",
    "# add a big axes, hide frame\n",
    "fig.add_subplot(111, frameon=False)\n",
    "# hide tick and tick label of the big axes\n",
    "plt.tick_params(labelcolor='none', top='off', bottom='off', left='off', right='off')\n",
    "plt.xlabel(\"X\", fontsize = 14)\n",
    "plt.ylabel(\"FLUX\", fontsize = 14)\n",
    "fig.suptitle('h = '+str(h), fontsize = 18)"
   ]
  },
  {
   "cell_type": "markdown",
   "metadata": {},
   "source": [
    "The external source causes a difference in flux shape. Now, the majority of neutrons are coming from inside the bounds, whereas before all incoming neutrons were those entering from the left boundary. Even though those neutrons are still entering, the left boundary has a vacuum boundary condition for neutrons travelling to the left, so the flux is lower there than it is at the reflecting boundary at the right.\n",
    "\n",
    "For all values of $h$, there is not a lot of variation in flux shape as $\\alpha$ changes, even when the mesh spacing is large. When $h = 0.4$ convergence is reached in the same number of iterations regardless of the value of $\\alpha$."
   ]
  },
  {
   "cell_type": "markdown",
   "metadata": {},
   "source": [
    "**(d) What happens with $\\boldsymbol{\\alpha=0}$ and $\\boldsymbol{\\Sigma_s = 0.9}$?**"
   ]
  },
  {
   "cell_type": "code",
   "execution_count": 377,
   "metadata": {
    "collapsed": false
   },
   "outputs": [
    {
     "name": "stdout",
     "output_type": "stream",
     "text": [
      "convergence reached in 1847 iteration(s).\n"
     ]
    },
    {
     "name": "stderr",
     "output_type": "stream",
     "text": [
      "/Users/goldilockczech/Applications/anaconda2/lib/python2.7/site-packages/ipykernel/__main__.py:9: RuntimeWarning: overflow encountered in double_scalars\n",
      "/Users/goldilockczech/Applications/anaconda2/lib/python2.7/site-packages/ipykernel/__main__.py:19: RuntimeWarning: invalid value encountered in double_scalars\n"
     ]
    }
   ],
   "source": [
    "# INPUT DATA\n",
    "xmin = 0.0\n",
    "xmax = 2.0\n",
    "h = 0.08\n",
    "alpha = 0.0\n",
    "sigma_t = 1.0\n",
    "sigma_s = 0.9\n",
    "externalSource = 1.0\n",
    "mu = [0.2, 0.7] # plus and minus is assumed\n",
    "xPoints, fluxVals= wdd(xmin, xmax, h, alpha, sigma_t, sigma_s, externalSource, mu)"
   ]
  },
  {
   "cell_type": "markdown",
   "metadata": {},
   "source": [
    "With $\\alpha = 0$ and $\\Sigma_s = 0.9$, a runtime warning is produced: \"RuntimeWarning: invalid value encountered in double_scalars\". The result does not converge (when $\\Sigma_s = 0.8$ there is no output but supposedly convergence occurs in 1847 iterations)."
   ]
  },
  {
   "cell_type": "markdown",
   "metadata": {},
   "source": [
    "**4. Starting from the following general system of equations:**\n",
    "\n",
    "$$\n",
    "\\boldsymbol{\n",
    "\\frac{\\mu_a}{h_i}(\\psi_{a,i+1/2}^g-\\psi_{a,i-1/2}^g)+\n",
    "\\Sigma_{t,i}^g\\psi_{a,i}^g = \n",
    "\\\\=2\\pi\\sum_{a=1}^N w_a \\sum_{g'=1}^G\\Sigma_{s,i}^{gg'}(a' \\rightarrow a)\\psi_{a',i}^{g'}+\\frac{\\chi_g}{2}\\sum_{g'=1}^G \\nu_{g'}\\Sigma_{f,i}^{g'}\\phi_i^{g'}+\n",
    "\\frac{1}{2}Q_i^g\n",
    "}$$\n",
    "\n",
    "**...where $\\boldsymbol{\\phi}$ is the scalar flux, write a set of five coupled equations for a five-group problem. Assume neutrons can only downscatter from fast groups (1 and 2) to thermal groups (3, 4, and 5). Assume that thermal groups can upscatter into other thermal groups and can downscatter. Assume there is an external source and a fission source.**"
   ]
  },
  {
   "cell_type": "markdown",
   "metadata": {
    "collapsed": true
   },
   "source": [
    "To solve this problem, we need 5 equations coupled in energy subject to the assumptions provided in the problem statement. We'll assume that $i$ (the spatial index) and $a$ (the angle index) are fixed."
   ]
  },
  {
   "cell_type": "markdown",
   "metadata": {},
   "source": [
    "Group 1: Neutrons can't scatter into group 1, and downscattering is accounted for in the total interactions term. Neutrons can scatter from other angles $a'$ into angle $a$ while remaining in group 1. Fission neutrons born from fissions caused by neutrons in all energy groups can contribute neutrons into energy group 1, so the $g$ energy index remains in that term.\n",
    "\n",
    "$\\frac{\\mu_a}{h_i}(\\psi_{a,i+1/2}^1-\\psi_{a,i-1/2}^1)\n",
    "+\\Sigma_{t,i}^1\\psi_{a,i}^1\n",
    "=2\\pi\\sum_{a=1}^N w_a \\Sigma_{s,i}^{11}(a' \\rightarrow a)\\psi_{a',i}^{1}\n",
    "+\\frac{\\chi_1}{2}\\sum_{g'=1}^5 \\nu_{g'}\\Sigma_{f,i}^{g'}\\phi_i^{g'}\n",
    "+\\frac{1}{2}Q_i^1$"
   ]
  },
  {
   "cell_type": "markdown",
   "metadata": {},
   "source": [
    "Group 2: Only neutrons from group 1 can scatter into group 2. Downscattering is accounted for in the total interactions term. Fission neutrons born from fissions caused by neutrons in all energy groups can contribute neutrons into energy group 2, so the $g$ energy index remains in that term.\n",
    "\n",
    "$\\frac{\\mu_a}{h_i}(\\psi_{a,i+1/2}^2-\\psi_{a,i-1/2}^2)\n",
    "+\\Sigma_{t,i}^2\\psi_{a,i}^2\n",
    "=2\\pi\\sum_{a=1}^N w_a \\sum_{g'=1}^2\\Sigma_{s,i}^{2g'}(a' \\rightarrow a)\\psi_{a',i}^{g'}\n",
    "+\\frac{\\chi_2}{2}\\sum_{g'=1}^5 \\nu_{g'}\\Sigma_{f,i}^{g'}\\phi_i^{g'}\n",
    "+\\frac{1}{2}Q_i^2$"
   ]
  },
  {
   "cell_type": "markdown",
   "metadata": {},
   "source": [
    "Group 3: Neutrons from groups 1 and 2 can downscatter into group 3. Neutrons from thermal groups 4 and 5 can upscatter into group 3, and neutrons in group 3 but traveling in direction $a'$ can scatter into direction $a$. As such, the summation remains in this term over all energy groups. Neutrons born from fissions caused by neutrons in all energy groups can contribute neutrons into energy group 3, so the $g$ energy index remains in that term.\n",
    "\n",
    "$\\frac{\\mu_a}{h_i}(\\psi_{a,i+1/2}^3-\\psi_{a,i-1/2}^3)\n",
    "+\\Sigma_{t,i}^3\\psi_{a,i}^3\n",
    "=2\\pi\\sum_{a=1}^N w_a \\sum_{g'=1}^5\\Sigma_{s,i}^{3g'}(a' \\rightarrow a)\\psi_{a',i}^{g'}\n",
    "+\\frac{\\chi_3}{2}\\sum_{g'=1}^5 \\nu_{g'}\\Sigma_{f,i}^{g'}\\phi_i^{g'}\n",
    "+\\frac{1}{2}Q_i^3$"
   ]
  },
  {
   "cell_type": "markdown",
   "metadata": {},
   "source": [
    "Group 4: Again, neutrons from groups 1, 2, and 3 can downscatter into group 4 while neutrons from group 5 can upscatter into group 4. Neutrons in group 4 but traveling in direction $a'$ can scatter into direction $a$ while remaining in group 4. As such, the summation remains in this term over all energy groups. Neutrons born from fissions caused by neutrons in all energy groups can contribute neutrons into energy group 4, so the $g$ energy index remains in that term.\n",
    "\n",
    "$\\frac{\\mu_a}{h_i}(\\psi_{a,i+1/2}^4-\\psi_{a,i-1/2}^4)\n",
    "+\\Sigma_{t,i}^4\\psi_{a,i}^4\n",
    "=2\\pi\\sum_{a=1}^N w_a \\sum_{g'=1}^5\\Sigma_{s,i}^{4g'}(a' \\rightarrow a)\\psi_{a',i}^{g'}\n",
    "+\\frac{\\chi_4}{2}\\sum_{g'=1}^5 \\nu_{g'}\\Sigma_{f,i}^{g'}\\phi_i^{g'}\n",
    "+\\frac{1}{2}Q_i^4$"
   ]
  },
  {
   "cell_type": "markdown",
   "metadata": {},
   "source": [
    "Group 5: Finally, neutrons from all higher groups can downscatter into group 5. Neutrons in group 5 but traveling in direction $a'$ can scatter into direction $a$ while remaining in group 5, so the summation in the scattering term is over all energy groups. Neutrons born from fissions caused by neutrons in all energy groups can contribute neutrons into energy group 5, so the $g$ energy index remains in that term.\n",
    "\n",
    "$\\frac{\\mu_a}{h_i}(\\psi_{a,i+1/2}^5-\\psi_{a,i-1/2}^5)\n",
    "+\\Sigma_{t,i}^5\\psi_{a,i}^5\n",
    "=2\\pi\\sum_{a=1}^N w_a \\sum_{g'=1}^5\\Sigma_{s,i}^{5g'}(a' \\rightarrow a)\\psi_{a',i}^{g'}\n",
    "+\\frac{\\chi_5}{2}\\sum_{g'=1}^5 \\nu_{g'}\\Sigma_{f,i}^{g'}\\phi_i^{g'}\n",
    "+\\frac{1}{2}Q_i^5$"
   ]
  },
  {
   "cell_type": "code",
   "execution_count": null,
   "metadata": {
    "collapsed": true
   },
   "outputs": [],
   "source": []
  }
 ],
 "metadata": {
  "anaconda-cloud": {},
  "kernelspec": {
   "display_name": "Python [Root]",
   "language": "python",
   "name": "Python [Root]"
  },
  "language_info": {
   "codemirror_mode": {
    "name": "ipython",
    "version": 2
   },
   "file_extension": ".py",
   "mimetype": "text/x-python",
   "name": "python",
   "nbconvert_exporter": "python",
   "pygments_lexer": "ipython2",
   "version": "2.7.12"
  }
 },
 "nbformat": 4,
 "nbformat_minor": 0
}
